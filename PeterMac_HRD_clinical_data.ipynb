{
 "cells": [
  {
   "cell_type": "code",
   "execution_count": 1,
   "metadata": {},
   "outputs": [],
   "source": [
    "import pandas as pd\n",
    "import os\n",
    "import glob"
   ]
  },
  {
   "cell_type": "code",
   "execution_count": 2,
   "metadata": {},
   "outputs": [],
   "source": [
    "# Define the path to the source folder\n",
    "source_folder = './Resources/PeterMac_HRD_Clinical/'"
   ]
  },
  {
   "cell_type": "code",
   "execution_count": 3,
   "metadata": {},
   "outputs": [],
   "source": [
    "# Get filenames of files with 'sample' column\n",
    "qa_gi_file = glob.glob(source_folder + '*-combined_QA_GI_status.csv')\n",
    "lc_table_file = glob.glob(source_folder + '*-combined_LC_table.csv')\n",
    "cov_decay_file = glob.glob(source_folder + 'concat_cov_decay.csv')\n",
    "dup_frac_file = glob.glob(source_folder + 'concat_dup_frac.csv')"
   ]
  },
  {
   "cell_type": "code",
   "execution_count": 4,
   "metadata": {},
   "outputs": [],
   "source": [
    "# Get filename of files with 'episode'\n",
    "mids_ep_file = glob.glob(source_folder + '*-combined_MIDS_episode.csv')\n",
    "ee_dump_file = glob.glob(source_folder + 'HRD_Report_clean_EE_dump_*.csv')"
   ]
  },
  {
   "cell_type": "code",
   "execution_count": 5,
   "metadata": {},
   "outputs": [],
   "source": [
    "# Read CSV files into DataFrames\n",
    "qa_gi_df = pd.read_csv(qa_gi_file[0])\n",
    "lc_table_df = pd.read_csv(lc_table_file[0])\n",
    "cov_decay_df = pd.read_csv(cov_decay_file[0])\n",
    "dup_frac_df = pd.read_csv(dup_frac_file[0])\n",
    "mids_ep_df = pd.read_csv(mids_ep_file[0])\n",
    "ee_dump_df = pd.read_csv(ee_dump_file[0])"
   ]
  },
  {
   "cell_type": "code",
   "execution_count": 6,
   "metadata": {},
   "outputs": [],
   "source": [
    "# Merge DataFrames based on 'Sample' column\n",
    "sample_merged_df = pd.merge(qa_gi_df, lc_table_df, on='Sample')\n",
    "sample_merged_df = pd.merge(sample_merged_df, cov_decay_df, on='Sample')\n",
    "sample_merged_df = pd.merge(sample_merged_df, dup_frac_df, on='Sample')"
   ]
  },
  {
   "cell_type": "code",
   "execution_count": 7,
   "metadata": {},
   "outputs": [],
   "source": [
    "# Function to hyphenate episode number\n",
    "def hyphenate(episode):\n",
    "    ep_str = str(episode)\n",
    "    hyphen_ep = ep_str[:-4] + '-' + ep_str[-4:]\n",
    "    return hyphen_ep"
   ]
  },
  {
   "cell_type": "code",
   "execution_count": 8,
   "metadata": {},
   "outputs": [],
   "source": [
    "# Hyphenate mids_ep_df 'Episode'\n",
    "mids_ep_df['Episode'] = mids_ep_df['Episode'].apply(hyphenate)"
   ]
  },
  {
   "cell_type": "code",
   "execution_count": 9,
   "metadata": {},
   "outputs": [],
   "source": [
    "# Merge DataFrames based on 'Episode' column\n",
    "episode_merged_df = pd.merge(mids_ep_df, ee_dump_df, on='Episode')"
   ]
  },
  {
   "cell_type": "code",
   "execution_count": 10,
   "metadata": {},
   "outputs": [],
   "source": [
    "# Save merged DataFrames to CSV file\n",
    "sample_merged_df.to_csv(source_folder + 'merged_sample_data.csv', index=False)\n",
    "episode_merged_df.to_csv(source_folder + 'merged_episode_data.csv', index=False)"
   ]
  }
 ],
 "metadata": {
  "kernelspec": {
   "display_name": "bootcamp",
   "language": "python",
   "name": "python3"
  },
  "language_info": {
   "codemirror_mode": {
    "name": "ipython",
    "version": 3
   },
   "file_extension": ".py",
   "mimetype": "text/x-python",
   "name": "python",
   "nbconvert_exporter": "python",
   "pygments_lexer": "ipython3",
   "version": "3.10.9"
  },
  "orig_nbformat": 4
 },
 "nbformat": 4,
 "nbformat_minor": 2
}
