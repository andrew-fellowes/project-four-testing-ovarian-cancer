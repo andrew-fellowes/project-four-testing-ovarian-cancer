{
 "cells": [
  {
   "cell_type": "code",
   "execution_count": 1,
   "metadata": {},
   "outputs": [],
   "source": [
    "import pandas as pd"
   ]
  },
  {
   "cell_type": "code",
   "execution_count": 2,
   "metadata": {},
   "outputs": [],
   "source": [
    "df  = pd.read_csv('./Resources/PeterMac_HRD_Clinical/PeterMac_HRD_clinical_data.csv')"
   ]
  },
  {
   "cell_type": "code",
   "execution_count": 3,
   "metadata": {},
   "outputs": [
    {
     "name": "stdout",
     "output_type": "stream",
     "text": [
      "['Run', 'SampleID', 'Source', 'DaysOld', 'Purity', 'DDMSampleID', 'MIDS', 'TotalReads(M)', 'lpWGSReads(M)', 'TargetPanelReads(M)', '%ReadslpWGS', '%ReadsPanel', '1000x', '500x', '200x', '100x', '50x', '25x', 'DupFrac', 'LowCovRegions', 'PurityPloidyRatio', 'ResNoise', 'SignalNoiseRatio', 'QAStatus', 'Gene', 'Variant', '%VariantFraction', 'SOPHiAGIIndex', 'SophiaGIStatus']\n"
     ]
    }
   ],
   "source": [
    "correct_df = df.copy()\n",
    "print(correct_df.columns.tolist())"
   ]
  },
  {
   "cell_type": "code",
   "execution_count": 4,
   "metadata": {},
   "outputs": [
    {
     "name": "stdout",
     "output_type": "stream",
     "text": [
      "['Run', 'SampleID', 'Source', 'MonthsOld', 'Purity', 'SeqRunID', 'DDMSampleID', 'MIDS', 'TotalReads(M)', 'lpWGSReads(M)', 'TargetPanelReads(M)', '%ReadslpWGS', '%ReadsPanel', '1000x', '500x', '200x', '100x', '50x', '25x', 'DupFrac', 'LowCovRegions', 'PurityPloidyRatio', 'ResNoise', 'SignalNoiseRatio', 'QAStatus', 'Gene', 'Variant', '%VariantFraction', 'MyriadGIScore', 'MyriadGIStatus', 'SOPHiAGIIndex', 'SophiaGIStatus']\n"
     ]
    }
   ],
   "source": [
    "correct_df.insert(5, 'SeqRunID', df.iloc[:, 0])\n",
    "correct_df.rename(columns = {'DaysOld': 'MonthsOld'}, inplace = True)\n",
    "correct_df.insert(df.columns.get_loc(df.columns[-1]), 'MyriadGIStatus', '')\n",
    "correct_df.insert(df.columns.get_loc(df.columns[-1]), 'MyriadGIScore', '')\n",
    "print(correct_df.columns.tolist())\n"
   ]
  },
  {
   "cell_type": "code",
   "execution_count": 6,
   "metadata": {},
   "outputs": [],
   "source": [
    "correct_df.to_csv('./Resources/PeterMac_HRD_Clinical/correct_PeterMac_HRD_clinical_data.csv')"
   ]
  }
 ],
 "metadata": {
  "kernelspec": {
   "display_name": "bootcamp",
   "language": "python",
   "name": "python3"
  },
  "language_info": {
   "codemirror_mode": {
    "name": "ipython",
    "version": 3
   },
   "file_extension": ".py",
   "mimetype": "text/x-python",
   "name": "python",
   "nbconvert_exporter": "python",
   "pygments_lexer": "ipython3",
   "version": "3.10.9"
  },
  "orig_nbformat": 4
 },
 "nbformat": 4,
 "nbformat_minor": 2
}
