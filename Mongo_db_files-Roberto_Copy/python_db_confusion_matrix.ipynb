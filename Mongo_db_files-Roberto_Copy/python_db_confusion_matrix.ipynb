{
 "cells": [
  {
   "cell_type": "code",
   "execution_count": 1,
   "id": "e68c006b",
   "metadata": {},
   "outputs": [],
   "source": [
    "# Module used to connect Python with MongoDB\n",
    "from pymongo import MongoClient\n",
    "import json\n",
    "import pandas as pd\n",
    "from pprint import pprint\n",
    "import csv\n",
    "import os\n",
    "import re"
   ]
  },
  {
   "cell_type": "code",
   "execution_count": 2,
   "id": "3997cd6e",
   "metadata": {},
   "outputs": [],
   "source": [
    "# Create an instance of MongoClient\n",
    "mongo = MongoClient(port=27017)"
   ]
  },
  {
   "cell_type": "code",
   "execution_count": 3,
   "id": "d8bc7419",
   "metadata": {},
   "outputs": [
    {
     "name": "stdout",
     "output_type": "stream",
     "text": [
      "['admin', 'autosaurus', 'classDB', 'config', 'epa', 'fruits_db', 'local', 'met', 'petsitly_marketing', 'sofia_test_model', 'uk_food']\n"
     ]
    }
   ],
   "source": [
    "# confirm that our new database was created\n",
    "print(mongo.list_database_names())"
   ]
  },
  {
   "cell_type": "code",
   "execution_count": 4,
   "id": "3f2d18da",
   "metadata": {},
   "outputs": [],
   "source": [
    "# assign the database to a variable name\n",
    "db = mongo['sofia_test_model']"
   ]
  },
  {
   "cell_type": "code",
   "execution_count": 5,
   "id": "024f9bcb",
   "metadata": {},
   "outputs": [],
   "source": [
    "# assign the collection to a variable\n",
    "confusion = db['confusion_matrix']\n",
    "#print(db.list_collection_names())"
   ]
  },
  {
   "cell_type": "code",
   "execution_count": 6,
   "id": "2de68f98",
   "metadata": {},
   "outputs": [],
   "source": [
    "# import csv\n",
    "csv_file_path = 'Resources_MongoDB'  # Replace with the actual path to your CSV file\n",
    "file_to_import = input(\"Enter the filename you want to import (e.g., file1.csv: \")\n",
    "file_path = os.path.join(csv_file_path, file_to_import)\n",
    "\n"
   ]
  },
  {
   "cell_type": "code",
   "execution_count": 8,
   "id": "220504ad",
   "metadata": {},
   "outputs": [
    {
     "name": "stdout",
     "output_type": "stream",
     "text": [
      "Data imported successfully into MongoDB.\n"
     ]
    }
   ],
   "source": [
    "if os.path.exists(file_path) and file_to_import.endswith('.csv'):\n",
    "    # Step 2: Extract the date from the filename\n",
    "    match = re.search(r'(\\d{8}_\\d{6})', file_to_import)\n",
    "    if match:\n",
    "        date_str = match.group(1)\n",
    "\n",
    "        # Step 3: Read and parse the confusion matrix data from the CSV file with tab as delimiter\n",
    "        with open(file_path, 'r') as csvfile:\n",
    "            csv_reader = csv.reader(csvfile, delimiter=',')\n",
    "            matrix_data = list(csv_reader)\n",
    "\n",
    "        # Step 4: Organize confusion matrix data into a dictionary\n",
    "        confusion_data = {\n",
    "            \"True\": {\n",
    "                \"Positive\": float(matrix_data[0][0]),\n",
    "                \"Negative\": float(matrix_data[0][1])\n",
    "            },\n",
    "            \"False\": {\n",
    "                \"Positive\": float(matrix_data[1][0]),\n",
    "                \"Negative\": float(matrix_data[1][1])\n",
    "            }\n",
    "        }\n",
    "\n",
    "        # Step 5: Create a nested dictionary with the \"score\" category\n",
    "        nested_data = {\n",
    "            \"date\": date_str,\n",
    "            \"score\": confusion_data\n",
    "        }\n",
    "\n",
    "        # Step 6: Insert the nested dictionary into MongoDB\n",
    "        confusion.insert_one(nested_data)\n",
    "\n",
    "        print(\"Data imported successfully into MongoDB.\")"
   ]
  },
  {
   "cell_type": "code",
   "execution_count": null,
   "id": "8e0f6908",
   "metadata": {},
   "outputs": [
    {
     "name": "stdout",
     "output_type": "stream",
     "text": [
      "['loss_accuracy', 'processed_test_data', 'confusion_matrix', 'epoch_test_results', 'processed_data']\n",
      "{'_id': ObjectId('64cf7c5b552c1dba75ef082d'),\n",
      " 'date': '20230806_100824',\n",
      " 'score': {'False': {'Negative': 20.0, 'Positive': 0.0},\n",
      "           'True': {'Negative': 7.0, 'Positive': 1.0}}}\n"
     ]
    }
   ],
   "source": [
    "\n",
    "print(db.list_collection_names())\n",
    "\n",
    "pprint(confusion.find_one())\n"
   ]
  },
  {
   "cell_type": "code",
   "execution_count": null,
   "id": "a777636a",
   "metadata": {},
   "outputs": [],
   "source": [
    "\n"
   ]
  }
 ],
 "metadata": {
  "kernelspec": {
   "display_name": "myenvpandas",
   "language": "python",
   "name": "python3"
  },
  "language_info": {
   "codemirror_mode": {
    "name": "ipython",
    "version": 3
   },
   "file_extension": ".py",
   "mimetype": "text/x-python",
   "name": "python",
   "nbconvert_exporter": "python",
   "pygments_lexer": "ipython3",
   "version": "3.10.9"
  }
 },
 "nbformat": 4,
 "nbformat_minor": 5
}
