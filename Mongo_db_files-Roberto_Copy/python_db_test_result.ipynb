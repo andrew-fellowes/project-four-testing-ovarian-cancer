{
 "cells": [
  {
   "cell_type": "markdown",
   "id": "a659381b",
   "metadata": {},
   "source": [
    "# Model Test Results by Epoch"
   ]
  },
  {
   "cell_type": "code",
   "execution_count": 115,
   "id": "d3b3a05d",
   "metadata": {},
   "outputs": [],
   "source": [
    "# Module used to connect Python with MongoDB\n",
    "from pymongo import MongoClient\n",
    "from datetime import datetime\n",
    "import json\n",
    "import pandas as pd\n",
    "from pprint import pprint\n",
    "import os\n",
    "import csv\n",
    "import re"
   ]
  },
  {
   "cell_type": "code",
   "execution_count": 116,
   "id": "3997cd6e",
   "metadata": {},
   "outputs": [],
   "source": [
    "# Create an instance of MongoClient\n",
    "mongo = MongoClient(port=27017)"
   ]
  },
  {
   "cell_type": "code",
   "execution_count": 117,
   "id": "d8bc7419",
   "metadata": {},
   "outputs": [
    {
     "name": "stdout",
     "output_type": "stream",
     "text": [
      "['admin', 'autosaurus', 'classDB', 'config', 'epa', 'fruits_db', 'local', 'met', 'petsitly_marketing', 'sofia_test_model', 'uk_food']\n"
     ]
    }
   ],
   "source": [
    "# confirm that our new database was created\n",
    "print(mongo.list_database_names())"
   ]
  },
  {
   "cell_type": "code",
   "execution_count": 118,
   "id": "3f2d18da",
   "metadata": {},
   "outputs": [],
   "source": [
    "# assign the database to a variable name\n",
    "db = mongo['sofia_test_model']"
   ]
  },
  {
   "cell_type": "code",
   "execution_count": 119,
   "id": "024f9bcb",
   "metadata": {},
   "outputs": [],
   "source": [
    "# assign the collection to a variable\n",
    "epoch_test_results = db['epoch_test_results']"
   ]
  },
  {
   "cell_type": "code",
   "execution_count": 120,
   "id": "2de68f98",
   "metadata": {},
   "outputs": [
    {
     "name": "stdout",
     "output_type": "stream",
     "text": [
      "Data imported successfully into MongoDB.\n"
     ]
    }
   ],
   "source": [
    "# Step 2: Read and modify JSON data\n",
    "\n",
    "json_dir = 'Resources_MongoDB'\n",
    "\n",
    "# Prompt the user to enter the filename they want to import\n",
    "file_to_import = input(\"Enter the filename you want to import (e.g., file1.json): \")\n",
    "\n",
    "\n",
    "all_data = []\n",
    "for file_name in os.listdir(json_dir):\n",
    "\n",
    "    if file_name == file_to_import:\n",
    "\n",
    "        if file_name.endswith('.json'):\n",
    "\n",
    "            match = re.search(r'(\\d{8})_(\\d{6})', file_name)  # Extract date and timestamp using regex expression\n",
    "\n",
    "            if match:\n",
    "                date_str, time_str = match.groups()\n",
    "\n",
    "                try:\n",
    "                    # Convert the datetime object to a formatted string\n",
    "                    date_str_format = f\"{date_str}_{time_str}\"\n",
    "\n",
    "                    with open(os.path.join(json_dir, file_name), 'r') as file:\n",
    "                        json_data = json.load(file)\n",
    "\n",
    "                    version_number = 1  # Define the version number\n",
    "\n",
    "                    # Create a dictionary to hold epoch results\n",
    "                    epoch_results = {}\n",
    "\n",
    "                    for item in json_data:\n",
    "                        # Check if 'epoch', 'accuracy', and 'loss' keys exist in the item dictionary\n",
    "                        if 'epoch' in item and 'accuracy' in item and 'loss' in item:\n",
    "                            epoch_value = item['epoch']\n",
    "                            accuracy_value = float(item['accuracy'])  # Convert accuracy to float\n",
    "                            loss_value = float(item['loss'])  # Convert loss to float\n",
    "\n",
    "                            epoch_results[epoch_value] = {\n",
    "                                'accuracy': accuracy_value,\n",
    "                                'loss': loss_value\n",
    "                            }\n",
    "\n",
    "                    formatted_data = {\n",
    "                        \"version\": version_number,\n",
    "                        \"date\": date_str_format,\n",
    "                        \"epoch\": epoch_results\n",
    "                    }\n",
    "\n",
    "                    all_data.append(formatted_data)\n",
    "                except ValueError:\n",
    "                    print(f\"Warning: File name {file_name} does not contain a valid date and timestamp in the format 'YYYYMMDD_HHMMSS'. Skipping...\")\n",
    "                    continue\n",
    "        else:\n",
    "            print(\"Error: Invalid file format. Only JSON files are allowed.\")\n",
    "\n",
    "# Step 3: Insert the modified JSON data into MongoDB\n",
    "epoch_test_results.insert_many(all_data)\n",
    "\n",
    "print(\"Data imported successfully into MongoDB.\")"
   ]
  },
  {
   "cell_type": "code",
   "execution_count": 121,
   "id": "8e0f6908",
   "metadata": {},
   "outputs": [
    {
     "name": "stdout",
     "output_type": "stream",
     "text": [
      "['loss_accuracy', 'confusion_matrix', 'epoch_test_results', 'processed_data']\n",
      "{'_id': ObjectId('64d0cc53a5713c9d14d764c4'), 'version': 1, 'date': '20230806_100824', 'epoch': {'5': {'accuracy': 0.8198198080062866, 'loss': 0.6587201952934265}, '10': {'accuracy': 0.8018018007278442, 'loss': 0.6192963123321533}, '15': {'accuracy': 0.8018018007278442, 'loss': 0.583991527557373}, '20': {'accuracy': 0.8018018007278442, 'loss': 0.5513034462928772}, '25': {'accuracy': 0.8018018007278442, 'loss': 0.5240681171417236}, '30': {'accuracy': 0.8018018007278442, 'loss': 0.5032863616943359}, '35': {'accuracy': 0.8018018007278442, 'loss': 0.4848848581314087}, '40': {'accuracy': 0.8018018007278442, 'loss': 0.47161656618118286}, '45': {'accuracy': 0.8108108043670654, 'loss': 0.4609447121620178}, '50': {'accuracy': 0.8198198080062866, 'loss': 0.45186224579811096}, '55': {'accuracy': 0.8198198080062866, 'loss': 0.4415457844734192}, '60': {'accuracy': 0.8198198080062866, 'loss': 0.4307141602039337}, '65': {'accuracy': 0.8198198080062866, 'loss': 0.4212069511413574}, '70': {'accuracy': 0.8288288116455078, 'loss': 0.41249677538871765}, '75': {'accuracy': 0.837837815284729, 'loss': 0.40380385518074036}, '80': {'accuracy': 0.8558558821678162, 'loss': 0.3956049978733063}, '85': {'accuracy': 0.8558558821678162, 'loss': 0.3884178400039673}, '90': {'accuracy': 0.8558558821678162, 'loss': 0.38169822096824646}, '95': {'accuracy': 0.8558558821678162, 'loss': 0.3756119906902313}, '100': {'accuracy': 0.8648648858070374, 'loss': 0.3702228367328644}}}\n"
     ]
    }
   ],
   "source": [
    "\n",
    "print(db.list_collection_names())\n",
    "\n",
    "for document in epoch_test_results.find():\n",
    "    print(document)\n",
    "\n",
    "\n",
    "#db.epoch_test_results.drop()\n"
   ]
  },
  {
   "cell_type": "code",
   "execution_count": 122,
   "id": "1b9f02c5",
   "metadata": {},
   "outputs": [
    {
     "name": "stdout",
     "output_type": "stream",
     "text": [
      "Deleted Collection(Database(MongoClient(host=['localhost:27017'], document_class=dict, tz_aware=False, connect=True), 'sofia_test_model'), 'epoch_test_results.deleted_count') records with empty 'epoch' dictionary.\n",
      "{'_id': ObjectId('64d0cc53a5713c9d14d764c4'),\n",
      " 'date': '20230806_100824',\n",
      " 'epoch': {'10': {'accuracy': 0.8018018007278442, 'loss': 0.6192963123321533},\n",
      "           '100': {'accuracy': 0.8648648858070374, 'loss': 0.3702228367328644},\n",
      "           '15': {'accuracy': 0.8018018007278442, 'loss': 0.583991527557373},\n",
      "           '20': {'accuracy': 0.8018018007278442, 'loss': 0.5513034462928772},\n",
      "           '25': {'accuracy': 0.8018018007278442, 'loss': 0.5240681171417236},\n",
      "           '30': {'accuracy': 0.8018018007278442, 'loss': 0.5032863616943359},\n",
      "           '35': {'accuracy': 0.8018018007278442, 'loss': 0.4848848581314087},\n",
      "           '40': {'accuracy': 0.8018018007278442, 'loss': 0.47161656618118286},\n",
      "           '45': {'accuracy': 0.8108108043670654, 'loss': 0.4609447121620178},\n",
      "           '5': {'accuracy': 0.8198198080062866, 'loss': 0.6587201952934265},\n",
      "           '50': {'accuracy': 0.8198198080062866, 'loss': 0.45186224579811096},\n",
      "           '55': {'accuracy': 0.8198198080062866, 'loss': 0.4415457844734192},\n",
      "           '60': {'accuracy': 0.8198198080062866, 'loss': 0.4307141602039337},\n",
      "           '65': {'accuracy': 0.8198198080062866, 'loss': 0.4212069511413574},\n",
      "           '70': {'accuracy': 0.8288288116455078, 'loss': 0.41249677538871765},\n",
      "           '75': {'accuracy': 0.837837815284729, 'loss': 0.40380385518074036},\n",
      "           '80': {'accuracy': 0.8558558821678162, 'loss': 0.3956049978733063},\n",
      "           '85': {'accuracy': 0.8558558821678162, 'loss': 0.3884178400039673},\n",
      "           '90': {'accuracy': 0.8558558821678162, 'loss': 0.38169822096824646},\n",
      "           '95': {'accuracy': 0.8558558821678162, 'loss': 0.3756119906902313}},\n",
      " 'version': 1}\n"
     ]
    }
   ],
   "source": [
    "\n",
    "# Step 2: Check the result\n",
    "print(f\"Deleted {epoch_test_results.deleted_count} records with empty 'epoch' dictionary.\")\n",
    "\n",
    "for document in epoch_test_results.find():\n",
    "    pprint(document)"
   ]
  },
  {
   "cell_type": "code",
   "execution_count": 123,
   "id": "7f48c9af",
   "metadata": {},
   "outputs": [
    {
     "data": {
      "text/html": [
       "<div>\n",
       "<style scoped>\n",
       "    .dataframe tbody tr th:only-of-type {\n",
       "        vertical-align: middle;\n",
       "    }\n",
       "\n",
       "    .dataframe tbody tr th {\n",
       "        vertical-align: top;\n",
       "    }\n",
       "\n",
       "    .dataframe thead th {\n",
       "        text-align: right;\n",
       "    }\n",
       "</style>\n",
       "<table border=\"1\" class=\"dataframe\">\n",
       "  <thead>\n",
       "    <tr style=\"text-align: right;\">\n",
       "      <th></th>\n",
       "      <th>ID</th>\n",
       "      <th>Version</th>\n",
       "      <th>Date</th>\n",
       "      <th>epoch</th>\n",
       "    </tr>\n",
       "  </thead>\n",
       "  <tbody>\n",
       "    <tr>\n",
       "      <th>0</th>\n",
       "      <td>64d0cc53a5713c9d14d764c4</td>\n",
       "      <td>1</td>\n",
       "      <td>20230806_100824</td>\n",
       "      <td>{'5': {'accuracy': 0.8198198080062866, 'loss':...</td>\n",
       "    </tr>\n",
       "  </tbody>\n",
       "</table>\n",
       "</div>"
      ],
      "text/plain": [
       "                         ID  Version             Date  \\\n",
       "0  64d0cc53a5713c9d14d764c4        1  20230806_100824   \n",
       "\n",
       "                                               epoch  \n",
       "0  {'5': {'accuracy': 0.8198198080062866, 'loss':...  "
      ]
     },
     "execution_count": 123,
     "metadata": {},
     "output_type": "execute_result"
    }
   ],
   "source": [
    "data = []\n",
    "for document in epoch_test_results.find():\n",
    "    data.append(document)\n",
    "\n",
    "df = pd.DataFrame(data)\n",
    "df.rename(columns={'_id': 'ID', 'version':'Version','date':'Date'}, inplace=True)\n",
    "\n",
    "df.head()"
   ]
  },
  {
   "cell_type": "code",
   "execution_count": 124,
   "id": "6b49e1aa",
   "metadata": {},
   "outputs": [
    {
     "data": {
      "text/html": [
       "<div>\n",
       "<style scoped>\n",
       "    .dataframe tbody tr th:only-of-type {\n",
       "        vertical-align: middle;\n",
       "    }\n",
       "\n",
       "    .dataframe tbody tr th {\n",
       "        vertical-align: top;\n",
       "    }\n",
       "\n",
       "    .dataframe thead th {\n",
       "        text-align: right;\n",
       "    }\n",
       "</style>\n",
       "<table border=\"1\" class=\"dataframe\">\n",
       "  <thead>\n",
       "    <tr style=\"text-align: right;\">\n",
       "      <th></th>\n",
       "      <th>epoch</th>\n",
       "      <th>accuracy</th>\n",
       "    </tr>\n",
       "  </thead>\n",
       "  <tbody>\n",
       "    <tr>\n",
       "      <th>0</th>\n",
       "      <td>100</td>\n",
       "      <td>0.864865</td>\n",
       "    </tr>\n",
       "  </tbody>\n",
       "</table>\n",
       "</div>"
      ],
      "text/plain": [
       "  epoch  accuracy\n",
       "0   100  0.864865"
      ]
     },
     "execution_count": 124,
     "metadata": {},
     "output_type": "execute_result"
    }
   ],
   "source": [
    "epoch_accuracy_data = []\n",
    "for document in epoch_test_results.find():\n",
    "    if 'epoch' in document:\n",
    "        epoch = max(document['epoch'], key=lambda x: document['epoch'][x]['accuracy'])\n",
    "        accuracy = document['epoch'][epoch]['accuracy']\n",
    "        epoch_accuracy_data.append({'epoch': epoch, 'accuracy': accuracy})\n",
    "\n",
    "# Create a Pandas DataFrame from the extracted data\n",
    "df = pd.DataFrame(epoch_accuracy_data)\n",
    "\n",
    "# Display the DataFrame\n",
    "df.head()"
   ]
  },
  {
   "cell_type": "code",
   "execution_count": 135,
   "id": "35b87c82",
   "metadata": {},
   "outputs": [
    {
     "name": "stdout",
     "output_type": "stream",
     "text": [
      "Original DataFrame:\n",
      "                                                   5  \\\n",
      "0  {'accuracy': 0.8198198080062866, 'loss': 0.658...   \n",
      "\n",
      "                                                  10  \\\n",
      "0  {'accuracy': 0.8018018007278442, 'loss': 0.619...   \n",
      "\n",
      "                                                  15  \\\n",
      "0  {'accuracy': 0.8018018007278442, 'loss': 0.583...   \n",
      "\n",
      "                                                  20  \\\n",
      "0  {'accuracy': 0.8018018007278442, 'loss': 0.551...   \n",
      "\n",
      "                                                  25  \\\n",
      "0  {'accuracy': 0.8018018007278442, 'loss': 0.524...   \n",
      "\n",
      "                                                  30  \\\n",
      "0  {'accuracy': 0.8018018007278442, 'loss': 0.503...   \n",
      "\n",
      "                                                  35  \\\n",
      "0  {'accuracy': 0.8018018007278442, 'loss': 0.484...   \n",
      "\n",
      "                                                  40  \\\n",
      "0  {'accuracy': 0.8018018007278442, 'loss': 0.471...   \n",
      "\n",
      "                                                  45  \\\n",
      "0  {'accuracy': 0.8108108043670654, 'loss': 0.460...   \n",
      "\n",
      "                                                  50  \\\n",
      "0  {'accuracy': 0.8198198080062866, 'loss': 0.451...   \n",
      "\n",
      "                                                  55  \\\n",
      "0  {'accuracy': 0.8198198080062866, 'loss': 0.441...   \n",
      "\n",
      "                                                  60  \\\n",
      "0  {'accuracy': 0.8198198080062866, 'loss': 0.430...   \n",
      "\n",
      "                                                  65  \\\n",
      "0  {'accuracy': 0.8198198080062866, 'loss': 0.421...   \n",
      "\n",
      "                                                  70  \\\n",
      "0  {'accuracy': 0.8288288116455078, 'loss': 0.412...   \n",
      "\n",
      "                                                  75  \\\n",
      "0  {'accuracy': 0.837837815284729, 'loss': 0.4038...   \n",
      "\n",
      "                                                  80  \\\n",
      "0  {'accuracy': 0.8558558821678162, 'loss': 0.395...   \n",
      "\n",
      "                                                  85  \\\n",
      "0  {'accuracy': 0.8558558821678162, 'loss': 0.388...   \n",
      "\n",
      "                                                  90  \\\n",
      "0  {'accuracy': 0.8558558821678162, 'loss': 0.381...   \n",
      "\n",
      "                                                  95  \\\n",
      "0  {'accuracy': 0.8558558821678162, 'loss': 0.375...   \n",
      "\n",
      "                                                 100  \n",
      "0  {'accuracy': 0.8648648858070374, 'loss': 0.370...  \n",
      "\n",
      "DataFrame with Separate Epoch Columns:\n",
      "Accuracy DataFrame:\n",
      "         5        10        15        20        25        30        35  \\\n",
      "0  0.81982  0.801802  0.801802  0.801802  0.801802  0.801802  0.801802   \n",
      "\n",
      "         40        45       50       55       60       65        70        75  \\\n",
      "0  0.801802  0.810811  0.81982  0.81982  0.81982  0.81982  0.828829  0.837838   \n",
      "\n",
      "         80        85        90        95       100  \n",
      "0  0.855856  0.855856  0.855856  0.855856  0.864865  \n",
      "\n",
      "Loss DataFrame:\n",
      "         5        10        15        20        25        30        35  \\\n",
      "0  0.65872  0.619296  0.583992  0.551303  0.524068  0.503286  0.484885   \n",
      "\n",
      "         40        45        50        55        60        65        70  \\\n",
      "0  0.471617  0.460945  0.451862  0.441546  0.430714  0.421207  0.412497   \n",
      "\n",
      "         75        80        85        90        95       100  \n",
      "0  0.403804  0.395605  0.388418  0.381698  0.375612  0.370223  \n"
     ]
    },
    {
     "data": {
      "text/html": [
       "<div>\n",
       "<style scoped>\n",
       "    .dataframe tbody tr th:only-of-type {\n",
       "        vertical-align: middle;\n",
       "    }\n",
       "\n",
       "    .dataframe tbody tr th {\n",
       "        vertical-align: top;\n",
       "    }\n",
       "\n",
       "    .dataframe thead th {\n",
       "        text-align: right;\n",
       "    }\n",
       "</style>\n",
       "<table border=\"1\" class=\"dataframe\">\n",
       "  <thead>\n",
       "    <tr style=\"text-align: right;\">\n",
       "      <th></th>\n",
       "      <th>5</th>\n",
       "      <th>10</th>\n",
       "      <th>15</th>\n",
       "      <th>20</th>\n",
       "      <th>25</th>\n",
       "      <th>30</th>\n",
       "      <th>35</th>\n",
       "      <th>40</th>\n",
       "      <th>45</th>\n",
       "      <th>50</th>\n",
       "      <th>55</th>\n",
       "      <th>60</th>\n",
       "      <th>65</th>\n",
       "      <th>70</th>\n",
       "      <th>75</th>\n",
       "      <th>80</th>\n",
       "      <th>85</th>\n",
       "      <th>90</th>\n",
       "      <th>95</th>\n",
       "      <th>100</th>\n",
       "    </tr>\n",
       "  </thead>\n",
       "  <tbody>\n",
       "    <tr>\n",
       "      <th>0</th>\n",
       "      <td>0.81982</td>\n",
       "      <td>0.801802</td>\n",
       "      <td>0.801802</td>\n",
       "      <td>0.801802</td>\n",
       "      <td>0.801802</td>\n",
       "      <td>0.801802</td>\n",
       "      <td>0.801802</td>\n",
       "      <td>0.801802</td>\n",
       "      <td>0.810811</td>\n",
       "      <td>0.81982</td>\n",
       "      <td>0.81982</td>\n",
       "      <td>0.81982</td>\n",
       "      <td>0.81982</td>\n",
       "      <td>0.828829</td>\n",
       "      <td>0.837838</td>\n",
       "      <td>0.855856</td>\n",
       "      <td>0.855856</td>\n",
       "      <td>0.855856</td>\n",
       "      <td>0.855856</td>\n",
       "      <td>0.864865</td>\n",
       "    </tr>\n",
       "  </tbody>\n",
       "</table>\n",
       "</div>"
      ],
      "text/plain": [
       "         5        10        15        20        25        30        35  \\\n",
       "0  0.81982  0.801802  0.801802  0.801802  0.801802  0.801802  0.801802   \n",
       "\n",
       "         40        45       50       55       60       65        70        75  \\\n",
       "0  0.801802  0.810811  0.81982  0.81982  0.81982  0.81982  0.828829  0.837838   \n",
       "\n",
       "         80        85        90        95       100  \n",
       "0  0.855856  0.855856  0.855856  0.855856  0.864865  "
      ]
     },
     "execution_count": 135,
     "metadata": {},
     "output_type": "execute_result"
    }
   ],
   "source": [
    "epoch_data = []\n",
    "for document in epoch_test_results.find():\n",
    "    if 'epoch' in document:\n",
    "        epoch_data.append(document['epoch'])\n",
    "\n",
    "# Create a Pandas DataFrame from the extracted \"epoch\" values\n",
    "df = pd.DataFrame(epoch_data)\n",
    "\n",
    "# Display the original DataFrame\n",
    "print(\"Original DataFrame:\")\n",
    "print(df)\n",
    "\n",
    "# Create a new DataFrame with the \"epoch\" keys as separate columns\n",
    "new_columns = pd.concat([df['10'], df['100'], df['15'], df['20'], df['25'], df['30'],\n",
    "                         df['35'], df['40'], df['45'], df['5'], df['50'], df['55'],\n",
    "                         df['60'], df['65'], df['70'], df['75'], df['80'], df['85'],\n",
    "                         df['90'], df['95']], axis=1)\n",
    "\n",
    "# Display the new DataFrame with separate columns for each \"epoch\" key\n",
    "print(\"\\nDataFrame with Separate Epoch Columns:\")\n",
    "\n",
    "accuracy_df = df.applymap(lambda x: x['accuracy'])\n",
    "loss_df = df.applymap(lambda x: x['loss'])\n",
    "\n",
    "# Display the accuracy and loss DataFrames\n",
    "print(\"Accuracy DataFrame:\")\n",
    "print(accuracy_df)\n",
    "\n",
    "print(\"\\nLoss DataFrame:\")\n",
    "print(loss_df)\n",
    "\n",
    "accuracy_df"
   ]
  },
  {
   "cell_type": "code",
   "execution_count": 141,
   "id": "50deb6d0",
   "metadata": {},
   "outputs": [
    {
     "data": {
      "text/plain": [
       "Text(0, 0.5, 'Accuracy')"
      ]
     },
     "execution_count": 141,
     "metadata": {},
     "output_type": "execute_result"
    },
    {
     "data": {
      "image/png": "[encoded data removed]",
      "text/plain": [
       "<Figure size 640x480 with 1 Axes>"
      ]
     },
     "metadata": {},
     "output_type": "display_data"
    }
   ],
   "source": [
    "columns = accuracy_df.columns.tolist()\n",
    "values = accuracy_df.iloc[0].tolist()\n",
    "plt.plot(columns, values)\n",
    "plt.title('Accuracy Over Epochs')  # Add a title to the plot\n",
    "plt.xlabel('Epoch')\n",
    "plt.ylabel('Accuracy')"
   ]
  },
  {
   "cell_type": "code",
   "execution_count": 143,
   "id": "90345b75",
   "metadata": {},
   "outputs": [
    {
     "data": {
      "text/plain": [
       "Text(0, 0.5, 'Loss')"
      ]
     },
     "execution_count": 143,
     "metadata": {},
     "output_type": "execute_result"
    },
    {
     "data": {
      "image/png": "[encoded data removed]",
      "text/plain": [
       "<Figure size 640x480 with 1 Axes>"
      ]
     },
     "metadata": {},
     "output_type": "display_data"
    }
   ],
   "source": [
    "columns = loss_df.columns.tolist()\n",
    "values = loss_df.iloc[0].tolist()\n",
    "plt.plot(columns, values)\n",
    "plt.title('Loss Over Epochs')  # Add a title to the plot\n",
    "plt.xlabel('Epoch')\n",
    "plt.ylabel('Loss')"
   ]
  },
  {
   "cell_type": "code",
   "execution_count": 137,
   "id": "6247e35f",
   "metadata": {},
   "outputs": [
    {
     "data": {
      "text/plain": [
       "Index(['5', '10', '15', '20', '25', '30', '35', '40', '45', '50', '55', '60',\n",
       "       '65', '70', '75', '80', '85', '90', '95', '100'],\n",
       "      dtype='object')"
      ]
     },
     "execution_count": 137,
     "metadata": {},
     "output_type": "execute_result"
    }
   ],
   "source": [
    "accuracy_df.columns"
   ]
  },
  {
   "cell_type": "code",
   "execution_count": 128,
   "id": "507a6069",
   "metadata": {},
   "outputs": [],
   "source": [
    "accuracy_df.to_csv('accuracy_output.csv', index=False)"
   ]
  },
  {
   "cell_type": "code",
   "execution_count": null,
   "id": "69935e36",
   "metadata": {},
   "outputs": [],
   "source": [
    "db.epoch_test_results.drop()"
   ]
  }
 ],
 "metadata": {
  "kernelspec": {
   "display_name": "myenvpandas",
   "language": "python",
   "name": "python3"
  },
  "language_info": {
   "codemirror_mode": {
    "name": "ipython",
    "version": 3
   },
   "file_extension": ".py",
   "mimetype": "text/x-python",
   "name": "python",
   "nbconvert_exporter": "python",
   "pygments_lexer": "ipython3",
   "version": "3.10.9"
  }
 },
 "nbformat": 4,
 "nbformat_minor": 5
}
