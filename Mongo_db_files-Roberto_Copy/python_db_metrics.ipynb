{
 "cells": [
  {
   "cell_type": "markdown",
   "id": "d9080a2a",
   "metadata": {},
   "source": [
    "# Import Loss_Accuracy Results"
   ]
  },
  {
   "cell_type": "code",
   "execution_count": 6,
   "id": "1d0df467",
   "metadata": {},
   "outputs": [],
   "source": [
    "# Module used to connect Python with MongoDB\n",
    "from pymongo import MongoClient\n",
    "from datetime import datetime\n",
    "import json\n",
    "import pandas as pd\n",
    "from pprint import pprint\n",
    "import os\n",
    "import csv\n",
    "import re"
   ]
  },
  {
   "cell_type": "code",
   "execution_count": 7,
   "id": "3997cd6e",
   "metadata": {},
   "outputs": [],
   "source": [
    "# Create an instance of MongoClient\n",
    "mongo = MongoClient(port=27017)"
   ]
  },
  {
   "cell_type": "code",
   "execution_count": 8,
   "id": "d8bc7419",
   "metadata": {},
   "outputs": [
    {
     "name": "stdout",
     "output_type": "stream",
     "text": [
      "['admin', 'autosaurus', 'config', 'fruits_db', 'local', 'met', 'petsitly_marketing', 'sofia_test_model', 'test', 'travel_db', 'uk_food']\n"
     ]
    }
   ],
   "source": [
    "# confirm that our new database was created\n",
    "print(mongo.list_database_names())"
   ]
  },
  {
   "cell_type": "code",
   "execution_count": 9,
   "id": "3f2d18da",
   "metadata": {},
   "outputs": [],
   "source": [
    "# assign the database to a variable name\n",
    "db = mongo['sofia_test_model']"
   ]
  },
  {
   "cell_type": "code",
   "execution_count": 10,
   "id": "26f6984c",
   "metadata": {},
   "outputs": [],
   "source": [
    "\n",
    "\n",
    "# assign the collection to a variable\n",
    "metrics = db['loss_accuracy']"
   ]
  },
  {
   "cell_type": "code",
   "execution_count": 11,
   "id": "14caa778",
   "metadata": {},
   "outputs": [
    {
     "name": "stdout",
     "output_type": "stream",
     "text": [
      "Data imported successfully into MongoDB.\n",
      "Data imported successfully into MongoDB.\n"
     ]
    }
   ],
   "source": [
    "# Prompt the user to enter the filename they want to import\n",
    "json_file_path = 'Resources_MongoDB'  \n",
    "\n",
    "file_to_import = input(\"Enter the filename you want to import (e.g., file1.json): \")\n",
    "file_path = os.path.join(json_file_path, file_to_import)\n",
    "\n",
    "if os.path.exists(file_path) and file_to_import.endswith('.json'):\n",
    "    with open(file_path, 'r') as file:\n",
    "        json_data = json.load(file)\n",
    "\n",
    "    # Create a nested dictionary with the \"test\" category\n",
    "    nested_data = {\n",
    "        \"test\": json_data\n",
    "    }\n",
    "\n",
    "    # Step 4: Insert the nested dictionary into MongoDB\n",
    "    metrics.insert_one(nested_data)\n",
    "\n",
    "    print(\"Data imported successfully into MongoDB.\")\n",
    "\n",
    "print(\"Data imported successfully into MongoDB.\")\n",
    "\n"
   ]
  },
  {
   "cell_type": "code",
   "execution_count": 13,
   "id": "59908e77",
   "metadata": {},
   "outputs": [
    {
     "name": "stdout",
     "output_type": "stream",
     "text": [
      "['loss_accuracy', 'processed_test_data', 'epoch_test_results']\n",
      "{'_id': ObjectId('64cf61cd27fd48f081da542e'), 'test': [{'Metric': 'Loss', 'Value': '0.6005326509475708'}, {'Metric': 'Accuracy', 'Value': '0.75'}, {'Metric': 'Date', 'Value': '20230806_100824'}]}\n"
     ]
    }
   ],
   "source": [
    "print(db.list_collection_names())\n",
    "\n",
    "for document in metrics.find():\n",
    "    print(document)\n"
   ]
  }
 ],
 "metadata": {
  "kernelspec": {
   "display_name": "myenvpandas",
   "language": "python",
   "name": "python3"
  },
  "language_info": {
   "codemirror_mode": {
    "name": "ipython",
    "version": 3
   },
   "file_extension": ".py",
   "mimetype": "text/x-python",
   "name": "python",
   "nbconvert_exporter": "python",
   "pygments_lexer": "ipython3",
   "version": "3.11.3"
  }
 },
 "nbformat": 4,
 "nbformat_minor": 5
}
