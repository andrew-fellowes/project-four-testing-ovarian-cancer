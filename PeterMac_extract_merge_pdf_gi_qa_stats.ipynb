{
 "cells": [
  {
   "cell_type": "code",
   "execution_count": 7,
   "metadata": {},
   "outputs": [],
   "source": [
    "import pandas as pd\n",
    "import tabula\n",
    "import re\n",
    "import os\n",
    "from glob import glob\n",
    "from datetime import datetime"
   ]
  },
  {
   "cell_type": "code",
   "execution_count": 8,
   "metadata": {},
   "outputs": [],
   "source": [
    "# Get the current date and time for output file naming\n",
    "current_datetime = datetime.now().strftime(\"%Y-%m-%d-%H-%M\")"
   ]
  },
  {
   "cell_type": "code",
   "execution_count": 9,
   "metadata": {},
   "outputs": [],
   "source": [
    "# Function to extract run number from run folder\n",
    "def run_number(folder_name):\n",
    "    match = re.search(r'HRD_Run(\\d+)', folder_name)\n",
    "    if match:\n",
    "        return int(match.group(1)) \n",
    "    return -1 "
   ]
  },
  {
   "cell_type": "code",
   "execution_count": 10,
   "metadata": {},
   "outputs": [],
   "source": [
    "# Function to extract GI QA table from GI-report.pdf\n",
    "def extract_QA_table_from_GI_report(file_path):\n",
    "    print(f\"Extracting GI QA table from {file_path}\")\n",
    "\n",
    "    # Read pdf pages and areas [top, left, bottom, right]\n",
    "    gi_qa_table = pd.DataFrame()\n",
    "    pages = [5]\n",
    "    area = [13, 0, 57, 100]\n",
    "\n",
    "    table = tabula.read_pdf(file_path, \n",
    "                            pages=pages, \n",
    "                            multiple_tables=False, \n",
    "                            area=area, \n",
    "                            relative_area=True, \n",
    "                            stream=True, \n",
    "                            guess=False, \n",
    "                            pandas_options={'header': None}\n",
    "                            )\n",
    "\n",
    "    if table:\n",
    "        gi_qa_table= table[0]\n",
    "        return(gi_qa_table)\n",
    "    else:\n",
    "        print('Could not find')\n",
    "        return None"
   ]
  },
  {
   "cell_type": "code",
   "execution_count": 11,
   "metadata": {},
   "outputs": [],
   "source": [
    "# Function to traverse run folders getting GI QA tables from GI-Reports and combine\n",
    "def traverse_folders(root_folder):\n",
    "    folder_names = [foldername for foldername in os.listdir(root_folder) if foldername.startswith(\"HRD_Run\")]\n",
    "    folder_names = sorted(folder_names, key=run_number)\n",
    "    combined_gi_qa = None\n",
    "    gi_qa_headers = ['Sample','Total(M)', 'WGS(M)', \"%WGS\", \"%CovOut\", \"PPR\", 'RN', 'SNR', 'QAStatus']\n",
    "\n",
    "    for foldername in folder_names:\n",
    "        folder_path = os.path.join(root_folder, foldername)\n",
    "        print(f\"Checking folder: {folder_path}\")\n",
    "\n",
    "        for filename in os.listdir(folder_path):\n",
    "            if filename.endswith(\"-GI-Report.pdf\"):\n",
    "                file_path = os.path.join(folder_path, filename)\n",
    "\n",
    "                if os.path.isfile(file_path):\n",
    "                    # Get GI QA table and add column headings\n",
    "                    extracted_gi_qa = extract_QA_table_from_GI_report(file_path)\n",
    "                    extracted_gi_qa = extracted_gi_qa.iloc[3:]\n",
    "                    extracted_gi_qa.columns = gi_qa_headers\n",
    "\n",
    "                    if extracted_gi_qa is not None:\n",
    "                                    # Combine GI QA tables\n",
    "                                    if combined_gi_qa is None:\n",
    "                                        combined_gi_qa = extracted_gi_qa\n",
    "                                    else:\n",
    "                                        combined_gi_qa = pd.concat([combined_gi_qa, extracted_gi_qa], axis=0)\n",
    "\n",
    "                    if combined_gi_qa is not None:\n",
    "                        # Save combined mapping stats to csv with datetime stamp\n",
    "                        combined_gi_qa.to_csv(output_folder + current_datetime+'_combined_GI_QA_table.csv', index=False)\n",
    "                        print(combined_gi_qa.shape)\n",
    "                    else:\n",
    "                        print(f\"GI QA table extraction unsuccessful for {folder_path}\")"
   ]
  },
  {
   "cell_type": "code",
   "execution_count": 12,
   "metadata": {},
   "outputs": [
    {
     "name": "stdout",
     "output_type": "stream",
     "text": [
      "Checking folder: ./Resources/SOPHiA HRD/HRD_Run1\n",
      "Extracting GI QA table from ./Resources/SOPHiA HRD/HRD_Run1/HRD_202307070141-21752-0086-GI-Report.pdf\n",
      "(23, 9)\n",
      "Checking folder: ./Resources/SOPHiA HRD/HRD_Run2\n",
      "Extracting GI QA table from ./Resources/SOPHiA HRD/HRD_Run2/HRD_202307141330-21752-0087-GI-Report.pdf\n",
      "(47, 9)\n",
      "Checking folder: ./Resources/SOPHiA HRD/HRD_Run3\n",
      "Extracting GI QA table from ./Resources/SOPHiA HRD/HRD_Run3/HRD_202307211811-21752-0090-GI-Report.pdf\n",
      "(71, 9)\n",
      "Checking folder: ./Resources/SOPHiA HRD/HRD_Run4\n",
      "Extracting GI QA table from ./Resources/SOPHiA HRD/HRD_Run4/HRD_202307211832-21752-0091-GI-Report.pdf\n",
      "(95, 9)\n",
      "Checking folder: ./Resources/SOPHiA HRD/HRD_Run5\n",
      "Extracting GI QA table from ./Resources/SOPHiA HRD/HRD_Run5/HRD_202307262240-21752-0092-GI-Report.pdf\n",
      "(118, 9)\n",
      "Checking folder: ./Resources/SOPHiA HRD/HRD_Run6\n",
      "Extracting GI QA table from ./Resources/SOPHiA HRD/HRD_Run6/HRD_202308022047-21752-0093-GI-Report.pdf\n",
      "(142, 9)\n"
     ]
    }
   ],
   "source": [
    "# Call the function\n",
    "if __name__ == \"__main__\":\n",
    "    root_folder = \"./Resources/SOPHiA HRD\"\n",
    "    output_folder = \"./Resources/\"\n",
    "    traverse_folders(root_folder)"
   ]
  }
 ],
 "metadata": {
  "kernelspec": {
   "display_name": "bootcamp",
   "language": "python",
   "name": "python3"
  },
  "language_info": {
   "codemirror_mode": {
    "name": "ipython",
    "version": 3
   },
   "file_extension": ".py",
   "mimetype": "text/x-python",
   "name": "python",
   "nbconvert_exporter": "python",
   "pygments_lexer": "ipython3",
   "version": "3.10.9"
  },
  "orig_nbformat": 4
 },
 "nbformat": 4,
 "nbformat_minor": 2
}
