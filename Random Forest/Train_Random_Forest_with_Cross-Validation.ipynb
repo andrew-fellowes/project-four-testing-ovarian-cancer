{
 "cells": [
  {
   "cell_type": "code",
   "execution_count": 98,
   "metadata": {},
   "outputs": [],
   "source": [
    "# Import dependancies\n",
    "import pandas as pd\n",
    "from sklearn.model_selection import train_test_split, cross_val_predict\n",
    "from sklearn.ensemble import RandomForestClassifier\n",
    "from sklearn.preprocessing import StandardScaler, OneHotEncoder\n",
    "from sklearn.compose import ColumnTransformer\n",
    "from sklearn.pipeline import Pipeline\n",
    "from sklearn.metrics import confusion_matrix, accuracy_score, classification_report\n",
    "import pickle\n",
    "import umap\n",
    "import matplotlib.pyplot as plt\n",
    "import numpy as np\n",
    "import plotly.express as px\n"
   ]
  },
  {
   "cell_type": "code",
   "execution_count": 99,
   "metadata": {},
   "outputs": [],
   "source": [
    "# Load CSV data\n",
    "data = pd.read_csv('preprocessed_training_data.csv')"
   ]
  },
  {
   "cell_type": "code",
   "execution_count": 100,
   "metadata": {},
   "outputs": [
    {
     "data": {
      "text/html": [
       "<div>\n",
       "<style scoped>\n",
       "    .dataframe tbody tr th:only-of-type {\n",
       "        vertical-align: middle;\n",
       "    }\n",
       "\n",
       "    .dataframe tbody tr th {\n",
       "        vertical-align: top;\n",
       "    }\n",
       "\n",
       "    .dataframe thead th {\n",
       "        text-align: right;\n",
       "    }\n",
       "</style>\n",
       "<table border=\"1\" class=\"dataframe\">\n",
       "  <thead>\n",
       "    <tr style=\"text-align: right;\">\n",
       "      <th></th>\n",
       "      <th>TotalReads(M)</th>\n",
       "      <th>%ReadsPanel</th>\n",
       "      <th>1000x</th>\n",
       "      <th>500x</th>\n",
       "      <th>200x</th>\n",
       "      <th>100x</th>\n",
       "      <th>50x</th>\n",
       "      <th>25x</th>\n",
       "      <th>DupFrac</th>\n",
       "      <th>LowCovRegions</th>\n",
       "      <th>...</th>\n",
       "      <th>SophiaGIStatus_1</th>\n",
       "      <th>SophiaGIStatus_2</th>\n",
       "      <th>SophiaGIStatus_3</th>\n",
       "      <th>SophiaGIStatus_4</th>\n",
       "      <th>Purity</th>\n",
       "      <th>PurityPloidyRatio</th>\n",
       "      <th>SOPHiAGIIndex</th>\n",
       "      <th>ResNoise</th>\n",
       "      <th>SignalNoiseRatio</th>\n",
       "      <th>Agreement2</th>\n",
       "    </tr>\n",
       "  </thead>\n",
       "  <tbody>\n",
       "    <tr>\n",
       "      <th>0</th>\n",
       "      <td>7.3</td>\n",
       "      <td>0.19</td>\n",
       "      <td>0.01</td>\n",
       "      <td>0.05</td>\n",
       "      <td>0.49</td>\n",
       "      <td>0.84</td>\n",
       "      <td>0.98</td>\n",
       "      <td>1.0</td>\n",
       "      <td>0.67</td>\n",
       "      <td>769</td>\n",
       "      <td>...</td>\n",
       "      <td>1</td>\n",
       "      <td>0</td>\n",
       "      <td>0</td>\n",
       "      <td>0</td>\n",
       "      <td>20.0</td>\n",
       "      <td>0.285591</td>\n",
       "      <td>3.2</td>\n",
       "      <td>0.13</td>\n",
       "      <td>2.95</td>\n",
       "      <td>1</td>\n",
       "    </tr>\n",
       "    <tr>\n",
       "      <th>1</th>\n",
       "      <td>7.3</td>\n",
       "      <td>0.24</td>\n",
       "      <td>0.02</td>\n",
       "      <td>0.12</td>\n",
       "      <td>0.73</td>\n",
       "      <td>0.97</td>\n",
       "      <td>1.00</td>\n",
       "      <td>1.0</td>\n",
       "      <td>0.68</td>\n",
       "      <td>580</td>\n",
       "      <td>...</td>\n",
       "      <td>0</td>\n",
       "      <td>1</td>\n",
       "      <td>0</td>\n",
       "      <td>0</td>\n",
       "      <td>30.0</td>\n",
       "      <td>0.200000</td>\n",
       "      <td>-15.7</td>\n",
       "      <td>0.11</td>\n",
       "      <td>2.91</td>\n",
       "      <td>1</td>\n",
       "    </tr>\n",
       "    <tr>\n",
       "      <th>2</th>\n",
       "      <td>9.6</td>\n",
       "      <td>0.36</td>\n",
       "      <td>0.41</td>\n",
       "      <td>0.97</td>\n",
       "      <td>1.00</td>\n",
       "      <td>1.00</td>\n",
       "      <td>1.00</td>\n",
       "      <td>1.0</td>\n",
       "      <td>0.58</td>\n",
       "      <td>7</td>\n",
       "      <td>...</td>\n",
       "      <td>0</td>\n",
       "      <td>1</td>\n",
       "      <td>0</td>\n",
       "      <td>0</td>\n",
       "      <td>20.0</td>\n",
       "      <td>0.150000</td>\n",
       "      <td>-4.6</td>\n",
       "      <td>0.10</td>\n",
       "      <td>1.64</td>\n",
       "      <td>1</td>\n",
       "    </tr>\n",
       "    <tr>\n",
       "      <th>3</th>\n",
       "      <td>8.9</td>\n",
       "      <td>0.37</td>\n",
       "      <td>0.16</td>\n",
       "      <td>0.71</td>\n",
       "      <td>0.99</td>\n",
       "      <td>1.00</td>\n",
       "      <td>1.00</td>\n",
       "      <td>1.0</td>\n",
       "      <td>0.71</td>\n",
       "      <td>33</td>\n",
       "      <td>...</td>\n",
       "      <td>0</td>\n",
       "      <td>1</td>\n",
       "      <td>0</td>\n",
       "      <td>0</td>\n",
       "      <td>20.0</td>\n",
       "      <td>0.170000</td>\n",
       "      <td>-4.6</td>\n",
       "      <td>0.09</td>\n",
       "      <td>3.49</td>\n",
       "      <td>1</td>\n",
       "    </tr>\n",
       "    <tr>\n",
       "      <th>4</th>\n",
       "      <td>8.6</td>\n",
       "      <td>0.42</td>\n",
       "      <td>0.02</td>\n",
       "      <td>0.46</td>\n",
       "      <td>1.00</td>\n",
       "      <td>1.00</td>\n",
       "      <td>1.00</td>\n",
       "      <td>1.0</td>\n",
       "      <td>0.81</td>\n",
       "      <td>15</td>\n",
       "      <td>...</td>\n",
       "      <td>0</td>\n",
       "      <td>1</td>\n",
       "      <td>0</td>\n",
       "      <td>0</td>\n",
       "      <td>60.0</td>\n",
       "      <td>0.200000</td>\n",
       "      <td>-8.2</td>\n",
       "      <td>0.11</td>\n",
       "      <td>2.18</td>\n",
       "      <td>1</td>\n",
       "    </tr>\n",
       "  </tbody>\n",
       "</table>\n",
       "<p>5 rows × 25 columns</p>\n",
       "</div>"
      ],
      "text/plain": [
       "   TotalReads(M)  %ReadsPanel  1000x  500x  200x  100x   50x  25x  DupFrac  \\\n",
       "0            7.3         0.19   0.01  0.05  0.49  0.84  0.98  1.0     0.67   \n",
       "1            7.3         0.24   0.02  0.12  0.73  0.97  1.00  1.0     0.68   \n",
       "2            9.6         0.36   0.41  0.97  1.00  1.00  1.00  1.0     0.58   \n",
       "3            8.9         0.37   0.16  0.71  0.99  1.00  1.00  1.0     0.71   \n",
       "4            8.6         0.42   0.02  0.46  1.00  1.00  1.00  1.0     0.81   \n",
       "\n",
       "   LowCovRegions  ...  SophiaGIStatus_1  SophiaGIStatus_2  SophiaGIStatus_3  \\\n",
       "0            769  ...                 1                 0                 0   \n",
       "1            580  ...                 0                 1                 0   \n",
       "2              7  ...                 0                 1                 0   \n",
       "3             33  ...                 0                 1                 0   \n",
       "4             15  ...                 0                 1                 0   \n",
       "\n",
       "   SophiaGIStatus_4  Purity  PurityPloidyRatio  SOPHiAGIIndex  ResNoise  \\\n",
       "0                 0    20.0           0.285591            3.2      0.13   \n",
       "1                 0    30.0           0.200000          -15.7      0.11   \n",
       "2                 0    20.0           0.150000           -4.6      0.10   \n",
       "3                 0    20.0           0.170000           -4.6      0.09   \n",
       "4                 0    60.0           0.200000           -8.2      0.11   \n",
       "\n",
       "   SignalNoiseRatio  Agreement2  \n",
       "0              2.95           1  \n",
       "1              2.91           1  \n",
       "2              1.64           1  \n",
       "3              3.49           1  \n",
       "4              2.18           1  \n",
       "\n",
       "[5 rows x 25 columns]"
      ]
     },
     "execution_count": 100,
     "metadata": {},
     "output_type": "execute_result"
    }
   ],
   "source": [
    "data.head()"
   ]
  },
  {
   "cell_type": "code",
   "execution_count": 101,
   "metadata": {},
   "outputs": [],
   "source": [
    "# Separate features and target\n",
    "X = data.iloc[:, :-1]\n",
    "y = data['Agreement2']"
   ]
  },
  {
   "cell_type": "code",
   "execution_count": 102,
   "metadata": {},
   "outputs": [
    {
     "data": {
      "text/plain": [
       "Index(['TotalReads(M)', '%ReadsPanel', '1000x', '500x', '200x', '100x', '50x',\n",
       "       '25x', 'DupFrac', 'LowCovRegions', 'QAStatus_High', 'QAStatus_Low',\n",
       "       'QAStatus_Medium', 'Gene_BRCA1', 'Gene_BRCA2', 'SophiaGIStatus_1',\n",
       "       'SophiaGIStatus_2', 'SophiaGIStatus_3', 'SophiaGIStatus_4', 'Purity',\n",
       "       'PurityPloidyRatio', 'SOPHiAGIIndex', 'ResNoise', 'SignalNoiseRatio'],\n",
       "      dtype='object')"
      ]
     },
     "execution_count": 102,
     "metadata": {},
     "output_type": "execute_result"
    }
   ],
   "source": [
    "X.columns"
   ]
  },
  {
   "cell_type": "code",
   "execution_count": 103,
   "metadata": {},
   "outputs": [
    {
     "data": {
      "text/plain": [
       "[1, 1, 1, 1, 1, 1, 0, 1, 1, 1, 1, 1, 0, 1, 1, 1, 1, 1, 1, 1]"
      ]
     },
     "execution_count": 103,
     "metadata": {},
     "output_type": "execute_result"
    }
   ],
   "source": [
    "y[:20].to_list()"
   ]
  },
  {
   "cell_type": "code",
   "execution_count": 104,
   "metadata": {},
   "outputs": [],
   "source": [
    "# Split data into train and test sets\n",
    "X_train, X_test, y_train, y_test = train_test_split(X, y, test_size=0.2, random_state=42)"
   ]
  },
  {
   "cell_type": "code",
   "execution_count": 105,
   "metadata": {},
   "outputs": [],
   "source": [
    "# Define which columns need standard scaling\n",
    "num_cols = X.select_dtypes(include=['float64', 'int64']).columns"
   ]
  },
  {
   "cell_type": "code",
   "execution_count": 106,
   "metadata": {},
   "outputs": [],
   "source": [
    "# Create preprocessing pipeline\n",
    "preprocessor = ColumnTransformer(\n",
    "    transformers=[\n",
    "        ('num', StandardScaler(), num_cols),\n",
    "    ])"
   ]
  },
  {
   "cell_type": "code",
   "execution_count": 107,
   "metadata": {},
   "outputs": [],
   "source": [
    "# Create a Random Forest classifier\n",
    "rf_classifier = RandomForestClassifier(n_estimators=100, random_state=42)"
   ]
  },
  {
   "cell_type": "code",
   "execution_count": 108,
   "metadata": {},
   "outputs": [],
   "source": [
    "# Create a pipeline combining preprocessing and classifier\n",
    "pipeline = Pipeline([\n",
    "    ('preprocessor', preprocessor),\n",
    "    ('classifier', rf_classifier)\n",
    "])"
   ]
  },
  {
   "cell_type": "code",
   "execution_count": 109,
   "metadata": {},
   "outputs": [],
   "source": [
    "# Make prediction\n",
    "y_pred = cross_val_predict(pipeline, X_train, y_train, cv=5)"
   ]
  },
  {
   "cell_type": "markdown",
   "metadata": {},
   "source": [
    "## Evaluate"
   ]
  },
  {
   "cell_type": "code",
   "execution_count": 110,
   "metadata": {},
   "outputs": [
    {
     "name": "stdout",
     "output_type": "stream",
     "text": [
      "Confusion Matrix:\n",
      "[[ 9 17]\n",
      " [ 6 79]]\n",
      "\n",
      "Accuracy: 0.7927927927927928\n",
      "\n",
      "Classification Report:\n",
      "              precision    recall  f1-score   support\n",
      "\n",
      "           0       0.60      0.35      0.44        26\n",
      "           1       0.82      0.93      0.87        85\n",
      "\n",
      "    accuracy                           0.79       111\n",
      "   macro avg       0.71      0.64      0.66       111\n",
      "weighted avg       0.77      0.79      0.77       111\n",
      "\n"
     ]
    }
   ],
   "source": [
    "# Evaluate the model\n",
    "print(\"Confusion Matrix:\")\n",
    "print(confusion_matrix(y_train, y_pred))\n",
    "print(\"\\nAccuracy:\", accuracy_score(y_train, y_pred))\n",
    "print(\"\\nClassification Report:\")\n",
    "print(classification_report(y_train, y_pred))"
   ]
  },
  {
   "cell_type": "code",
   "execution_count": 111,
   "metadata": {},
   "outputs": [
    {
     "data": {
      "text/html": [
       "<style>#sk-container-id-3 {color: black;background-color: white;}#sk-container-id-3 pre{padding: 0;}#sk-container-id-3 div.sk-toggleable {background-color: white;}#sk-container-id-3 label.sk-toggleable__label {cursor: pointer;display: block;width: 100%;margin-bottom: 0;padding: 0.3em;box-sizing: border-box;text-align: center;}#sk-container-id-3 label.sk-toggleable__label-arrow:before {content: \"▸\";float: left;margin-right: 0.25em;color: #696969;}#sk-container-id-3 label.sk-toggleable__label-arrow:hover:before {color: black;}#sk-container-id-3 div.sk-estimator:hover label.sk-toggleable__label-arrow:before {color: black;}#sk-container-id-3 div.sk-toggleable__content {max-height: 0;max-width: 0;overflow: hidden;text-align: left;background-color: #f0f8ff;}#sk-container-id-3 div.sk-toggleable__content pre {margin: 0.2em;color: black;border-radius: 0.25em;background-color: #f0f8ff;}#sk-container-id-3 input.sk-toggleable__control:checked~div.sk-toggleable__content {max-height: 200px;max-width: 100%;overflow: auto;}#sk-container-id-3 input.sk-toggleable__control:checked~label.sk-toggleable__label-arrow:before {content: \"▾\";}#sk-container-id-3 div.sk-estimator input.sk-toggleable__control:checked~label.sk-toggleable__label {background-color: #d4ebff;}#sk-container-id-3 div.sk-label input.sk-toggleable__control:checked~label.sk-toggleable__label {background-color: #d4ebff;}#sk-container-id-3 input.sk-hidden--visually {border: 0;clip: rect(1px 1px 1px 1px);clip: rect(1px, 1px, 1px, 1px);height: 1px;margin: -1px;overflow: hidden;padding: 0;position: absolute;width: 1px;}#sk-container-id-3 div.sk-estimator {font-family: monospace;background-color: #f0f8ff;border: 1px dotted black;border-radius: 0.25em;box-sizing: border-box;margin-bottom: 0.5em;}#sk-container-id-3 div.sk-estimator:hover {background-color: #d4ebff;}#sk-container-id-3 div.sk-parallel-item::after {content: \"\";width: 100%;border-bottom: 1px solid gray;flex-grow: 1;}#sk-container-id-3 div.sk-label:hover label.sk-toggleable__label {background-color: #d4ebff;}#sk-container-id-3 div.sk-serial::before {content: \"\";position: absolute;border-left: 1px solid gray;box-sizing: border-box;top: 0;bottom: 0;left: 50%;z-index: 0;}#sk-container-id-3 div.sk-serial {display: flex;flex-direction: column;align-items: center;background-color: white;padding-right: 0.2em;padding-left: 0.2em;position: relative;}#sk-container-id-3 div.sk-item {position: relative;z-index: 1;}#sk-container-id-3 div.sk-parallel {display: flex;align-items: stretch;justify-content: center;background-color: white;position: relative;}#sk-container-id-3 div.sk-item::before, #sk-container-id-3 div.sk-parallel-item::before {content: \"\";position: absolute;border-left: 1px solid gray;box-sizing: border-box;top: 0;bottom: 0;left: 50%;z-index: -1;}#sk-container-id-3 div.sk-parallel-item {display: flex;flex-direction: column;z-index: 1;position: relative;background-color: white;}#sk-container-id-3 div.sk-parallel-item:first-child::after {align-self: flex-end;width: 50%;}#sk-container-id-3 div.sk-parallel-item:last-child::after {align-self: flex-start;width: 50%;}#sk-container-id-3 div.sk-parallel-item:only-child::after {width: 0;}#sk-container-id-3 div.sk-dashed-wrapped {border: 1px dashed gray;margin: 0 0.4em 0.5em 0.4em;box-sizing: border-box;padding-bottom: 0.4em;background-color: white;}#sk-container-id-3 div.sk-label label {font-family: monospace;font-weight: bold;display: inline-block;line-height: 1.2em;}#sk-container-id-3 div.sk-label-container {text-align: center;}#sk-container-id-3 div.sk-container {/* jupyter's `normalize.less` sets `[hidden] { display: none; }` but bootstrap.min.css set `[hidden] { display: none !important; }` so we also need the `!important` here to be able to override the default hidden behavior on the sphinx rendered scikit-learn.org. See: https://github.com/scikit-learn/scikit-learn/issues/21755 */display: inline-block !important;position: relative;}#sk-container-id-3 div.sk-text-repr-fallback {display: none;}</style><div id=\"sk-container-id-3\" class=\"sk-top-container\"><div class=\"sk-text-repr-fallback\"><pre>Pipeline(steps=[(&#x27;preprocessor&#x27;,\n",
       "                 ColumnTransformer(transformers=[(&#x27;num&#x27;, StandardScaler(),\n",
       "                                                  Index([&#x27;TotalReads(M)&#x27;, &#x27;%ReadsPanel&#x27;, &#x27;1000x&#x27;, &#x27;500x&#x27;, &#x27;200x&#x27;, &#x27;100x&#x27;, &#x27;50x&#x27;,\n",
       "       &#x27;25x&#x27;, &#x27;DupFrac&#x27;, &#x27;LowCovRegions&#x27;, &#x27;QAStatus_High&#x27;, &#x27;QAStatus_Low&#x27;,\n",
       "       &#x27;QAStatus_Medium&#x27;, &#x27;Gene_BRCA1&#x27;, &#x27;Gene_BRCA2&#x27;, &#x27;SophiaGIStatus_1&#x27;,\n",
       "       &#x27;SophiaGIStatus_2&#x27;, &#x27;SophiaGIStatus_3&#x27;, &#x27;SophiaGIStatus_4&#x27;, &#x27;Purity&#x27;,\n",
       "       &#x27;PurityPloidyRatio&#x27;, &#x27;SOPHiAGIIndex&#x27;, &#x27;ResNoise&#x27;, &#x27;SignalNoiseRatio&#x27;],\n",
       "      dtype=&#x27;object&#x27;))])),\n",
       "                (&#x27;classifier&#x27;, RandomForestClassifier(random_state=42))])</pre><b>In a Jupyter environment, please rerun this cell to show the HTML representation or trust the notebook. <br />On GitHub, the HTML representation is unable to render, please try loading this page with nbviewer.org.</b></div><div class=\"sk-container\" hidden><div class=\"sk-item sk-dashed-wrapped\"><div class=\"sk-label-container\"><div class=\"sk-label sk-toggleable\"><input class=\"sk-toggleable__control sk-hidden--visually\" id=\"sk-estimator-id-11\" type=\"checkbox\" ><label for=\"sk-estimator-id-11\" class=\"sk-toggleable__label sk-toggleable__label-arrow\">Pipeline</label><div class=\"sk-toggleable__content\"><pre>Pipeline(steps=[(&#x27;preprocessor&#x27;,\n",
       "                 ColumnTransformer(transformers=[(&#x27;num&#x27;, StandardScaler(),\n",
       "                                                  Index([&#x27;TotalReads(M)&#x27;, &#x27;%ReadsPanel&#x27;, &#x27;1000x&#x27;, &#x27;500x&#x27;, &#x27;200x&#x27;, &#x27;100x&#x27;, &#x27;50x&#x27;,\n",
       "       &#x27;25x&#x27;, &#x27;DupFrac&#x27;, &#x27;LowCovRegions&#x27;, &#x27;QAStatus_High&#x27;, &#x27;QAStatus_Low&#x27;,\n",
       "       &#x27;QAStatus_Medium&#x27;, &#x27;Gene_BRCA1&#x27;, &#x27;Gene_BRCA2&#x27;, &#x27;SophiaGIStatus_1&#x27;,\n",
       "       &#x27;SophiaGIStatus_2&#x27;, &#x27;SophiaGIStatus_3&#x27;, &#x27;SophiaGIStatus_4&#x27;, &#x27;Purity&#x27;,\n",
       "       &#x27;PurityPloidyRatio&#x27;, &#x27;SOPHiAGIIndex&#x27;, &#x27;ResNoise&#x27;, &#x27;SignalNoiseRatio&#x27;],\n",
       "      dtype=&#x27;object&#x27;))])),\n",
       "                (&#x27;classifier&#x27;, RandomForestClassifier(random_state=42))])</pre></div></div></div><div class=\"sk-serial\"><div class=\"sk-item sk-dashed-wrapped\"><div class=\"sk-label-container\"><div class=\"sk-label sk-toggleable\"><input class=\"sk-toggleable__control sk-hidden--visually\" id=\"sk-estimator-id-12\" type=\"checkbox\" ><label for=\"sk-estimator-id-12\" class=\"sk-toggleable__label sk-toggleable__label-arrow\">preprocessor: ColumnTransformer</label><div class=\"sk-toggleable__content\"><pre>ColumnTransformer(transformers=[(&#x27;num&#x27;, StandardScaler(),\n",
       "                                 Index([&#x27;TotalReads(M)&#x27;, &#x27;%ReadsPanel&#x27;, &#x27;1000x&#x27;, &#x27;500x&#x27;, &#x27;200x&#x27;, &#x27;100x&#x27;, &#x27;50x&#x27;,\n",
       "       &#x27;25x&#x27;, &#x27;DupFrac&#x27;, &#x27;LowCovRegions&#x27;, &#x27;QAStatus_High&#x27;, &#x27;QAStatus_Low&#x27;,\n",
       "       &#x27;QAStatus_Medium&#x27;, &#x27;Gene_BRCA1&#x27;, &#x27;Gene_BRCA2&#x27;, &#x27;SophiaGIStatus_1&#x27;,\n",
       "       &#x27;SophiaGIStatus_2&#x27;, &#x27;SophiaGIStatus_3&#x27;, &#x27;SophiaGIStatus_4&#x27;, &#x27;Purity&#x27;,\n",
       "       &#x27;PurityPloidyRatio&#x27;, &#x27;SOPHiAGIIndex&#x27;, &#x27;ResNoise&#x27;, &#x27;SignalNoiseRatio&#x27;],\n",
       "      dtype=&#x27;object&#x27;))])</pre></div></div></div><div class=\"sk-parallel\"><div class=\"sk-parallel-item\"><div class=\"sk-item\"><div class=\"sk-label-container\"><div class=\"sk-label sk-toggleable\"><input class=\"sk-toggleable__control sk-hidden--visually\" id=\"sk-estimator-id-13\" type=\"checkbox\" ><label for=\"sk-estimator-id-13\" class=\"sk-toggleable__label sk-toggleable__label-arrow\">num</label><div class=\"sk-toggleable__content\"><pre>Index([&#x27;TotalReads(M)&#x27;, &#x27;%ReadsPanel&#x27;, &#x27;1000x&#x27;, &#x27;500x&#x27;, &#x27;200x&#x27;, &#x27;100x&#x27;, &#x27;50x&#x27;,\n",
       "       &#x27;25x&#x27;, &#x27;DupFrac&#x27;, &#x27;LowCovRegions&#x27;, &#x27;QAStatus_High&#x27;, &#x27;QAStatus_Low&#x27;,\n",
       "       &#x27;QAStatus_Medium&#x27;, &#x27;Gene_BRCA1&#x27;, &#x27;Gene_BRCA2&#x27;, &#x27;SophiaGIStatus_1&#x27;,\n",
       "       &#x27;SophiaGIStatus_2&#x27;, &#x27;SophiaGIStatus_3&#x27;, &#x27;SophiaGIStatus_4&#x27;, &#x27;Purity&#x27;,\n",
       "       &#x27;PurityPloidyRatio&#x27;, &#x27;SOPHiAGIIndex&#x27;, &#x27;ResNoise&#x27;, &#x27;SignalNoiseRatio&#x27;],\n",
       "      dtype=&#x27;object&#x27;)</pre></div></div></div><div class=\"sk-serial\"><div class=\"sk-item\"><div class=\"sk-estimator sk-toggleable\"><input class=\"sk-toggleable__control sk-hidden--visually\" id=\"sk-estimator-id-14\" type=\"checkbox\" ><label for=\"sk-estimator-id-14\" class=\"sk-toggleable__label sk-toggleable__label-arrow\">StandardScaler</label><div class=\"sk-toggleable__content\"><pre>StandardScaler()</pre></div></div></div></div></div></div></div></div><div class=\"sk-item\"><div class=\"sk-estimator sk-toggleable\"><input class=\"sk-toggleable__control sk-hidden--visually\" id=\"sk-estimator-id-15\" type=\"checkbox\" ><label for=\"sk-estimator-id-15\" class=\"sk-toggleable__label sk-toggleable__label-arrow\">RandomForestClassifier</label><div class=\"sk-toggleable__content\"><pre>RandomForestClassifier(random_state=42)</pre></div></div></div></div></div></div></div>"
      ],
      "text/plain": [
       "Pipeline(steps=[('preprocessor',\n",
       "                 ColumnTransformer(transformers=[('num', StandardScaler(),\n",
       "                                                  Index(['TotalReads(M)', '%ReadsPanel', '1000x', '500x', '200x', '100x', '50x',\n",
       "       '25x', 'DupFrac', 'LowCovRegions', 'QAStatus_High', 'QAStatus_Low',\n",
       "       'QAStatus_Medium', 'Gene_BRCA1', 'Gene_BRCA2', 'SophiaGIStatus_1',\n",
       "       'SophiaGIStatus_2', 'SophiaGIStatus_3', 'SophiaGIStatus_4', 'Purity',\n",
       "       'PurityPloidyRatio', 'SOPHiAGIIndex', 'ResNoise', 'SignalNoiseRatio'],\n",
       "      dtype='object'))])),\n",
       "                ('classifier', RandomForestClassifier(random_state=42))])"
      ]
     },
     "execution_count": 111,
     "metadata": {},
     "output_type": "execute_result"
    }
   ],
   "source": [
    "# Fit the model on the full training data\n",
    "pipeline.fit(X_train, y_train)"
   ]
  },
  {
   "cell_type": "code",
   "execution_count": 112,
   "metadata": {},
   "outputs": [
    {
     "data": {
      "text/plain": [
       "[(0.13357929597530915, 'SOPHiAGIIndex'),\n",
       " (0.09027659710586787, 'SophiaGIStatus_4'),\n",
       " (0.08527411724623389, 'DupFrac'),\n",
       " (0.08002666845469916, 'TotalReads(M)'),\n",
       " (0.06728600984488674, 'SignalNoiseRatio'),\n",
       " (0.06394632635090594, '%ReadsPanel'),\n",
       " (0.06361155363903502, 'QAStatus_Low'),\n",
       " (0.05713019054352089, 'ResNoise'),\n",
       " (0.03989292585217518, '1000x'),\n",
       " (0.03979766231323775, 'PurityPloidyRatio'),\n",
       " (0.03591191134035451, '500x'),\n",
       " (0.03438814112550864, 'SophiaGIStatus_1'),\n",
       " (0.03117098530741052, 'LowCovRegions'),\n",
       " (0.027772595860092144, 'SophiaGIStatus_2'),\n",
       " (0.02753539131949545, 'SophiaGIStatus_3'),\n",
       " (0.027227672126828625, 'Purity'),\n",
       " (0.018883093850154527, 'Gene_BRCA1'),\n",
       " (0.01873456237558426, '200x'),\n",
       " (0.014925814111287078, '100x'),\n",
       " (0.011633867298269963, 'QAStatus_High'),\n",
       " (0.009869273128176832, '50x'),\n",
       " (0.00841701431303947, 'QAStatus_Medium'),\n",
       " (0.006565391161010356, 'Gene_BRCA2'),\n",
       " (0.006142939356915995, '25x')]"
      ]
     },
     "execution_count": 112,
     "metadata": {},
     "output_type": "execute_result"
    }
   ],
   "source": [
    "# Random Forests in sklearn will automatically calculate feature importance\n",
    "importances = pipeline.named_steps['classifier'].feature_importances_\n",
    "# We can sort the features by their importance\n",
    "sorted(zip(rf_classifier.feature_importances_, X.columns), reverse=True)"
   ]
  },
  {
   "cell_type": "code",
   "execution_count": 113,
   "metadata": {},
   "outputs": [
    {
     "data": {
      "text/plain": [
       "<Axes: title={'center': 'Features Importances'}, ylabel='1'>"
      ]
     },
     "execution_count": 113,
     "metadata": {},
     "output_type": "execute_result"
    },
    {
     "data": {
      "image/png": "[encoded data removed]",
      "text/plain": [
       "<Figure size 640x480 with 1 Axes>"
      ]
     },
     "metadata": {},
     "output_type": "display_data"
    }
   ],
   "source": [
    "# Visualize the features by importance\n",
    "importances_df = pd.DataFrame(sorted(zip(rf_classifier.feature_importances_, X.columns), reverse=True))\n",
    "importances_df.set_index(importances_df[1], inplace=True)\n",
    "importances_df.drop(columns=1, inplace=True)\n",
    "importances_df.rename(columns={0: 'Feature Importances'}, inplace=True)\n",
    "importances_sorted = importances_df.sort_values(by='Feature Importances')\n",
    "importances_sorted.plot(kind='barh', color='lightgreen', title= 'Features Importances', legend=False)"
   ]
  },
  {
   "cell_type": "code",
   "execution_count": 114,
   "metadata": {},
   "outputs": [],
   "source": [
    "# Save the trained model to a file\n",
    "with open('trained_rf_model.pkl', 'wb') as f:\n",
    "    pickle.dump(rf_classifier, f)"
   ]
  },
  {
   "cell_type": "code",
   "execution_count": 115,
   "metadata": {},
   "outputs": [],
   "source": [
    "# Apply UMAP\n",
    "umap_model = umap.UMAP(n_neighbors=11, n_components=2)\n",
    "X_umap = umap_model.fit_transform(X_train)"
   ]
  },
  {
   "cell_type": "code",
   "execution_count": 116,
   "metadata": {},
   "outputs": [
    {
     "data": {
      "image/png": "[encoded data removed]",
      "text/plain": [
       "<Figure size 640x480 with 2 Axes>"
      ]
     },
     "metadata": {},
     "output_type": "display_data"
    }
   ],
   "source": [
    "# Create a scatter plot with colors based on predictions\n",
    "plt.scatter(X_umap[:, 0], X_umap[:, 1], c=y_train, cmap='viridis')\n",
    "\n",
    "# Add colorbar for reference\n",
    "plt.colorbar()\n",
    "\n",
    "# Add title and labels\n",
    "plt.title(\"UMAP Scatter Plot Colored by Model Predictions\")\n",
    "plt.xlabel(\"UMAP Dimension 1\")\n",
    "plt.ylabel(\"UMAP Dimension 2\")\n",
    "\n",
    "# Show the plot\n",
    "plt.show()"
   ]
  },
  {
   "cell_type": "code",
   "execution_count": 117,
   "metadata": {},
   "outputs": [],
   "source": [
    "# Convert UMAP-transformed data to a DataFrame\n",
    "umap_df = pd.DataFrame(X_umap, columns=['UMAP Dimension 1', 'UMAP Dimension 2'])"
   ]
  },
  {
   "cell_type": "code",
   "execution_count": 118,
   "metadata": {},
   "outputs": [
    {
     "data": {
      "application/vnd.plotly.v1+json": {
       "config": {
        "plotlyServerURL": "https://plot.ly"
       },
       "data": [
        {
         "hovertemplate": "<b>%{hovertext}</b><br><br>UMAP Dimension 1=%{x}<br>UMAP Dimension 2=%{y}<extra></extra>",
         "hovertext": [
          0,
          1,
          2,
          3,
          4,
          5,
          6,
          7,
          8,
          9,
          10,
          11,
          12,
          13,
          14,
          15,
          16,
          17,
          18,
          19,
          20,
          21,
          22,
          23,
          24,
          25,
          26,
          27,
          28,
          29,
          30,
          31,
          32,
          33,
          34,
          35,
          36,
          37,
          38,
          39,
          40,
          41,
          42,
          43,
          44,
          45,
          46,
          47,
          48,
          49,
          50,
          51,
          52,
          53,
          54,
          55,
          56,
          57,
          58,
          59,
          60,
          61,
          62,
          63,
          64,
          65,
          66,
          67,
          68,
          69,
          70,
          71,
          72,
          73,
          74,
          75,
          76,
          77,
          78,
          79,
          80,
          81,
          82,
          83,
          84,
          85,
          86,
          87,
          88,
          89,
          90,
          91,
          92,
          93,
          94,
          95,
          96,
          97,
          98,
          99,
          100,
          101,
          102,
          103,
          104,
          105,
          106,
          107,
          108,
          109,
          110
         ],
         "legendgroup": "",
         "marker": {
          "color": "#636efa",
          "symbol": "circle"
         },
         "mode": "markers",
         "name": "",
         "orientation": "v",
         "showlegend": false,
         "type": "scatter",
         "x": [
          16.981063842773438,
          10.395910263061523,
          -4.835171699523926,
          13.360815048217773,
          8.79946231842041,
          17.44196319580078,
          8.555489540100098,
          11.602252960205078,
          12.636213302612305,
          12.209712028503418,
          8.61463737487793,
          -4.4057207107543945,
          9.650839805603027,
          -4.299798488616943,
          13.850963592529297,
          17.2074031829834,
          9.847620010375977,
          17.54413414001465,
          13.840683937072754,
          12.104703903198242,
          -4.261975288391113,
          9.579727172851562,
          11.777616500854492,
          14.755928039550781,
          12.095165252685547,
          13.28952693939209,
          17.244720458984375,
          9.738986015319824,
          -4.250300884246826,
          11.776435852050781,
          13.343303680419922,
          -4.835646152496338,
          11.763117790222168,
          12.050164222717285,
          11.832390785217285,
          10.36742115020752,
          8.984039306640625,
          10.353119850158691,
          10.759953498840332,
          11.125123023986816,
          10.55662727355957,
          11.126601219177246,
          11.997085571289062,
          17.06660270690918,
          13.288477897644043,
          17.041261672973633,
          10.326757431030273,
          -4.513098239898682,
          11.523398399353027,
          12.686585426330566,
          10.042123794555664,
          17.42218589782715,
          13.177118301391602,
          -4.843226909637451,
          14.517717361450195,
          9.463186264038086,
          17.258342742919922,
          9.980355262756348,
          14.28923511505127,
          9.848978996276855,
          9.180367469787598,
          -4.664628982543945,
          9.936664581298828,
          16.970605850219727,
          9.391281127929688,
          9.70703411102295,
          14.89826488494873,
          11.552367210388184,
          16.836652755737305,
          11.298346519470215,
          11.456560134887695,
          16.858631134033203,
          -4.36314058303833,
          14.906854629516602,
          10.241507530212402,
          9.925862312316895,
          17.497364044189453,
          12.976842880249023,
          -4.475869655609131,
          13.377943992614746,
          17.316110610961914,
          10.251590728759766,
          11.643588066101074,
          11.096108436584473,
          15.046808242797852,
          10.74806022644043,
          17.114948272705078,
          16.453187942504883,
          11.651240348815918,
          14.987649917602539,
          14.74101448059082,
          8.688326835632324,
          14.896190643310547,
          -4.305761814117432,
          13.458128929138184,
          11.373919486999512,
          17.25497817993164,
          11.398812294006348,
          8.945258140563965,
          9.13492488861084,
          16.80864906311035,
          12.86585521697998,
          13.041041374206543,
          13.427987098693848,
          11.227652549743652,
          13.494641304016113,
          9.961491584777832,
          10.885648727416992,
          -4.256796836853027,
          12.247559547424316,
          9.806254386901855
         ],
         "xaxis": "x",
         "y": [
          7.914829730987549,
          5.521297931671143,
          7.857419013977051,
          3.5926167964935303,
          3.138683557510376,
          8.492993354797363,
          2.975618839263916,
          2.9361963272094727,
          6.258035182952881,
          6.686482906341553,
          3.1306042671203613,
          7.070427894592285,
          3.181363821029663,
          7.44446325302124,
          7.0572614669799805,
          7.835606098175049,
          4.242042541503906,
          8.589089393615723,
          3.6333723068237305,
          6.060239791870117,
          7.784997940063477,
          3.0544140338897705,
          3.045555353164673,
          3.872927665710449,
          6.23268985748291,
          6.212068557739258,
          7.383424282073975,
          4.366562843322754,
          7.1843461990356445,
          6.3208465576171875,
          6.379977703094482,
          7.619437217712402,
          6.900054931640625,
          6.726448059082031,
          3.091654062271118,
          6.124416828155518,
          3.3191280364990234,
          5.399071216583252,
          6.163753509521484,
          2.916414499282837,
          5.346341609954834,
          6.873383045196533,
          6.576653003692627,
          7.974959373474121,
          3.4645323753356934,
          7.422255992889404,
          5.84749174118042,
          7.756758213043213,
          7.128818035125732,
          6.669042587280273,
          5.762380599975586,
          8.259705543518066,
          6.90796422958374,
          7.639808177947998,
          3.639995574951172,
          3.4111392498016357,
          7.317824363708496,
          4.181070804595947,
          3.6021182537078857,
          6.070150375366211,
          2.6905899047851562,
          7.574335098266602,
          4.156086444854736,
          8.643156051635742,
          3.8643696308135986,
          4.497995376586914,
          3.7982842922210693,
          6.151440620422363,
          7.5282182693481445,
          2.677194595336914,
          2.5536656379699707,
          7.562658309936523,
          7.61025857925415,
          3.8884851932525635,
          5.7765069007873535,
          5.563852787017822,
          8.590656280517578,
          6.790004730224609,
          7.709261894226074,
          6.304087162017822,
          8.409895896911621,
          3.710057020187378,
          5.664878845214844,
          6.416434288024902,
          3.9865705966949463,
          5.673868656158447,
          8.227425575256348,
          8.09986686706543,
          6.5446085929870605,
          3.954514503479004,
          3.735610246658325,
          2.885350465774536,
          3.8372840881347656,
          7.215145111083984,
          3.5014662742614746,
          2.7920682430267334,
          7.873909950256348,
          2.8143692016601562,
          2.7467989921569824,
          2.8365261554718018,
          8.562838554382324,
          6.730010986328125,
          6.640538215637207,
          6.274232387542725,
          5.916604042053223,
          3.582927942276001,
          6.075553894042969,
          5.8893938064575195,
          7.254237174987793,
          6.74030876159668,
          2.8887593746185303
         ],
         "yaxis": "y"
        }
       ],
       "layout": {
        "legend": {
         "tracegroupgap": 0
        },
        "margin": {
         "t": 60
        },
        "template": {
         "data": {
          "bar": [
           {
            "error_x": {
             "color": "#2a3f5f"
            },
            "error_y": {
             "color": "#2a3f5f"
            },
            "marker": {
             "line": {
              "color": "#E5ECF6",
              "width": 0.5
             },
             "pattern": {
              "fillmode": "overlay",
              "size": 10,
              "solidity": 0.2
             }
            },
            "type": "bar"
           }
          ],
          "barpolar": [
           {
            "marker": {
             "line": {
              "color": "#E5ECF6",
              "width": 0.5
             },
             "pattern": {
              "fillmode": "overlay",
              "size": 10,
              "solidity": 0.2
             }
            },
            "type": "barpolar"
           }
          ],
          "carpet": [
           {
            "aaxis": {
             "endlinecolor": "#2a3f5f",
             "gridcolor": "white",
             "linecolor": "white",
             "minorgridcolor": "white",
             "startlinecolor": "#2a3f5f"
            },
            "baxis": {
             "endlinecolor": "#2a3f5f",
             "gridcolor": "white",
             "linecolor": "white",
             "minorgridcolor": "white",
             "startlinecolor": "#2a3f5f"
            },
            "type": "carpet"
           }
          ],
          "choropleth": [
           {
            "colorbar": {
             "outlinewidth": 0,
             "ticks": ""
            },
            "type": "choropleth"
           }
          ],
          "contour": [
           {
            "colorbar": {
             "outlinewidth": 0,
             "ticks": ""
            },
            "colorscale": [
             [
              0,
              "#0d0887"
             ],
             [
              0.1111111111111111,
              "#46039f"
             ],
             [
              0.2222222222222222,
              "#7201a8"
             ],
             [
              0.3333333333333333,
              "#9c179e"
             ],
             [
              0.4444444444444444,
              "#bd3786"
             ],
             [
              0.5555555555555556,
              "#d8576b"
             ],
             [
              0.6666666666666666,
              "#ed7953"
             ],
             [
              0.7777777777777778,
              "#fb9f3a"
             ],
             [
              0.8888888888888888,
              "#fdca26"
             ],
             [
              1,
              "#f0f921"
             ]
            ],
            "type": "contour"
           }
          ],
          "contourcarpet": [
           {
            "colorbar": {
             "outlinewidth": 0,
             "ticks": ""
            },
            "type": "contourcarpet"
           }
          ],
          "heatmap": [
           {
            "colorbar": {
             "outlinewidth": 0,
             "ticks": ""
            },
            "colorscale": [
             [
              0,
              "#0d0887"
             ],
             [
              0.1111111111111111,
              "#46039f"
             ],
             [
              0.2222222222222222,
              "#7201a8"
             ],
             [
              0.3333333333333333,
              "#9c179e"
             ],
             [
              0.4444444444444444,
              "#bd3786"
             ],
             [
              0.5555555555555556,
              "#d8576b"
             ],
             [
              0.6666666666666666,
              "#ed7953"
             ],
             [
              0.7777777777777778,
              "#fb9f3a"
             ],
             [
              0.8888888888888888,
              "#fdca26"
             ],
             [
              1,
              "#f0f921"
             ]
            ],
            "type": "heatmap"
           }
          ],
          "heatmapgl": [
           {
            "colorbar": {
             "outlinewidth": 0,
             "ticks": ""
            },
            "colorscale": [
             [
              0,
              "#0d0887"
             ],
             [
              0.1111111111111111,
              "#46039f"
             ],
             [
              0.2222222222222222,
              "#7201a8"
             ],
             [
              0.3333333333333333,
              "#9c179e"
             ],
             [
              0.4444444444444444,
              "#bd3786"
             ],
             [
              0.5555555555555556,
              "#d8576b"
             ],
             [
              0.6666666666666666,
              "#ed7953"
             ],
             [
              0.7777777777777778,
              "#fb9f3a"
             ],
             [
              0.8888888888888888,
              "#fdca26"
             ],
             [
              1,
              "#f0f921"
             ]
            ],
            "type": "heatmapgl"
           }
          ],
          "histogram": [
           {
            "marker": {
             "pattern": {
              "fillmode": "overlay",
              "size": 10,
              "solidity": 0.2
             }
            },
            "type": "histogram"
           }
          ],
          "histogram2d": [
           {
            "colorbar": {
             "outlinewidth": 0,
             "ticks": ""
            },
            "colorscale": [
             [
              0,
              "#0d0887"
             ],
             [
              0.1111111111111111,
              "#46039f"
             ],
             [
              0.2222222222222222,
              "#7201a8"
             ],
             [
              0.3333333333333333,
              "#9c179e"
             ],
             [
              0.4444444444444444,
              "#bd3786"
             ],
             [
              0.5555555555555556,
              "#d8576b"
             ],
             [
              0.6666666666666666,
              "#ed7953"
             ],
             [
              0.7777777777777778,
              "#fb9f3a"
             ],
             [
              0.8888888888888888,
              "#fdca26"
             ],
             [
              1,
              "#f0f921"
             ]
            ],
            "type": "histogram2d"
           }
          ],
          "histogram2dcontour": [
           {
            "colorbar": {
             "outlinewidth": 0,
             "ticks": ""
            },
            "colorscale": [
             [
              0,
              "#0d0887"
             ],
             [
              0.1111111111111111,
              "#46039f"
             ],
             [
              0.2222222222222222,
              "#7201a8"
             ],
             [
              0.3333333333333333,
              "#9c179e"
             ],
             [
              0.4444444444444444,
              "#bd3786"
             ],
             [
              0.5555555555555556,
              "#d8576b"
             ],
             [
              0.6666666666666666,
              "#ed7953"
             ],
             [
              0.7777777777777778,
              "#fb9f3a"
             ],
             [
              0.8888888888888888,
              "#fdca26"
             ],
             [
              1,
              "#f0f921"
             ]
            ],
            "type": "histogram2dcontour"
           }
          ],
          "mesh3d": [
           {
            "colorbar": {
             "outlinewidth": 0,
             "ticks": ""
            },
            "type": "mesh3d"
           }
          ],
          "parcoords": [
           {
            "line": {
             "colorbar": {
              "outlinewidth": 0,
              "ticks": ""
             }
            },
            "type": "parcoords"
           }
          ],
          "pie": [
           {
            "automargin": true,
            "type": "pie"
           }
          ],
          "scatter": [
           {
            "fillpattern": {
             "fillmode": "overlay",
             "size": 10,
             "solidity": 0.2
            },
            "type": "scatter"
           }
          ],
          "scatter3d": [
           {
            "line": {
             "colorbar": {
              "outlinewidth": 0,
              "ticks": ""
             }
            },
            "marker": {
             "colorbar": {
              "outlinewidth": 0,
              "ticks": ""
             }
            },
            "type": "scatter3d"
           }
          ],
          "scattercarpet": [
           {
            "marker": {
             "colorbar": {
              "outlinewidth": 0,
              "ticks": ""
             }
            },
            "type": "scattercarpet"
           }
          ],
          "scattergeo": [
           {
            "marker": {
             "colorbar": {
              "outlinewidth": 0,
              "ticks": ""
             }
            },
            "type": "scattergeo"
           }
          ],
          "scattergl": [
           {
            "marker": {
             "colorbar": {
              "outlinewidth": 0,
              "ticks": ""
             }
            },
            "type": "scattergl"
           }
          ],
          "scattermapbox": [
           {
            "marker": {
             "colorbar": {
              "outlinewidth": 0,
              "ticks": ""
             }
            },
            "type": "scattermapbox"
           }
          ],
          "scatterpolar": [
           {
            "marker": {
             "colorbar": {
              "outlinewidth": 0,
              "ticks": ""
             }
            },
            "type": "scatterpolar"
           }
          ],
          "scatterpolargl": [
           {
            "marker": {
             "colorbar": {
              "outlinewidth": 0,
              "ticks": ""
             }
            },
            "type": "scatterpolargl"
           }
          ],
          "scatterternary": [
           {
            "marker": {
             "colorbar": {
              "outlinewidth": 0,
              "ticks": ""
             }
            },
            "type": "scatterternary"
           }
          ],
          "surface": [
           {
            "colorbar": {
             "outlinewidth": 0,
             "ticks": ""
            },
            "colorscale": [
             [
              0,
              "#0d0887"
             ],
             [
              0.1111111111111111,
              "#46039f"
             ],
             [
              0.2222222222222222,
              "#7201a8"
             ],
             [
              0.3333333333333333,
              "#9c179e"
             ],
             [
              0.4444444444444444,
              "#bd3786"
             ],
             [
              0.5555555555555556,
              "#d8576b"
             ],
             [
              0.6666666666666666,
              "#ed7953"
             ],
             [
              0.7777777777777778,
              "#fb9f3a"
             ],
             [
              0.8888888888888888,
              "#fdca26"
             ],
             [
              1,
              "#f0f921"
             ]
            ],
            "type": "surface"
           }
          ],
          "table": [
           {
            "cells": {
             "fill": {
              "color": "#EBF0F8"
             },
             "line": {
              "color": "white"
             }
            },
            "header": {
             "fill": {
              "color": "#C8D4E3"
             },
             "line": {
              "color": "white"
             }
            },
            "type": "table"
           }
          ]
         },
         "layout": {
          "annotationdefaults": {
           "arrowcolor": "#2a3f5f",
           "arrowhead": 0,
           "arrowwidth": 1
          },
          "autotypenumbers": "strict",
          "coloraxis": {
           "colorbar": {
            "outlinewidth": 0,
            "ticks": ""
           }
          },
          "colorscale": {
           "diverging": [
            [
             0,
             "#8e0152"
            ],
            [
             0.1,
             "#c51b7d"
            ],
            [
             0.2,
             "#de77ae"
            ],
            [
             0.3,
             "#f1b6da"
            ],
            [
             0.4,
             "#fde0ef"
            ],
            [
             0.5,
             "#f7f7f7"
            ],
            [
             0.6,
             "#e6f5d0"
            ],
            [
             0.7,
             "#b8e186"
            ],
            [
             0.8,
             "#7fbc41"
            ],
            [
             0.9,
             "#4d9221"
            ],
            [
             1,
             "#276419"
            ]
           ],
           "sequential": [
            [
             0,
             "#0d0887"
            ],
            [
             0.1111111111111111,
             "#46039f"
            ],
            [
             0.2222222222222222,
             "#7201a8"
            ],
            [
             0.3333333333333333,
             "#9c179e"
            ],
            [
             0.4444444444444444,
             "#bd3786"
            ],
            [
             0.5555555555555556,
             "#d8576b"
            ],
            [
             0.6666666666666666,
             "#ed7953"
            ],
            [
             0.7777777777777778,
             "#fb9f3a"
            ],
            [
             0.8888888888888888,
             "#fdca26"
            ],
            [
             1,
             "#f0f921"
            ]
           ],
           "sequentialminus": [
            [
             0,
             "#0d0887"
            ],
            [
             0.1111111111111111,
             "#46039f"
            ],
            [
             0.2222222222222222,
             "#7201a8"
            ],
            [
             0.3333333333333333,
             "#9c179e"
            ],
            [
             0.4444444444444444,
             "#bd3786"
            ],
            [
             0.5555555555555556,
             "#d8576b"
            ],
            [
             0.6666666666666666,
             "#ed7953"
            ],
            [
             0.7777777777777778,
             "#fb9f3a"
            ],
            [
             0.8888888888888888,
             "#fdca26"
            ],
            [
             1,
             "#f0f921"
            ]
           ]
          },
          "colorway": [
           "#636efa",
           "#EF553B",
           "#00cc96",
           "#ab63fa",
           "#FFA15A",
           "#19d3f3",
           "#FF6692",
           "#B6E880",
           "#FF97FF",
           "#FECB52"
          ],
          "font": {
           "color": "#2a3f5f"
          },
          "geo": {
           "bgcolor": "white",
           "lakecolor": "white",
           "landcolor": "#E5ECF6",
           "showlakes": true,
           "showland": true,
           "subunitcolor": "white"
          },
          "hoverlabel": {
           "align": "left"
          },
          "hovermode": "closest",
          "mapbox": {
           "style": "light"
          },
          "paper_bgcolor": "white",
          "plot_bgcolor": "#E5ECF6",
          "polar": {
           "angularaxis": {
            "gridcolor": "white",
            "linecolor": "white",
            "ticks": ""
           },
           "bgcolor": "#E5ECF6",
           "radialaxis": {
            "gridcolor": "white",
            "linecolor": "white",
            "ticks": ""
           }
          },
          "scene": {
           "xaxis": {
            "backgroundcolor": "#E5ECF6",
            "gridcolor": "white",
            "gridwidth": 2,
            "linecolor": "white",
            "showbackground": true,
            "ticks": "",
            "zerolinecolor": "white"
           },
           "yaxis": {
            "backgroundcolor": "#E5ECF6",
            "gridcolor": "white",
            "gridwidth": 2,
            "linecolor": "white",
            "showbackground": true,
            "ticks": "",
            "zerolinecolor": "white"
           },
           "zaxis": {
            "backgroundcolor": "#E5ECF6",
            "gridcolor": "white",
            "gridwidth": 2,
            "linecolor": "white",
            "showbackground": true,
            "ticks": "",
            "zerolinecolor": "white"
           }
          },
          "shapedefaults": {
           "line": {
            "color": "#2a3f5f"
           }
          },
          "ternary": {
           "aaxis": {
            "gridcolor": "white",
            "linecolor": "white",
            "ticks": ""
           },
           "baxis": {
            "gridcolor": "white",
            "linecolor": "white",
            "ticks": ""
           },
           "bgcolor": "#E5ECF6",
           "caxis": {
            "gridcolor": "white",
            "linecolor": "white",
            "ticks": ""
           }
          },
          "title": {
           "x": 0.05
          },
          "xaxis": {
           "automargin": true,
           "gridcolor": "white",
           "linecolor": "white",
           "ticks": "",
           "title": {
            "standoff": 15
           },
           "zerolinecolor": "white",
           "zerolinewidth": 2
          },
          "yaxis": {
           "automargin": true,
           "gridcolor": "white",
           "linecolor": "white",
           "ticks": "",
           "title": {
            "standoff": 15
           },
           "zerolinecolor": "white",
           "zerolinewidth": 2
          }
         }
        },
        "xaxis": {
         "anchor": "y",
         "domain": [
          0,
          1
         ],
         "title": {
          "text": "UMAP Dimension 1"
         }
        },
        "yaxis": {
         "anchor": "x",
         "domain": [
          0,
          1
         ],
         "title": {
          "text": "UMAP Dimension 2"
         }
        }
       }
      }
     },
     "metadata": {},
     "output_type": "display_data"
    }
   ],
   "source": [
    "\n",
    "# Create an interactive scatter plot using Plotly\n",
    "fig = px.scatter(umap_df, x='UMAP Dimension 1', y='UMAP Dimension 2', hover_name=umap_df.index)\n",
    "\n",
    "# Show the plot\n",
    "fig.show()"
   ]
  }
 ],
 "metadata": {
  "kernelspec": {
   "display_name": "bootcamp",
   "language": "python",
   "name": "python3"
  },
  "language_info": {
   "codemirror_mode": {
    "name": "ipython",
    "version": 3
   },
   "file_extension": ".py",
   "mimetype": "text/x-python",
   "name": "python",
   "nbconvert_exporter": "python",
   "pygments_lexer": "ipython3",
   "version": "3.10.9"
  },
  "orig_nbformat": 4
 },
 "nbformat": 4,
 "nbformat_minor": 2
}
