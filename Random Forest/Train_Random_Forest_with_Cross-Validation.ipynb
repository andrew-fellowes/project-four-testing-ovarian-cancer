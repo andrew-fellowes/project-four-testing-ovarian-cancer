{
 "cells": [
  {
   "cell_type": "code",
   "execution_count": 2,
   "metadata": {},
   "outputs": [
    {
     "name": "stderr",
     "output_type": "stream",
     "text": [
      "2023-08-09 20:57:11.912298: I tensorflow/core/platform/cpu_feature_guard.cc:182] This TensorFlow binary is optimized to use available CPU instructions in performance-critical operations.\n",
      "To enable the following instructions: AVX2 FMA, in other operations, rebuild TensorFlow with the appropriate compiler flags.\n"
     ]
    }
   ],
   "source": [
    "# Import dependancies\n",
    "import pandas as pd\n",
    "from sklearn.model_selection import train_test_split, cross_val_predict\n",
    "from sklearn.ensemble import RandomForestClassifier\n",
    "from sklearn.preprocessing import StandardScaler, OneHotEncoder\n",
    "from sklearn.compose import ColumnTransformer\n",
    "from sklearn.pipeline import Pipeline\n",
    "from sklearn.metrics import confusion_matrix, accuracy_score, classification_report\n",
    "import pickle\n",
    "import umap\n",
    "import matplotlib.pyplot as plt\n",
    "import numpy as np\n",
    "import plotly.express as px\n"
   ]
  },
  {
   "cell_type": "code",
   "execution_count": 3,
   "metadata": {},
   "outputs": [],
   "source": [
    "# Load CSV data\n",
    "data = pd.read_csv('preprocessed_training_data.csv')"
   ]
  },
  {
   "cell_type": "code",
   "execution_count": 4,
   "metadata": {},
   "outputs": [
    {
     "data": {
      "text/html": [
       "<div>\n",
       "<style scoped>\n",
       "    .dataframe tbody tr th:only-of-type {\n",
       "        vertical-align: middle;\n",
       "    }\n",
       "\n",
       "    .dataframe tbody tr th {\n",
       "        vertical-align: top;\n",
       "    }\n",
       "\n",
       "    .dataframe thead th {\n",
       "        text-align: right;\n",
       "    }\n",
       "</style>\n",
       "<table border=\"1\" class=\"dataframe\">\n",
       "  <thead>\n",
       "    <tr style=\"text-align: right;\">\n",
       "      <th></th>\n",
       "      <th>TotalReads(M)</th>\n",
       "      <th>%ReadsPanel</th>\n",
       "      <th>1000x</th>\n",
       "      <th>500x</th>\n",
       "      <th>200x</th>\n",
       "      <th>100x</th>\n",
       "      <th>50x</th>\n",
       "      <th>25x</th>\n",
       "      <th>DupFrac</th>\n",
       "      <th>LowCovRegions</th>\n",
       "      <th>...</th>\n",
       "      <th>SophiaGIStatus_1</th>\n",
       "      <th>SophiaGIStatus_2</th>\n",
       "      <th>SophiaGIStatus_3</th>\n",
       "      <th>SophiaGIStatus_4</th>\n",
       "      <th>Purity</th>\n",
       "      <th>PurityPloidyRatio</th>\n",
       "      <th>SOPHiAGIIndex</th>\n",
       "      <th>ResNoise</th>\n",
       "      <th>SignalNoiseRatio</th>\n",
       "      <th>Agreement2</th>\n",
       "    </tr>\n",
       "  </thead>\n",
       "  <tbody>\n",
       "    <tr>\n",
       "      <th>0</th>\n",
       "      <td>7.3</td>\n",
       "      <td>0.19</td>\n",
       "      <td>0.01</td>\n",
       "      <td>0.05</td>\n",
       "      <td>0.49</td>\n",
       "      <td>0.84</td>\n",
       "      <td>0.98</td>\n",
       "      <td>1.0</td>\n",
       "      <td>0.67</td>\n",
       "      <td>769</td>\n",
       "      <td>...</td>\n",
       "      <td>1</td>\n",
       "      <td>0</td>\n",
       "      <td>0</td>\n",
       "      <td>0</td>\n",
       "      <td>20.0</td>\n",
       "      <td>0.285591</td>\n",
       "      <td>3.2</td>\n",
       "      <td>0.13</td>\n",
       "      <td>2.95</td>\n",
       "      <td>1</td>\n",
       "    </tr>\n",
       "    <tr>\n",
       "      <th>1</th>\n",
       "      <td>7.3</td>\n",
       "      <td>0.24</td>\n",
       "      <td>0.02</td>\n",
       "      <td>0.12</td>\n",
       "      <td>0.73</td>\n",
       "      <td>0.97</td>\n",
       "      <td>1.00</td>\n",
       "      <td>1.0</td>\n",
       "      <td>0.68</td>\n",
       "      <td>580</td>\n",
       "      <td>...</td>\n",
       "      <td>0</td>\n",
       "      <td>1</td>\n",
       "      <td>0</td>\n",
       "      <td>0</td>\n",
       "      <td>30.0</td>\n",
       "      <td>0.200000</td>\n",
       "      <td>-15.7</td>\n",
       "      <td>0.11</td>\n",
       "      <td>2.91</td>\n",
       "      <td>1</td>\n",
       "    </tr>\n",
       "    <tr>\n",
       "      <th>2</th>\n",
       "      <td>9.6</td>\n",
       "      <td>0.36</td>\n",
       "      <td>0.41</td>\n",
       "      <td>0.97</td>\n",
       "      <td>1.00</td>\n",
       "      <td>1.00</td>\n",
       "      <td>1.00</td>\n",
       "      <td>1.0</td>\n",
       "      <td>0.58</td>\n",
       "      <td>7</td>\n",
       "      <td>...</td>\n",
       "      <td>0</td>\n",
       "      <td>1</td>\n",
       "      <td>0</td>\n",
       "      <td>0</td>\n",
       "      <td>20.0</td>\n",
       "      <td>0.150000</td>\n",
       "      <td>-4.6</td>\n",
       "      <td>0.10</td>\n",
       "      <td>1.64</td>\n",
       "      <td>1</td>\n",
       "    </tr>\n",
       "    <tr>\n",
       "      <th>3</th>\n",
       "      <td>8.9</td>\n",
       "      <td>0.37</td>\n",
       "      <td>0.16</td>\n",
       "      <td>0.71</td>\n",
       "      <td>0.99</td>\n",
       "      <td>1.00</td>\n",
       "      <td>1.00</td>\n",
       "      <td>1.0</td>\n",
       "      <td>0.71</td>\n",
       "      <td>33</td>\n",
       "      <td>...</td>\n",
       "      <td>0</td>\n",
       "      <td>1</td>\n",
       "      <td>0</td>\n",
       "      <td>0</td>\n",
       "      <td>20.0</td>\n",
       "      <td>0.170000</td>\n",
       "      <td>-4.6</td>\n",
       "      <td>0.09</td>\n",
       "      <td>3.49</td>\n",
       "      <td>1</td>\n",
       "    </tr>\n",
       "    <tr>\n",
       "      <th>4</th>\n",
       "      <td>8.6</td>\n",
       "      <td>0.42</td>\n",
       "      <td>0.02</td>\n",
       "      <td>0.46</td>\n",
       "      <td>1.00</td>\n",
       "      <td>1.00</td>\n",
       "      <td>1.00</td>\n",
       "      <td>1.0</td>\n",
       "      <td>0.81</td>\n",
       "      <td>15</td>\n",
       "      <td>...</td>\n",
       "      <td>0</td>\n",
       "      <td>1</td>\n",
       "      <td>0</td>\n",
       "      <td>0</td>\n",
       "      <td>60.0</td>\n",
       "      <td>0.200000</td>\n",
       "      <td>-8.2</td>\n",
       "      <td>0.11</td>\n",
       "      <td>2.18</td>\n",
       "      <td>1</td>\n",
       "    </tr>\n",
       "  </tbody>\n",
       "</table>\n",
       "<p>5 rows × 25 columns</p>\n",
       "</div>"
      ],
      "text/plain": [
       "   TotalReads(M)  %ReadsPanel  1000x  500x  200x  100x   50x  25x  DupFrac  \\\n",
       "0            7.3         0.19   0.01  0.05  0.49  0.84  0.98  1.0     0.67   \n",
       "1            7.3         0.24   0.02  0.12  0.73  0.97  1.00  1.0     0.68   \n",
       "2            9.6         0.36   0.41  0.97  1.00  1.00  1.00  1.0     0.58   \n",
       "3            8.9         0.37   0.16  0.71  0.99  1.00  1.00  1.0     0.71   \n",
       "4            8.6         0.42   0.02  0.46  1.00  1.00  1.00  1.0     0.81   \n",
       "\n",
       "   LowCovRegions  ...  SophiaGIStatus_1  SophiaGIStatus_2  SophiaGIStatus_3  \\\n",
       "0            769  ...                 1                 0                 0   \n",
       "1            580  ...                 0                 1                 0   \n",
       "2              7  ...                 0                 1                 0   \n",
       "3             33  ...                 0                 1                 0   \n",
       "4             15  ...                 0                 1                 0   \n",
       "\n",
       "   SophiaGIStatus_4  Purity  PurityPloidyRatio  SOPHiAGIIndex  ResNoise  \\\n",
       "0                 0    20.0           0.285591            3.2      0.13   \n",
       "1                 0    30.0           0.200000          -15.7      0.11   \n",
       "2                 0    20.0           0.150000           -4.6      0.10   \n",
       "3                 0    20.0           0.170000           -4.6      0.09   \n",
       "4                 0    60.0           0.200000           -8.2      0.11   \n",
       "\n",
       "   SignalNoiseRatio  Agreement2  \n",
       "0              2.95           1  \n",
       "1              2.91           1  \n",
       "2              1.64           1  \n",
       "3              3.49           1  \n",
       "4              2.18           1  \n",
       "\n",
       "[5 rows x 25 columns]"
      ]
     },
     "execution_count": 4,
     "metadata": {},
     "output_type": "execute_result"
    }
   ],
   "source": [
    "data.head()"
   ]
  },
  {
   "cell_type": "code",
   "execution_count": 5,
   "metadata": {},
   "outputs": [],
   "source": [
    "# Separate features and target\n",
    "X = data.iloc[:, :-1]\n",
    "y = data['Agreement2']"
   ]
  },
  {
   "cell_type": "code",
   "execution_count": 6,
   "metadata": {},
   "outputs": [
    {
     "data": {
      "text/plain": [
       "Index(['TotalReads(M)', '%ReadsPanel', '1000x', '500x', '200x', '100x', '50x',\n",
       "       '25x', 'DupFrac', 'LowCovRegions', 'QAStatus_High', 'QAStatus_Low',\n",
       "       'QAStatus_Medium', 'Gene_BRCA1', 'Gene_BRCA2', 'SophiaGIStatus_1',\n",
       "       'SophiaGIStatus_2', 'SophiaGIStatus_3', 'SophiaGIStatus_4', 'Purity',\n",
       "       'PurityPloidyRatio', 'SOPHiAGIIndex', 'ResNoise', 'SignalNoiseRatio'],\n",
       "      dtype='object')"
      ]
     },
     "execution_count": 6,
     "metadata": {},
     "output_type": "execute_result"
    }
   ],
   "source": [
    "X.columns"
   ]
  },
  {
   "cell_type": "code",
   "execution_count": 7,
   "metadata": {},
   "outputs": [
    {
     "data": {
      "text/plain": [
       "[1, 1, 1, 1, 1, 1, 0, 1, 1, 1, 1, 1, 0, 1, 1, 1, 1, 1, 1, 1]"
      ]
     },
     "execution_count": 7,
     "metadata": {},
     "output_type": "execute_result"
    }
   ],
   "source": [
    "y[:20].to_list()"
   ]
  },
  {
   "cell_type": "code",
   "execution_count": 8,
   "metadata": {},
   "outputs": [],
   "source": [
    "# Split data into train and test sets\n",
    "X_train, X_test, y_train, y_test = train_test_split(X, y, test_size=0.2, random_state=42)"
   ]
  },
  {
   "cell_type": "code",
   "execution_count": 9,
   "metadata": {},
   "outputs": [],
   "source": [
    "# Define which columns need standard scaling\n",
    "num_cols = X.select_dtypes(include=['float64', 'int64']).columns"
   ]
  },
  {
   "cell_type": "code",
   "execution_count": 10,
   "metadata": {},
   "outputs": [],
   "source": [
    "# Create preprocessing pipeline\n",
    "preprocessor = ColumnTransformer(\n",
    "    transformers=[\n",
    "        ('num', StandardScaler(), num_cols),\n",
    "    ])"
   ]
  },
  {
   "cell_type": "code",
   "execution_count": 11,
   "metadata": {},
   "outputs": [],
   "source": [
    "# Create a Random Forest classifier\n",
    "rf_classifier = RandomForestClassifier(n_estimators=100, random_state=42)"
   ]
  },
  {
   "cell_type": "code",
   "execution_count": 12,
   "metadata": {},
   "outputs": [],
   "source": [
    "# Create a pipeline combining preprocessing and classifier\n",
    "pipeline = Pipeline([\n",
    "    ('preprocessor', preprocessor),\n",
    "    ('classifier', rf_classifier)\n",
    "])"
   ]
  },
  {
   "cell_type": "code",
   "execution_count": 13,
   "metadata": {},
   "outputs": [],
   "source": [
    "# Make prediction\n",
    "y_pred = cross_val_predict(pipeline, X_train, y_train, cv=5)"
   ]
  },
  {
   "cell_type": "markdown",
   "metadata": {},
   "source": [
    "## Evaluate"
   ]
  },
  {
   "cell_type": "code",
   "execution_count": 14,
   "metadata": {},
   "outputs": [
    {
     "name": "stdout",
     "output_type": "stream",
     "text": [
      "Confusion Matrix:\n",
      "[[ 9 17]\n",
      " [ 6 79]]\n",
      "\n",
      "Accuracy: 0.7927927927927928\n",
      "\n",
      "Classification Report:\n",
      "              precision    recall  f1-score   support\n",
      "\n",
      "           0       0.60      0.35      0.44        26\n",
      "           1       0.82      0.93      0.87        85\n",
      "\n",
      "    accuracy                           0.79       111\n",
      "   macro avg       0.71      0.64      0.66       111\n",
      "weighted avg       0.77      0.79      0.77       111\n",
      "\n"
     ]
    }
   ],
   "source": [
    "# Evaluate the model\n",
    "print(\"Confusion Matrix:\")\n",
    "print(confusion_matrix(y_train, y_pred))\n",
    "print(\"\\nAccuracy:\", accuracy_score(y_train, y_pred))\n",
    "print(\"\\nClassification Report:\")\n",
    "print(classification_report(y_train, y_pred))"
   ]
  },
  {
   "cell_type": "code",
   "execution_count": 15,
   "metadata": {},
   "outputs": [
    {
     "data": {
      "text/html": [
       "<style>#sk-container-id-1 {color: black;background-color: white;}#sk-container-id-1 pre{padding: 0;}#sk-container-id-1 div.sk-toggleable {background-color: white;}#sk-container-id-1 label.sk-toggleable__label {cursor: pointer;display: block;width: 100%;margin-bottom: 0;padding: 0.3em;box-sizing: border-box;text-align: center;}#sk-container-id-1 label.sk-toggleable__label-arrow:before {content: \"▸\";float: left;margin-right: 0.25em;color: #696969;}#sk-container-id-1 label.sk-toggleable__label-arrow:hover:before {color: black;}#sk-container-id-1 div.sk-estimator:hover label.sk-toggleable__label-arrow:before {color: black;}#sk-container-id-1 div.sk-toggleable__content {max-height: 0;max-width: 0;overflow: hidden;text-align: left;background-color: #f0f8ff;}#sk-container-id-1 div.sk-toggleable__content pre {margin: 0.2em;color: black;border-radius: 0.25em;background-color: #f0f8ff;}#sk-container-id-1 input.sk-toggleable__control:checked~div.sk-toggleable__content {max-height: 200px;max-width: 100%;overflow: auto;}#sk-container-id-1 input.sk-toggleable__control:checked~label.sk-toggleable__label-arrow:before {content: \"▾\";}#sk-container-id-1 div.sk-estimator input.sk-toggleable__control:checked~label.sk-toggleable__label {background-color: #d4ebff;}#sk-container-id-1 div.sk-label input.sk-toggleable__control:checked~label.sk-toggleable__label {background-color: #d4ebff;}#sk-container-id-1 input.sk-hidden--visually {border: 0;clip: rect(1px 1px 1px 1px);clip: rect(1px, 1px, 1px, 1px);height: 1px;margin: -1px;overflow: hidden;padding: 0;position: absolute;width: 1px;}#sk-container-id-1 div.sk-estimator {font-family: monospace;background-color: #f0f8ff;border: 1px dotted black;border-radius: 0.25em;box-sizing: border-box;margin-bottom: 0.5em;}#sk-container-id-1 div.sk-estimator:hover {background-color: #d4ebff;}#sk-container-id-1 div.sk-parallel-item::after {content: \"\";width: 100%;border-bottom: 1px solid gray;flex-grow: 1;}#sk-container-id-1 div.sk-label:hover label.sk-toggleable__label {background-color: #d4ebff;}#sk-container-id-1 div.sk-serial::before {content: \"\";position: absolute;border-left: 1px solid gray;box-sizing: border-box;top: 0;bottom: 0;left: 50%;z-index: 0;}#sk-container-id-1 div.sk-serial {display: flex;flex-direction: column;align-items: center;background-color: white;padding-right: 0.2em;padding-left: 0.2em;position: relative;}#sk-container-id-1 div.sk-item {position: relative;z-index: 1;}#sk-container-id-1 div.sk-parallel {display: flex;align-items: stretch;justify-content: center;background-color: white;position: relative;}#sk-container-id-1 div.sk-item::before, #sk-container-id-1 div.sk-parallel-item::before {content: \"\";position: absolute;border-left: 1px solid gray;box-sizing: border-box;top: 0;bottom: 0;left: 50%;z-index: -1;}#sk-container-id-1 div.sk-parallel-item {display: flex;flex-direction: column;z-index: 1;position: relative;background-color: white;}#sk-container-id-1 div.sk-parallel-item:first-child::after {align-self: flex-end;width: 50%;}#sk-container-id-1 div.sk-parallel-item:last-child::after {align-self: flex-start;width: 50%;}#sk-container-id-1 div.sk-parallel-item:only-child::after {width: 0;}#sk-container-id-1 div.sk-dashed-wrapped {border: 1px dashed gray;margin: 0 0.4em 0.5em 0.4em;box-sizing: border-box;padding-bottom: 0.4em;background-color: white;}#sk-container-id-1 div.sk-label label {font-family: monospace;font-weight: bold;display: inline-block;line-height: 1.2em;}#sk-container-id-1 div.sk-label-container {text-align: center;}#sk-container-id-1 div.sk-container {/* jupyter's `normalize.less` sets `[hidden] { display: none; }` but bootstrap.min.css set `[hidden] { display: none !important; }` so we also need the `!important` here to be able to override the default hidden behavior on the sphinx rendered scikit-learn.org. See: https://github.com/scikit-learn/scikit-learn/issues/21755 */display: inline-block !important;position: relative;}#sk-container-id-1 div.sk-text-repr-fallback {display: none;}</style><div id=\"sk-container-id-1\" class=\"sk-top-container\"><div class=\"sk-text-repr-fallback\"><pre>Pipeline(steps=[(&#x27;preprocessor&#x27;,\n",
       "                 ColumnTransformer(transformers=[(&#x27;num&#x27;, StandardScaler(),\n",
       "                                                  Index([&#x27;TotalReads(M)&#x27;, &#x27;%ReadsPanel&#x27;, &#x27;1000x&#x27;, &#x27;500x&#x27;, &#x27;200x&#x27;, &#x27;100x&#x27;, &#x27;50x&#x27;,\n",
       "       &#x27;25x&#x27;, &#x27;DupFrac&#x27;, &#x27;LowCovRegions&#x27;, &#x27;QAStatus_High&#x27;, &#x27;QAStatus_Low&#x27;,\n",
       "       &#x27;QAStatus_Medium&#x27;, &#x27;Gene_BRCA1&#x27;, &#x27;Gene_BRCA2&#x27;, &#x27;SophiaGIStatus_1&#x27;,\n",
       "       &#x27;SophiaGIStatus_2&#x27;, &#x27;SophiaGIStatus_3&#x27;, &#x27;SophiaGIStatus_4&#x27;, &#x27;Purity&#x27;,\n",
       "       &#x27;PurityPloidyRatio&#x27;, &#x27;SOPHiAGIIndex&#x27;, &#x27;ResNoise&#x27;, &#x27;SignalNoiseRatio&#x27;],\n",
       "      dtype=&#x27;object&#x27;))])),\n",
       "                (&#x27;classifier&#x27;, RandomForestClassifier(random_state=42))])</pre><b>In a Jupyter environment, please rerun this cell to show the HTML representation or trust the notebook. <br />On GitHub, the HTML representation is unable to render, please try loading this page with nbviewer.org.</b></div><div class=\"sk-container\" hidden><div class=\"sk-item sk-dashed-wrapped\"><div class=\"sk-label-container\"><div class=\"sk-label sk-toggleable\"><input class=\"sk-toggleable__control sk-hidden--visually\" id=\"sk-estimator-id-1\" type=\"checkbox\" ><label for=\"sk-estimator-id-1\" class=\"sk-toggleable__label sk-toggleable__label-arrow\">Pipeline</label><div class=\"sk-toggleable__content\"><pre>Pipeline(steps=[(&#x27;preprocessor&#x27;,\n",
       "                 ColumnTransformer(transformers=[(&#x27;num&#x27;, StandardScaler(),\n",
       "                                                  Index([&#x27;TotalReads(M)&#x27;, &#x27;%ReadsPanel&#x27;, &#x27;1000x&#x27;, &#x27;500x&#x27;, &#x27;200x&#x27;, &#x27;100x&#x27;, &#x27;50x&#x27;,\n",
       "       &#x27;25x&#x27;, &#x27;DupFrac&#x27;, &#x27;LowCovRegions&#x27;, &#x27;QAStatus_High&#x27;, &#x27;QAStatus_Low&#x27;,\n",
       "       &#x27;QAStatus_Medium&#x27;, &#x27;Gene_BRCA1&#x27;, &#x27;Gene_BRCA2&#x27;, &#x27;SophiaGIStatus_1&#x27;,\n",
       "       &#x27;SophiaGIStatus_2&#x27;, &#x27;SophiaGIStatus_3&#x27;, &#x27;SophiaGIStatus_4&#x27;, &#x27;Purity&#x27;,\n",
       "       &#x27;PurityPloidyRatio&#x27;, &#x27;SOPHiAGIIndex&#x27;, &#x27;ResNoise&#x27;, &#x27;SignalNoiseRatio&#x27;],\n",
       "      dtype=&#x27;object&#x27;))])),\n",
       "                (&#x27;classifier&#x27;, RandomForestClassifier(random_state=42))])</pre></div></div></div><div class=\"sk-serial\"><div class=\"sk-item sk-dashed-wrapped\"><div class=\"sk-label-container\"><div class=\"sk-label sk-toggleable\"><input class=\"sk-toggleable__control sk-hidden--visually\" id=\"sk-estimator-id-2\" type=\"checkbox\" ><label for=\"sk-estimator-id-2\" class=\"sk-toggleable__label sk-toggleable__label-arrow\">preprocessor: ColumnTransformer</label><div class=\"sk-toggleable__content\"><pre>ColumnTransformer(transformers=[(&#x27;num&#x27;, StandardScaler(),\n",
       "                                 Index([&#x27;TotalReads(M)&#x27;, &#x27;%ReadsPanel&#x27;, &#x27;1000x&#x27;, &#x27;500x&#x27;, &#x27;200x&#x27;, &#x27;100x&#x27;, &#x27;50x&#x27;,\n",
       "       &#x27;25x&#x27;, &#x27;DupFrac&#x27;, &#x27;LowCovRegions&#x27;, &#x27;QAStatus_High&#x27;, &#x27;QAStatus_Low&#x27;,\n",
       "       &#x27;QAStatus_Medium&#x27;, &#x27;Gene_BRCA1&#x27;, &#x27;Gene_BRCA2&#x27;, &#x27;SophiaGIStatus_1&#x27;,\n",
       "       &#x27;SophiaGIStatus_2&#x27;, &#x27;SophiaGIStatus_3&#x27;, &#x27;SophiaGIStatus_4&#x27;, &#x27;Purity&#x27;,\n",
       "       &#x27;PurityPloidyRatio&#x27;, &#x27;SOPHiAGIIndex&#x27;, &#x27;ResNoise&#x27;, &#x27;SignalNoiseRatio&#x27;],\n",
       "      dtype=&#x27;object&#x27;))])</pre></div></div></div><div class=\"sk-parallel\"><div class=\"sk-parallel-item\"><div class=\"sk-item\"><div class=\"sk-label-container\"><div class=\"sk-label sk-toggleable\"><input class=\"sk-toggleable__control sk-hidden--visually\" id=\"sk-estimator-id-3\" type=\"checkbox\" ><label for=\"sk-estimator-id-3\" class=\"sk-toggleable__label sk-toggleable__label-arrow\">num</label><div class=\"sk-toggleable__content\"><pre>Index([&#x27;TotalReads(M)&#x27;, &#x27;%ReadsPanel&#x27;, &#x27;1000x&#x27;, &#x27;500x&#x27;, &#x27;200x&#x27;, &#x27;100x&#x27;, &#x27;50x&#x27;,\n",
       "       &#x27;25x&#x27;, &#x27;DupFrac&#x27;, &#x27;LowCovRegions&#x27;, &#x27;QAStatus_High&#x27;, &#x27;QAStatus_Low&#x27;,\n",
       "       &#x27;QAStatus_Medium&#x27;, &#x27;Gene_BRCA1&#x27;, &#x27;Gene_BRCA2&#x27;, &#x27;SophiaGIStatus_1&#x27;,\n",
       "       &#x27;SophiaGIStatus_2&#x27;, &#x27;SophiaGIStatus_3&#x27;, &#x27;SophiaGIStatus_4&#x27;, &#x27;Purity&#x27;,\n",
       "       &#x27;PurityPloidyRatio&#x27;, &#x27;SOPHiAGIIndex&#x27;, &#x27;ResNoise&#x27;, &#x27;SignalNoiseRatio&#x27;],\n",
       "      dtype=&#x27;object&#x27;)</pre></div></div></div><div class=\"sk-serial\"><div class=\"sk-item\"><div class=\"sk-estimator sk-toggleable\"><input class=\"sk-toggleable__control sk-hidden--visually\" id=\"sk-estimator-id-4\" type=\"checkbox\" ><label for=\"sk-estimator-id-4\" class=\"sk-toggleable__label sk-toggleable__label-arrow\">StandardScaler</label><div class=\"sk-toggleable__content\"><pre>StandardScaler()</pre></div></div></div></div></div></div></div></div><div class=\"sk-item\"><div class=\"sk-estimator sk-toggleable\"><input class=\"sk-toggleable__control sk-hidden--visually\" id=\"sk-estimator-id-5\" type=\"checkbox\" ><label for=\"sk-estimator-id-5\" class=\"sk-toggleable__label sk-toggleable__label-arrow\">RandomForestClassifier</label><div class=\"sk-toggleable__content\"><pre>RandomForestClassifier(random_state=42)</pre></div></div></div></div></div></div></div>"
      ],
      "text/plain": [
       "Pipeline(steps=[('preprocessor',\n",
       "                 ColumnTransformer(transformers=[('num', StandardScaler(),\n",
       "                                                  Index(['TotalReads(M)', '%ReadsPanel', '1000x', '500x', '200x', '100x', '50x',\n",
       "       '25x', 'DupFrac', 'LowCovRegions', 'QAStatus_High', 'QAStatus_Low',\n",
       "       'QAStatus_Medium', 'Gene_BRCA1', 'Gene_BRCA2', 'SophiaGIStatus_1',\n",
       "       'SophiaGIStatus_2', 'SophiaGIStatus_3', 'SophiaGIStatus_4', 'Purity',\n",
       "       'PurityPloidyRatio', 'SOPHiAGIIndex', 'ResNoise', 'SignalNoiseRatio'],\n",
       "      dtype='object'))])),\n",
       "                ('classifier', RandomForestClassifier(random_state=42))])"
      ]
     },
     "execution_count": 15,
     "metadata": {},
     "output_type": "execute_result"
    }
   ],
   "source": [
    "# Fit the model on the full training data\n",
    "pipeline.fit(X_train, y_train)"
   ]
  },
  {
   "cell_type": "code",
   "execution_count": 16,
   "metadata": {},
   "outputs": [
    {
     "data": {
      "text/plain": [
       "[(0.13357929597530915, 'SOPHiAGIIndex'),\n",
       " (0.09027659710586787, 'SophiaGIStatus_4'),\n",
       " (0.08527411724623389, 'DupFrac'),\n",
       " (0.08002666845469916, 'TotalReads(M)'),\n",
       " (0.06728600984488674, 'SignalNoiseRatio'),\n",
       " (0.06394632635090594, '%ReadsPanel'),\n",
       " (0.06361155363903502, 'QAStatus_Low'),\n",
       " (0.05713019054352089, 'ResNoise'),\n",
       " (0.03989292585217518, '1000x'),\n",
       " (0.03979766231323775, 'PurityPloidyRatio'),\n",
       " (0.03591191134035451, '500x'),\n",
       " (0.03438814112550864, 'SophiaGIStatus_1'),\n",
       " (0.03117098530741052, 'LowCovRegions'),\n",
       " (0.027772595860092144, 'SophiaGIStatus_2'),\n",
       " (0.02753539131949545, 'SophiaGIStatus_3'),\n",
       " (0.027227672126828625, 'Purity'),\n",
       " (0.018883093850154527, 'Gene_BRCA1'),\n",
       " (0.01873456237558426, '200x'),\n",
       " (0.014925814111287078, '100x'),\n",
       " (0.011633867298269963, 'QAStatus_High'),\n",
       " (0.009869273128176832, '50x'),\n",
       " (0.00841701431303947, 'QAStatus_Medium'),\n",
       " (0.006565391161010356, 'Gene_BRCA2'),\n",
       " (0.006142939356915995, '25x')]"
      ]
     },
     "execution_count": 16,
     "metadata": {},
     "output_type": "execute_result"
    }
   ],
   "source": [
    "# Random Forests in sklearn will automatically calculate feature importance\n",
    "importances = pipeline.named_steps['classifier'].feature_importances_\n",
    "# We can sort the features by their importance\n",
    "sorted(zip(rf_classifier.feature_importances_, X.columns), reverse=True)"
   ]
  },
  {
   "cell_type": "code",
   "execution_count": 17,
   "metadata": {},
   "outputs": [
    {
     "data": {
      "text/plain": [
       "<Axes: title={'center': 'Features Importances'}, ylabel='1'>"
      ]
     },
     "execution_count": 17,
     "metadata": {},
     "output_type": "execute_result"
    },
    {
     "data": {
      "image/png": "[encoded data removed]",
      "text/plain": [
       "<Figure size 640x480 with 1 Axes>"
      ]
     },
     "metadata": {},
     "output_type": "display_data"
    }
   ],
   "source": [
    "# Visualize the features by importance\n",
    "importances_df = pd.DataFrame(sorted(zip(rf_classifier.feature_importances_, X.columns), reverse=True))\n",
    "importances_df.set_index(importances_df[1], inplace=True)\n",
    "importances_df.drop(columns=1, inplace=True)\n",
    "importances_df.rename(columns={0: 'Feature Importances'}, inplace=True)\n",
    "importances_sorted = importances_df.sort_values(by='Feature Importances')\n",
    "importances_sorted.plot(kind='barh', color='lightgreen', title= 'Features Importances', legend=False)"
   ]
  },
  {
   "cell_type": "code",
   "execution_count": 18,
   "metadata": {},
   "outputs": [],
   "source": [
    "# Save the trained model to a file\n",
    "with open('trained_rf_model.pkl', 'wb') as f:\n",
    "    pickle.dump(rf_classifier, f)"
   ]
  },
  {
   "cell_type": "code",
   "execution_count": 19,
   "metadata": {},
   "outputs": [],
   "source": [
    "# Apply UMAP\n",
    "umap_model = umap.UMAP(n_neighbors=11, n_components=2)\n",
    "X_umap = umap_model.fit_transform(X_train)"
   ]
  },
  {
   "cell_type": "code",
   "execution_count": 20,
   "metadata": {},
   "outputs": [
    {
     "data": {
      "image/png": "[encoded data removed]",
      "text/plain": [
       "<Figure size 640x480 with 2 Axes>"
      ]
     },
     "metadata": {},
     "output_type": "display_data"
    }
   ],
   "source": [
    "# Create a scatter plot with colors based on predictions\n",
    "plt.scatter(X_umap[:, 0], X_umap[:, 1], c=y_train, cmap='viridis')\n",
    "\n",
    "# Add colorbar for reference\n",
    "plt.colorbar()\n",
    "\n",
    "# Add title and labels\n",
    "plt.title(\"UMAP Scatter Plot Coloured by Model Predictions\")\n",
    "plt.xlabel(\"UMAP Dimension 1\")\n",
    "plt.ylabel(\"UMAP Dimension 2\")\n",
    "\n",
    "# Show the plot\n",
    "plt.show()"
   ]
  },
  {
   "cell_type": "code",
   "execution_count": 21,
   "metadata": {},
   "outputs": [],
   "source": [
    "# Convert UMAP-transformed data to a DataFrame\n",
    "umap_df = pd.DataFrame(X_umap, columns=['UMAP Dimension 1', 'UMAP Dimension 2'])"
   ]
  },
  {
   "cell_type": "code",
   "execution_count": 22,
   "metadata": {},
   "outputs": [
    {
     "data": {
      "application/vnd.plotly.v1+json": {
       "config": {
        "plotlyServerURL": "https://plot.ly"
       },
       "data": [
        {
         "hovertemplate": "<b>%{hovertext}</b><br><br>UMAP Dimension 1=%{x}<br>UMAP Dimension 2=%{y}<extra></extra>",
         "hovertext": [
          0,
          1,
          2,
          3,
          4,
          5,
          6,
          7,
          8,
          9,
          10,
          11,
          12,
          13,
          14,
          15,
          16,
          17,
          18,
          19,
          20,
          21,
          22,
          23,
          24,
          25,
          26,
          27,
          28,
          29,
          30,
          31,
          32,
          33,
          34,
          35,
          36,
          37,
          38,
          39,
          40,
          41,
          42,
          43,
          44,
          45,
          46,
          47,
          48,
          49,
          50,
          51,
          52,
          53,
          54,
          55,
          56,
          57,
          58,
          59,
          60,
          61,
          62,
          63,
          64,
          65,
          66,
          67,
          68,
          69,
          70,
          71,
          72,
          73,
          74,
          75,
          76,
          77,
          78,
          79,
          80,
          81,
          82,
          83,
          84,
          85,
          86,
          87,
          88,
          89,
          90,
          91,
          92,
          93,
          94,
          95,
          96,
          97,
          98,
          99,
          100,
          101,
          102,
          103,
          104,
          105,
          106,
          107,
          108,
          109,
          110
         ],
         "legendgroup": "",
         "marker": {
          "color": "#636efa",
          "symbol": "circle"
         },
         "mode": "markers",
         "name": "",
         "orientation": "v",
         "showlegend": false,
         "type": "scatter",
         "x": [
          14.777252197265625,
          7.906435012817383,
          -8.267258644104004,
          9.506625175476074,
          5.18376350402832,
          14.702285766601562,
          5.0252227783203125,
          7.51027250289917,
          9.705999374389648,
          9.239218711853027,
          5.10202169418335,
          -9.125251770019531,
          5.916689395904541,
          -8.699491500854492,
          10.939750671386719,
          14.421931266784668,
          6.839937686920166,
          14.643194198608398,
          9.912217140197754,
          9.211555480957031,
          -8.603095054626465,
          5.89595890045166,
          7.661476135253906,
          10.495176315307617,
          9.409493446350098,
          10.578597068786621,
          14.735305786132812,
          6.450735569000244,
          -8.96353530883789,
          8.740778923034668,
          10.773324966430664,
          -8.254422187805176,
          8.695284843444824,
          9.11174488067627,
          7.809490203857422,
          7.547997951507568,
          5.234594821929932,
          7.584407329559326,
          7.757776737213135,
          7.07110071182251,
          8.144587516784668,
          8.160633087158203,
          9.070302963256836,
          14.746996879577637,
          9.694466590881348,
          14.38397216796875,
          7.820853233337402,
          -8.484858512878418,
          8.534525871276855,
          9.769966125488281,
          7.364357948303223,
          14.573930740356445,
          10.187407493591309,
          -8.305771827697754,
          10.324603080749512,
          5.996180534362793,
          14.59124755859375,
          6.775131702423096,
          10.13398551940918,
          7.214426040649414,
          5.479485034942627,
          -8.463421821594238,
          6.649272441864014,
          15.07669734954834,
          6.188665866851807,
          6.536345481872559,
          10.73304271697998,
          8.783782958984375,
          14.120469093322754,
          7.355961322784424,
          7.028481960296631,
          14.503259658813477,
          -8.660712242126465,
          10.559758186340332,
          7.48962926864624,
          7.6899614334106445,
          14.880537986755371,
          10.283305168151855,
          -8.55736255645752,
          10.67476749420166,
          14.779054641723633,
          6.86012077331543,
          8.776434898376465,
          8.096896171569824,
          10.66822338104248,
          7.996285915374756,
          14.851157188415527,
          15.123543739318848,
          8.75379467010498,
          10.501081466674805,
          10.796744346618652,
          5.067713737487793,
          10.699438095092773,
          -8.926263809204102,
          9.684378623962402,
          7.225960731506348,
          14.604232788085938,
          7.187307834625244,
          5.163296699523926,
          5.336196422576904,
          15.005802154541016,
          9.994197845458984,
          10.237799644470215,
          10.840222358703613,
          8.245697975158691,
          9.635469436645508,
          7.240582466125488,
          7.8984246253967285,
          -8.943968772888184,
          9.300251007080078,
          6.143619060516357
         ],
         "xaxis": "x",
         "y": [
          8.324156761169434,
          11.08419132232666,
          4.699294090270996,
          7.975329875946045,
          7.873327732086182,
          9.124131202697754,
          7.972716331481934,
          7.533046245574951,
          12.471776008605957,
          12.601286888122559,
          7.785858154296875,
          4.832891464233398,
          8.441132545471191,
          4.5234856605529785,
          12.041264533996582,
          8.669139862060547,
          8.961572647094727,
          9.319634437561035,
          7.91594934463501,
          12.163344383239746,
          4.4268903732299805,
          8.27664566040039,
          7.596467018127441,
          7.1904988288879395,
          12.227356910705566,
          12.670019149780273,
          8.168542861938477,
          9.362759590148926,
          4.661492347717285,
          12.067513465881348,
          12.757438659667969,
          4.6541924476623535,
          12.886100769042969,
          12.94459342956543,
          7.673419952392578,
          11.47674560546875,
          7.975673198699951,
          11.160849571228027,
          11.765667915344238,
          7.9475555419921875,
          10.825759887695312,
          12.510441780090332,
          12.665746688842773,
          8.60115909576416,
          8.047102928161621,
          8.201114654541016,
          11.385833740234375,
          4.46279764175415,
          12.528945922851562,
          12.802993774414062,
          10.91490650177002,
          9.013323783874512,
          12.500617027282715,
          4.705802917480469,
          7.236701488494873,
          8.540987968444824,
          8.23762035369873,
          9.05387020111084,
          7.432210922241211,
          10.956940650939941,
          8.267973899841309,
          4.2624735832214355,
          9.199527740478516,
          9.124975204467773,
          8.983697891235352,
          9.329602241516113,
          7.294974327087402,
          12.107477188110352,
          8.60173225402832,
          7.614749908447266,
          7.737101078033447,
          8.408828735351562,
          4.547966480255127,
          7.217109203338623,
          11.299410820007324,
          10.891834259033203,
          9.356429100036621,
          12.763714790344238,
          4.3547515869140625,
          12.561538696289062,
          9.19595718383789,
          8.647093772888184,
          11.53714370727539,
          12.061664581298828,
          7.51809549331665,
          11.445459365844727,
          8.842740058898926,
          8.979349136352539,
          12.242511749267578,
          7.269026279449463,
          7.177350044250488,
          8.049783706665039,
          7.414608478546143,
          4.609417915344238,
          8.114477157592773,
          7.706737995147705,
          8.503204345703125,
          7.805726528167725,
          8.210719108581543,
          8.366327285766602,
          9.13983154296875,
          12.772468566894531,
          12.641477584838867,
          12.45098876953125,
          11.7341890335083,
          8.17305850982666,
          11.042283058166504,
          11.608348846435547,
          4.6297454833984375,
          12.73983383178711,
          8.20266342163086
         ],
         "yaxis": "y"
        }
       ],
       "layout": {
        "legend": {
         "tracegroupgap": 0
        },
        "margin": {
         "t": 60
        },
        "template": {
         "data": {
          "bar": [
           {
            "error_x": {
             "color": "#2a3f5f"
            },
            "error_y": {
             "color": "#2a3f5f"
            },
            "marker": {
             "line": {
              "color": "#E5ECF6",
              "width": 0.5
             },
             "pattern": {
              "fillmode": "overlay",
              "size": 10,
              "solidity": 0.2
             }
            },
            "type": "bar"
           }
          ],
          "barpolar": [
           {
            "marker": {
             "line": {
              "color": "#E5ECF6",
              "width": 0.5
             },
             "pattern": {
              "fillmode": "overlay",
              "size": 10,
              "solidity": 0.2
             }
            },
            "type": "barpolar"
           }
          ],
          "carpet": [
           {
            "aaxis": {
             "endlinecolor": "#2a3f5f",
             "gridcolor": "white",
             "linecolor": "white",
             "minorgridcolor": "white",
             "startlinecolor": "#2a3f5f"
            },
            "baxis": {
             "endlinecolor": "#2a3f5f",
             "gridcolor": "white",
             "linecolor": "white",
             "minorgridcolor": "white",
             "startlinecolor": "#2a3f5f"
            },
            "type": "carpet"
           }
          ],
          "choropleth": [
           {
            "colorbar": {
             "outlinewidth": 0,
             "ticks": ""
            },
            "type": "choropleth"
           }
          ],
          "contour": [
           {
            "colorbar": {
             "outlinewidth": 0,
             "ticks": ""
            },
            "colorscale": [
             [
              0,
              "#0d0887"
             ],
             [
              0.1111111111111111,
              "#46039f"
             ],
             [
              0.2222222222222222,
              "#7201a8"
             ],
             [
              0.3333333333333333,
              "#9c179e"
             ],
             [
              0.4444444444444444,
              "#bd3786"
             ],
             [
              0.5555555555555556,
              "#d8576b"
             ],
             [
              0.6666666666666666,
              "#ed7953"
             ],
             [
              0.7777777777777778,
              "#fb9f3a"
             ],
             [
              0.8888888888888888,
              "#fdca26"
             ],
             [
              1,
              "#f0f921"
             ]
            ],
            "type": "contour"
           }
          ],
          "contourcarpet": [
           {
            "colorbar": {
             "outlinewidth": 0,
             "ticks": ""
            },
            "type": "contourcarpet"
           }
          ],
          "heatmap": [
           {
            "colorbar": {
             "outlinewidth": 0,
             "ticks": ""
            },
            "colorscale": [
             [
              0,
              "#0d0887"
             ],
             [
              0.1111111111111111,
              "#46039f"
             ],
             [
              0.2222222222222222,
              "#7201a8"
             ],
             [
              0.3333333333333333,
              "#9c179e"
             ],
             [
              0.4444444444444444,
              "#bd3786"
             ],
             [
              0.5555555555555556,
              "#d8576b"
             ],
             [
              0.6666666666666666,
              "#ed7953"
             ],
             [
              0.7777777777777778,
              "#fb9f3a"
             ],
             [
              0.8888888888888888,
              "#fdca26"
             ],
             [
              1,
              "#f0f921"
             ]
            ],
            "type": "heatmap"
           }
          ],
          "heatmapgl": [
           {
            "colorbar": {
             "outlinewidth": 0,
             "ticks": ""
            },
            "colorscale": [
             [
              0,
              "#0d0887"
             ],
             [
              0.1111111111111111,
              "#46039f"
             ],
             [
              0.2222222222222222,
              "#7201a8"
             ],
             [
              0.3333333333333333,
              "#9c179e"
             ],
             [
              0.4444444444444444,
              "#bd3786"
             ],
             [
              0.5555555555555556,
              "#d8576b"
             ],
             [
              0.6666666666666666,
              "#ed7953"
             ],
             [
              0.7777777777777778,
              "#fb9f3a"
             ],
             [
              0.8888888888888888,
              "#fdca26"
             ],
             [
              1,
              "#f0f921"
             ]
            ],
            "type": "heatmapgl"
           }
          ],
          "histogram": [
           {
            "marker": {
             "pattern": {
              "fillmode": "overlay",
              "size": 10,
              "solidity": 0.2
             }
            },
            "type": "histogram"
           }
          ],
          "histogram2d": [
           {
            "colorbar": {
             "outlinewidth": 0,
             "ticks": ""
            },
            "colorscale": [
             [
              0,
              "#0d0887"
             ],
             [
              0.1111111111111111,
              "#46039f"
             ],
             [
              0.2222222222222222,
              "#7201a8"
             ],
             [
              0.3333333333333333,
              "#9c179e"
             ],
             [
              0.4444444444444444,
              "#bd3786"
             ],
             [
              0.5555555555555556,
              "#d8576b"
             ],
             [
              0.6666666666666666,
              "#ed7953"
             ],
             [
              0.7777777777777778,
              "#fb9f3a"
             ],
             [
              0.8888888888888888,
              "#fdca26"
             ],
             [
              1,
              "#f0f921"
             ]
            ],
            "type": "histogram2d"
           }
          ],
          "histogram2dcontour": [
           {
            "colorbar": {
             "outlinewidth": 0,
             "ticks": ""
            },
            "colorscale": [
             [
              0,
              "#0d0887"
             ],
             [
              0.1111111111111111,
              "#46039f"
             ],
             [
              0.2222222222222222,
              "#7201a8"
             ],
             [
              0.3333333333333333,
              "#9c179e"
             ],
             [
              0.4444444444444444,
              "#bd3786"
             ],
             [
              0.5555555555555556,
              "#d8576b"
             ],
             [
              0.6666666666666666,
              "#ed7953"
             ],
             [
              0.7777777777777778,
              "#fb9f3a"
             ],
             [
              0.8888888888888888,
              "#fdca26"
             ],
             [
              1,
              "#f0f921"
             ]
            ],
            "type": "histogram2dcontour"
           }
          ],
          "mesh3d": [
           {
            "colorbar": {
             "outlinewidth": 0,
             "ticks": ""
            },
            "type": "mesh3d"
           }
          ],
          "parcoords": [
           {
            "line": {
             "colorbar": {
              "outlinewidth": 0,
              "ticks": ""
             }
            },
            "type": "parcoords"
           }
          ],
          "pie": [
           {
            "automargin": true,
            "type": "pie"
           }
          ],
          "scatter": [
           {
            "fillpattern": {
             "fillmode": "overlay",
             "size": 10,
             "solidity": 0.2
            },
            "type": "scatter"
           }
          ],
          "scatter3d": [
           {
            "line": {
             "colorbar": {
              "outlinewidth": 0,
              "ticks": ""
             }
            },
            "marker": {
             "colorbar": {
              "outlinewidth": 0,
              "ticks": ""
             }
            },
            "type": "scatter3d"
           }
          ],
          "scattercarpet": [
           {
            "marker": {
             "colorbar": {
              "outlinewidth": 0,
              "ticks": ""
             }
            },
            "type": "scattercarpet"
           }
          ],
          "scattergeo": [
           {
            "marker": {
             "colorbar": {
              "outlinewidth": 0,
              "ticks": ""
             }
            },
            "type": "scattergeo"
           }
          ],
          "scattergl": [
           {
            "marker": {
             "colorbar": {
              "outlinewidth": 0,
              "ticks": ""
             }
            },
            "type": "scattergl"
           }
          ],
          "scattermapbox": [
           {
            "marker": {
             "colorbar": {
              "outlinewidth": 0,
              "ticks": ""
             }
            },
            "type": "scattermapbox"
           }
          ],
          "scatterpolar": [
           {
            "marker": {
             "colorbar": {
              "outlinewidth": 0,
              "ticks": ""
             }
            },
            "type": "scatterpolar"
           }
          ],
          "scatterpolargl": [
           {
            "marker": {
             "colorbar": {
              "outlinewidth": 0,
              "ticks": ""
             }
            },
            "type": "scatterpolargl"
           }
          ],
          "scatterternary": [
           {
            "marker": {
             "colorbar": {
              "outlinewidth": 0,
              "ticks": ""
             }
            },
            "type": "scatterternary"
           }
          ],
          "surface": [
           {
            "colorbar": {
             "outlinewidth": 0,
             "ticks": ""
            },
            "colorscale": [
             [
              0,
              "#0d0887"
             ],
             [
              0.1111111111111111,
              "#46039f"
             ],
             [
              0.2222222222222222,
              "#7201a8"
             ],
             [
              0.3333333333333333,
              "#9c179e"
             ],
             [
              0.4444444444444444,
              "#bd3786"
             ],
             [
              0.5555555555555556,
              "#d8576b"
             ],
             [
              0.6666666666666666,
              "#ed7953"
             ],
             [
              0.7777777777777778,
              "#fb9f3a"
             ],
             [
              0.8888888888888888,
              "#fdca26"
             ],
             [
              1,
              "#f0f921"
             ]
            ],
            "type": "surface"
           }
          ],
          "table": [
           {
            "cells": {
             "fill": {
              "color": "#EBF0F8"
             },
             "line": {
              "color": "white"
             }
            },
            "header": {
             "fill": {
              "color": "#C8D4E3"
             },
             "line": {
              "color": "white"
             }
            },
            "type": "table"
           }
          ]
         },
         "layout": {
          "annotationdefaults": {
           "arrowcolor": "#2a3f5f",
           "arrowhead": 0,
           "arrowwidth": 1
          },
          "autotypenumbers": "strict",
          "coloraxis": {
           "colorbar": {
            "outlinewidth": 0,
            "ticks": ""
           }
          },
          "colorscale": {
           "diverging": [
            [
             0,
             "#8e0152"
            ],
            [
             0.1,
             "#c51b7d"
            ],
            [
             0.2,
             "#de77ae"
            ],
            [
             0.3,
             "#f1b6da"
            ],
            [
             0.4,
             "#fde0ef"
            ],
            [
             0.5,
             "#f7f7f7"
            ],
            [
             0.6,
             "#e6f5d0"
            ],
            [
             0.7,
             "#b8e186"
            ],
            [
             0.8,
             "#7fbc41"
            ],
            [
             0.9,
             "#4d9221"
            ],
            [
             1,
             "#276419"
            ]
           ],
           "sequential": [
            [
             0,
             "#0d0887"
            ],
            [
             0.1111111111111111,
             "#46039f"
            ],
            [
             0.2222222222222222,
             "#7201a8"
            ],
            [
             0.3333333333333333,
             "#9c179e"
            ],
            [
             0.4444444444444444,
             "#bd3786"
            ],
            [
             0.5555555555555556,
             "#d8576b"
            ],
            [
             0.6666666666666666,
             "#ed7953"
            ],
            [
             0.7777777777777778,
             "#fb9f3a"
            ],
            [
             0.8888888888888888,
             "#fdca26"
            ],
            [
             1,
             "#f0f921"
            ]
           ],
           "sequentialminus": [
            [
             0,
             "#0d0887"
            ],
            [
             0.1111111111111111,
             "#46039f"
            ],
            [
             0.2222222222222222,
             "#7201a8"
            ],
            [
             0.3333333333333333,
             "#9c179e"
            ],
            [
             0.4444444444444444,
             "#bd3786"
            ],
            [
             0.5555555555555556,
             "#d8576b"
            ],
            [
             0.6666666666666666,
             "#ed7953"
            ],
            [
             0.7777777777777778,
             "#fb9f3a"
            ],
            [
             0.8888888888888888,
             "#fdca26"
            ],
            [
             1,
             "#f0f921"
            ]
           ]
          },
          "colorway": [
           "#636efa",
           "#EF553B",
           "#00cc96",
           "#ab63fa",
           "#FFA15A",
           "#19d3f3",
           "#FF6692",
           "#B6E880",
           "#FF97FF",
           "#FECB52"
          ],
          "font": {
           "color": "#2a3f5f"
          },
          "geo": {
           "bgcolor": "white",
           "lakecolor": "white",
           "landcolor": "#E5ECF6",
           "showlakes": true,
           "showland": true,
           "subunitcolor": "white"
          },
          "hoverlabel": {
           "align": "left"
          },
          "hovermode": "closest",
          "mapbox": {
           "style": "light"
          },
          "paper_bgcolor": "white",
          "plot_bgcolor": "#E5ECF6",
          "polar": {
           "angularaxis": {
            "gridcolor": "white",
            "linecolor": "white",
            "ticks": ""
           },
           "bgcolor": "#E5ECF6",
           "radialaxis": {
            "gridcolor": "white",
            "linecolor": "white",
            "ticks": ""
           }
          },
          "scene": {
           "xaxis": {
            "backgroundcolor": "#E5ECF6",
            "gridcolor": "white",
            "gridwidth": 2,
            "linecolor": "white",
            "showbackground": true,
            "ticks": "",
            "zerolinecolor": "white"
           },
           "yaxis": {
            "backgroundcolor": "#E5ECF6",
            "gridcolor": "white",
            "gridwidth": 2,
            "linecolor": "white",
            "showbackground": true,
            "ticks": "",
            "zerolinecolor": "white"
           },
           "zaxis": {
            "backgroundcolor": "#E5ECF6",
            "gridcolor": "white",
            "gridwidth": 2,
            "linecolor": "white",
            "showbackground": true,
            "ticks": "",
            "zerolinecolor": "white"
           }
          },
          "shapedefaults": {
           "line": {
            "color": "#2a3f5f"
           }
          },
          "ternary": {
           "aaxis": {
            "gridcolor": "white",
            "linecolor": "white",
            "ticks": ""
           },
           "baxis": {
            "gridcolor": "white",
            "linecolor": "white",
            "ticks": ""
           },
           "bgcolor": "#E5ECF6",
           "caxis": {
            "gridcolor": "white",
            "linecolor": "white",
            "ticks": ""
           }
          },
          "title": {
           "x": 0.05
          },
          "xaxis": {
           "automargin": true,
           "gridcolor": "white",
           "linecolor": "white",
           "ticks": "",
           "title": {
            "standoff": 15
           },
           "zerolinecolor": "white",
           "zerolinewidth": 2
          },
          "yaxis": {
           "automargin": true,
           "gridcolor": "white",
           "linecolor": "white",
           "ticks": "",
           "title": {
            "standoff": 15
           },
           "zerolinecolor": "white",
           "zerolinewidth": 2
          }
         }
        },
        "xaxis": {
         "anchor": "y",
         "domain": [
          0,
          1
         ],
         "title": {
          "text": "UMAP Dimension 1"
         }
        },
        "yaxis": {
         "anchor": "x",
         "domain": [
          0,
          1
         ],
         "title": {
          "text": "UMAP Dimension 2"
         }
        }
       }
      }
     },
     "metadata": {},
     "output_type": "display_data"
    }
   ],
   "source": [
    "\n",
    "# Create an interactive scatter plot using Plotly\n",
    "fig = px.scatter(umap_df, x='UMAP Dimension 1', y='UMAP Dimension 2', hover_name=umap_df.index)\n",
    "\n",
    "# Show the plot\n",
    "fig.show()"
   ]
  }
 ],
 "metadata": {
  "kernelspec": {
   "display_name": "bootcamp",
   "language": "python",
   "name": "python3"
  },
  "language_info": {
   "codemirror_mode": {
    "name": "ipython",
    "version": 3
   },
   "file_extension": ".py",
   "mimetype": "text/x-python",
   "name": "python",
   "nbconvert_exporter": "python",
   "pygments_lexer": "ipython3",
   "version": "3.10.9"
  },
  "orig_nbformat": 4
 },
 "nbformat": 4,
 "nbformat_minor": 2
}
