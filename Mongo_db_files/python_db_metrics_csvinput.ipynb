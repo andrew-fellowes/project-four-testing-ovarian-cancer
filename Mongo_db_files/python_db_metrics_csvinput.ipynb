{
 "cells": [
  {
   "cell_type": "markdown",
   "id": "d9080a2a",
   "metadata": {},
   "source": [
    "# Import Loss_Accuracy Results"
   ]
  },
  {
   "cell_type": "code",
   "execution_count": 9,
   "id": "1d0df467",
   "metadata": {},
   "outputs": [],
   "source": [
    "# Module used to connect Python with MongoDB\n",
    "from pymongo import MongoClient\n",
    "from datetime import datetime\n",
    "import json\n",
    "import pandas as pd\n",
    "from pprint import pprint\n",
    "import os\n",
    "import csv\n",
    "import re"
   ]
  },
  {
   "cell_type": "code",
   "execution_count": 10,
   "id": "3997cd6e",
   "metadata": {},
   "outputs": [],
   "source": [
    "# Create an instance of MongoClient\n",
    "mongo = MongoClient(port=27017)"
   ]
  },
  {
   "cell_type": "code",
   "execution_count": 11,
   "id": "d8bc7419",
   "metadata": {},
   "outputs": [
    {
     "name": "stdout",
     "output_type": "stream",
     "text": [
      "['admin', 'autosaurus', 'config', 'fruits_db', 'local', 'met', 'petsitly_marketing', 'sofia_test_model', 'test', 'travel_db', 'uk_food']\n"
     ]
    }
   ],
   "source": [
    "# confirm that our new database was created\n",
    "print(mongo.list_database_names())"
   ]
  },
  {
   "cell_type": "code",
   "execution_count": 12,
   "id": "3f2d18da",
   "metadata": {},
   "outputs": [],
   "source": [
    "# assign the database to a variable name\n",
    "db = mongo['sofia_test_model']"
   ]
  },
  {
   "cell_type": "code",
   "execution_count": 13,
   "id": "26f6984c",
   "metadata": {},
   "outputs": [],
   "source": [
    "\n",
    "\n",
    "# assign the collection to a variable\n",
    "metrics = db['loss_accuracy']"
   ]
  },
  {
   "cell_type": "code",
   "execution_count": 14,
   "id": "14caa778",
   "metadata": {},
   "outputs": [],
   "source": [
    "# Prompt the user to enter the filename they want to import\n",
    "csv_file_path = 'Resources_MongoDB'  \n",
    "\n",
    "file_to_import = input(\"Enter the filename you want to import (e.g., file1.json): \")\n",
    "\n",
    "file_path = os.path.join(csv_file_path, file_to_import)\n",
    "\n",
    "csv_data = pd.read_csv(file_path)\n",
    "\n",
    "csv_data_list = csv_data.to_dict(orient='records')\n",
    "\n"
   ]
  },
  {
   "cell_type": "code",
   "execution_count": 15,
   "id": "31768a5a",
   "metadata": {},
   "outputs": [],
   "source": [
    "#Iterating through data to out into rigth format.\n",
    "\n",
    "formatted_csv_data = [\n",
    "    {\"Metric\": entry[\"Metric\"], \"Value\": entry[\"Value\"]} for entry in csv_data_list\n",
    "]\n",
    "\n",
    "formatted_csv_data.append({\"Metric\": \"Date\", \"Value\": csv_data_list[2][\"Value\"]})"
   ]
  },
  {
   "cell_type": "code",
   "execution_count": 16,
   "id": "cdf755ad",
   "metadata": {},
   "outputs": [
    {
     "ename": "NameError",
     "evalue": "name 'collection' is not defined",
     "output_type": "error",
     "traceback": [
      "\u001b[1;31m---------------------------------------------------------------------------\u001b[0m",
      "\u001b[1;31mNameError\u001b[0m                                 Traceback (most recent call last)",
      "Cell \u001b[1;32mIn[16], line 1\u001b[0m\n\u001b[1;32m----> 1\u001b[0m existing_document \u001b[39m=\u001b[39m collection\u001b[39m.\u001b[39mfind_one({})  \u001b[39m# Retrieve the existing document\u001b[39;00m\n\u001b[0;32m      3\u001b[0m \u001b[39m# Update the 'test' field with the formatted CSV data\u001b[39;00m\n\u001b[0;32m      4\u001b[0m existing_document[\u001b[39m'\u001b[39m\u001b[39mtest\u001b[39m\u001b[39m'\u001b[39m] \u001b[39m=\u001b[39m formatted_csv_data\n",
      "\u001b[1;31mNameError\u001b[0m: name 'collection' is not defined"
     ]
    }
   ],
   "source": [
    "existing_document = collection.find_one({})  # Retrieve the existing document\n",
    "\n",
    "# Update the 'test' field with the formatted CSV data\n",
    "existing_document['test'] = formatted_csv_data\n",
    "\n",
    "# Update the document in the collection\n",
    "collection.update_one({\"_id\": existing_document[\"_id\"]}, {\"$set\": existing_document}, upsert=False)"
   ]
  },
  {
   "cell_type": "code",
   "execution_count": null,
   "id": "59908e77",
   "metadata": {},
   "outputs": [
    {
     "name": "stdout",
     "output_type": "stream",
     "text": [
      "['loss_accuracy', 'processed_test_data', 'epoch_test_results']\n",
      "{'_id': ObjectId('64cf61cd27fd48f081da542e'), 'test': [{'Metric': 'Loss', 'Value': '0.6005326509475708'}, {'Metric': 'Accuracy', 'Value': '0.75'}, {'Metric': 'Date', 'Value': '20230806_100824'}]}\n"
     ]
    }
   ],
   "source": [
    "print(db.list_collection_names())\n",
    "\n",
    "for document in metrics.find():\n",
    "    print(document)\n"
   ]
  }
 ],
 "metadata": {
  "kernelspec": {
   "display_name": "myenvpandas",
   "language": "python",
   "name": "python3"
  },
  "language_info": {
   "codemirror_mode": {
    "name": "ipython",
    "version": 3
   },
   "file_extension": ".py",
   "mimetype": "text/x-python",
   "name": "python",
   "nbconvert_exporter": "python",
   "pygments_lexer": "ipython3",
   "version": "3.11.3"
  }
 },
 "nbformat": 4,
 "nbformat_minor": 5
}
