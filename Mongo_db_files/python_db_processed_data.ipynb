{
 "cells": [
  {
   "cell_type": "markdown",
   "id": "d9080a2a",
   "metadata": {},
   "source": [
    "# Import Processed Test Data"
   ]
  },
  {
   "cell_type": "code",
   "execution_count": 1,
   "id": "1d0df467",
   "metadata": {},
   "outputs": [],
   "source": [
    "# Module used to connect Python with MongoDB\n",
    "from pymongo import MongoClient\n",
    "from datetime import datetime\n",
    "import json\n",
    "import pandas as pd\n",
    "from pprint import pprint\n",
    "import os\n",
    "import csv\n",
    "import re"
   ]
  },
  {
   "cell_type": "code",
   "execution_count": 2,
   "id": "3997cd6e",
   "metadata": {},
   "outputs": [],
   "source": [
    "# Create an instance of MongoClient\n",
    "mongo = MongoClient(port=27017)"
   ]
  },
  {
   "cell_type": "code",
   "execution_count": 3,
   "id": "d8bc7419",
   "metadata": {},
   "outputs": [
    {
     "name": "stdout",
     "output_type": "stream",
     "text": [
      "['admin', 'autosaurus', 'config', 'fruits_db', 'local', 'met', 'petsitly_marketing', 'sofia_test_model', 'test', 'travel_db', 'uk_food']\n"
     ]
    }
   ],
   "source": [
    "# confirm that our new database was created\n",
    "print(mongo.list_database_names())"
   ]
  },
  {
   "cell_type": "code",
   "execution_count": 4,
   "id": "3f2d18da",
   "metadata": {},
   "outputs": [],
   "source": [
    "# assign the database to a variable name\n",
    "db = mongo['sofia_test_model']"
   ]
  },
  {
   "cell_type": "code",
   "execution_count": 5,
   "id": "26f6984c",
   "metadata": {},
   "outputs": [],
   "source": [
    "\n",
    "\n",
    "# assign the collection to a variable\n",
    "test_data = db['processed_data']"
   ]
  },
  {
   "cell_type": "code",
   "execution_count": 8,
   "id": "14caa778",
   "metadata": {},
   "outputs": [
    {
     "name": "stdout",
     "output_type": "stream",
     "text": [
      "Data imported successfully into MongoDB.\n"
     ]
    }
   ],
   "source": [
    "# Prompt the user to enter the filename they want to import\n",
    "file_to_import = 'Resources_MongoDB\\PCAProject4_Codev1_processed_test_data20230806_100824.json'\n",
    "\n",
    "with open(file_to_import, 'r') as file:\n",
    "    json_data = json.load(file)\n",
    "    test_data.insert_many(json_data)\n",
    "\n",
    "print(\"Data imported successfully into MongoDB.\")\n",
    "\n"
   ]
  },
  {
   "cell_type": "code",
   "execution_count": 9,
   "id": "59908e77",
   "metadata": {},
   "outputs": [
    {
     "name": "stdout",
     "output_type": "stream",
     "text": [
      "['loss_accuracy', 'processed_test_data', 'epoch_test_results', 'processed_data']\n",
      "{'_id': ObjectId('64cf6523f74a0b739e061646'), 'Run': '4', 'Purity': '70.0', 'MIDS': '4', 'TotalReads(M)': '24.0', 'lpWGSReads(M)': '21.7', 'TargetPanelReads(M)': '2.3', '%ReadslpWGS': '90.0', '%ReadsPanel': '10.0', '1000x': '0.0', '500x': '0.0', '200x': '0.0', '100x': '0.0', '50x': '0.0', '25x': '0.0', 'DupFrac': '75.0', 'LowCovRegions': '14', 'PurityPloidyRatio': '0.0', 'ResNoise': '0.13', 'SignalNoiseRatio': '2.6', '%VariantFraction': '85.8', 'QAStatus_High': '0', 'QAStatus_Low': '0', 'QAStatus_Medium': '1', 'Gene_BRCA1': '0', 'Gene_BRCA2': '1', 'Gene_RAD51D': '0', 'Gene_Unlisted': '0', 'Y-Predict': '1'}\n",
      "{'_id': ObjectId('64cf6523f74a0b739e061647'), 'Run': '12', 'Purity': '70.0', 'MIDS': '9', 'TotalReads(M)': '17.0', 'lpWGSReads(M)': '11.6', 'TargetPanelReads(M)': '5.4', '%ReadslpWGS': '68.0', '%ReadsPanel': '32.0', '1000x': '67.0', '500x': '67.0', '200x': '67.0', '100x': '67.0', '50x': '67.0', '25x': '67.0', 'DupFrac': '66.0', 'LowCovRegions': '0', 'PurityPloidyRatio': '0.28', 'ResNoise': '0.14', 'SignalNoiseRatio': '1.66', '%VariantFraction': '0.0', 'QAStatus_High': '1', 'QAStatus_Low': '0', 'QAStatus_Medium': '0', 'Gene_BRCA1': '0', 'Gene_BRCA2': '0', 'Gene_RAD51D': '0', 'Gene_Unlisted': '1', 'Y-Predict': '1'}\n",
      "{'_id': ObjectId('64cf6523f74a0b739e061648'), 'Run': '6', 'Purity': '70.0', 'MIDS': '11', 'TotalReads(M)': '14.1', 'lpWGSReads(M)': '10.3', 'TargetPanelReads(M)': '3.8', '%ReadslpWGS': '73.0', '%ReadsPanel': '27.0', '1000x': '5.0', '500x': '5.0', '200x': '5.0', '100x': '5.0', '50x': '5.0', '25x': '5.0', 'DupFrac': '81.0', 'LowCovRegions': '34', 'PurityPloidyRatio': '0.35', 'ResNoise': '0.23', 'SignalNoiseRatio': '1.35', '%VariantFraction': '0.0', 'QAStatus_High': '1', 'QAStatus_Low': '0', 'QAStatus_Medium': '0', 'Gene_BRCA1': '0', 'Gene_BRCA2': '0', 'Gene_RAD51D': '0', 'Gene_Unlisted': '1', 'Y-Predict': '1'}\n",
      "{'_id': ObjectId('64cf6523f74a0b739e061649'), 'Run': '11', 'Purity': '0.0', 'MIDS': '6', 'TotalReads(M)': '20.3', 'lpWGSReads(M)': '14.1', 'TargetPanelReads(M)': '6.2', '%ReadslpWGS': '70.0', '%ReadsPanel': '30.0', '1000x': '96.0', '500x': '96.0', '200x': '96.0', '100x': '96.0', '50x': '96.0', '25x': '96.0', 'DupFrac': '62.0', 'LowCovRegions': '0', 'PurityPloidyRatio': '0.1', 'ResNoise': '0.06', 'SignalNoiseRatio': '2.14', '%VariantFraction': '0.0', 'QAStatus_High': '1', 'QAStatus_Low': '0', 'QAStatus_Medium': '0', 'Gene_BRCA1': '0', 'Gene_BRCA2': '0', 'Gene_RAD51D': '0', 'Gene_Unlisted': '1', 'Y-Predict': '1'}\n",
      "{'_id': ObjectId('64cf6523f74a0b739e06164a'), 'Run': '11', 'Purity': '0.0', 'MIDS': '18', 'TotalReads(M)': '18.4', 'lpWGSReads(M)': '14.9', 'TargetPanelReads(M)': '3.5', '%ReadslpWGS': '81.0', '%ReadsPanel': '19.0', '1000x': '12.0', '500x': '12.0', '200x': '12.0', '100x': '12.0', '50x': '12.0', '25x': '12.0', 'DupFrac': '65.0', 'LowCovRegions': '3', 'PurityPloidyRatio': '0.0', 'ResNoise': '0.07', 'SignalNoiseRatio': '1.96', '%VariantFraction': '0.0', 'QAStatus_High': '0', 'QAStatus_Low': '0', 'QAStatus_Medium': '1', 'Gene_BRCA1': '0', 'Gene_BRCA2': '0', 'Gene_RAD51D': '0', 'Gene_Unlisted': '1', 'Y-Predict': '1'}\n",
      "{'_id': ObjectId('64cf6523f74a0b739e06164b'), 'Run': '2', 'Purity': '40.0', 'MIDS': '7', 'TotalReads(M)': '16.6', 'lpWGSReads(M)': '11.5', 'TargetPanelReads(M)': '5.1', '%ReadslpWGS': '69.0', '%ReadsPanel': '31.0', '1000x': '1.0', '500x': '1.0', '200x': '1.0', '100x': '1.0', '50x': '1.0', '25x': '1.0', 'DupFrac': '92.0', 'LowCovRegions': '526', 'PurityPloidyRatio': '0.23', 'ResNoise': '0.08', 'SignalNoiseRatio': '3.04', '%VariantFraction': '0.0', 'QAStatus_High': '1', 'QAStatus_Low': '0', 'QAStatus_Medium': '0', 'Gene_BRCA1': '0', 'Gene_BRCA2': '0', 'Gene_RAD51D': '0', 'Gene_Unlisted': '1', 'Y-Predict': '1'}\n",
      "{'_id': ObjectId('64cf6523f74a0b739e06164c'), 'Run': '13', 'Purity': '50.0', 'MIDS': '14', 'TotalReads(M)': '23.3', 'lpWGSReads(M)': '16.4', 'TargetPanelReads(M)': '6.9', '%ReadslpWGS': '71.0', '%ReadsPanel': '29.0', '1000x': '19.0', '500x': '19.0', '200x': '19.0', '100x': '19.0', '50x': '19.0', '25x': '19.0', 'DupFrac': '84.0', 'LowCovRegions': '0', 'PurityPloidyRatio': '0.45', 'ResNoise': '0.09', 'SignalNoiseRatio': '3.47', '%VariantFraction': '89.8', 'QAStatus_High': '1', 'QAStatus_Low': '0', 'QAStatus_Medium': '0', 'Gene_BRCA1': '0', 'Gene_BRCA2': '1', 'Gene_RAD51D': '0', 'Gene_Unlisted': '0', 'Y-Predict': '1'}\n",
      "{'_id': ObjectId('64cf6523f74a0b739e06164d'), 'Run': '12', 'Purity': '95.0', 'MIDS': '18', 'TotalReads(M)': '18.5', 'lpWGSReads(M)': '13.5', 'TargetPanelReads(M)': '5.0', '%ReadslpWGS': '73.0', '%ReadsPanel': '27.0', '1000x': '21.0', '500x': '21.0', '200x': '21.0', '100x': '21.0', '50x': '21.0', '25x': '21.0', 'DupFrac': '64.0', 'LowCovRegions': '8', 'PurityPloidyRatio': '0.0', 'ResNoise': '0.28', 'SignalNoiseRatio': '0.7', '%VariantFraction': '68.8', 'QAStatus_High': '0', 'QAStatus_Low': '1', 'QAStatus_Medium': '0', 'Gene_BRCA1': '0', 'Gene_BRCA2': '1', 'Gene_RAD51D': '0', 'Gene_Unlisted': '0', 'Y-Predict': '0'}\n",
      "{'_id': ObjectId('64cf6523f74a0b739e06164e'), 'Run': '8', 'Purity': '40.0', 'MIDS': '5', 'TotalReads(M)': '18.6', 'lpWGSReads(M)': '11.4', 'TargetPanelReads(M)': '7.2', '%ReadslpWGS': '61.0', '%ReadsPanel': '39.0', '1000x': '32.0', '500x': '32.0', '200x': '32.0', '100x': '32.0', '50x': '32.0', '25x': '32.0', 'DupFrac': '85.0', 'LowCovRegions': '0', 'PurityPloidyRatio': '0.23', 'ResNoise': '0.09', 'SignalNoiseRatio': '1.49', '%VariantFraction': '67.6', 'QAStatus_High': '1', 'QAStatus_Low': '0', 'QAStatus_Medium': '0', 'Gene_BRCA1': '1', 'Gene_BRCA2': '0', 'Gene_RAD51D': '0', 'Gene_Unlisted': '0', 'Y-Predict': '0'}\n",
      "{'_id': ObjectId('64cf6523f74a0b739e06164f'), 'Run': '3', 'Purity': '50.0', 'MIDS': '9', 'TotalReads(M)': '26.3', 'lpWGSReads(M)': '22.1', 'TargetPanelReads(M)': '4.2', '%ReadslpWGS': '84.0', '%ReadsPanel': '16.0', '1000x': '30.0', '500x': '30.0', '200x': '30.0', '100x': '30.0', '50x': '30.0', '25x': '30.0', 'DupFrac': '73.0', 'LowCovRegions': '0', 'PurityPloidyRatio': '0.0', 'ResNoise': '0.13', 'SignalNoiseRatio': '1.33', '%VariantFraction': '51.1', 'QAStatus_High': '0', 'QAStatus_Low': '0', 'QAStatus_Medium': '1', 'Gene_BRCA1': '1', 'Gene_BRCA2': '0', 'Gene_RAD51D': '0', 'Gene_Unlisted': '0', 'Y-Predict': '0'}\n",
      "{'_id': ObjectId('64cf6523f74a0b739e061650'), 'Run': '3', 'Purity': '40.0', 'MIDS': '10', 'TotalReads(M)': '6.5', 'lpWGSReads(M)': '4.1', 'TargetPanelReads(M)': '2.4', '%ReadslpWGS': '63.0', '%ReadsPanel': '37.0', '1000x': '1.0', '500x': '1.0', '200x': '1.0', '100x': '1.0', '50x': '1.0', '25x': '1.0', 'DupFrac': '82.0', 'LowCovRegions': '18', 'PurityPloidyRatio': '0.0', 'ResNoise': '0.13', 'SignalNoiseRatio': '2.07', '%VariantFraction': '0.0', 'QAStatus_High': '0', 'QAStatus_Low': '0', 'QAStatus_Medium': '1', 'Gene_BRCA1': '0', 'Gene_BRCA2': '0', 'Gene_RAD51D': '0', 'Gene_Unlisted': '1', 'Y-Predict': '0'}\n",
      "{'_id': ObjectId('64cf6523f74a0b739e061651'), 'Run': '12', 'Purity': '70.0', 'MIDS': '13', 'TotalReads(M)': '21.9', 'lpWGSReads(M)': '14.3', 'TargetPanelReads(M)': '7.6', '%ReadslpWGS': '65.0', '%ReadsPanel': '35.0', '1000x': '97.0', '500x': '97.0', '200x': '97.0', '100x': '97.0', '50x': '97.0', '25x': '97.0', 'DupFrac': '66.0', 'LowCovRegions': '0', 'PurityPloidyRatio': '0.17', 'ResNoise': '0.11', 'SignalNoiseRatio': '2.36', '%VariantFraction': '51.8', 'QAStatus_High': '1', 'QAStatus_Low': '0', 'QAStatus_Medium': '0', 'Gene_BRCA1': '0', 'Gene_BRCA2': '1', 'Gene_RAD51D': '0', 'Gene_Unlisted': '0', 'Y-Predict': '1'}\n",
      "{'_id': ObjectId('64cf6523f74a0b739e061652'), 'Run': '12', 'Purity': '80.0', 'MIDS': '24', 'TotalReads(M)': '22.8', 'lpWGSReads(M)': '16.4', 'TargetPanelReads(M)': '6.4', '%ReadslpWGS': '72.0', '%ReadsPanel': '28.0', '1000x': '36.0', '500x': '36.0', '200x': '36.0', '100x': '36.0', '50x': '36.0', '25x': '36.0', 'DupFrac': '60.0', 'LowCovRegions': '0', 'PurityPloidyRatio': '0.0', 'ResNoise': '0.21', 'SignalNoiseRatio': '1.49', '%VariantFraction': '0.0', 'QAStatus_High': '0', 'QAStatus_Low': '1', 'QAStatus_Medium': '0', 'Gene_BRCA1': '0', 'Gene_BRCA2': '0', 'Gene_RAD51D': '0', 'Gene_Unlisted': '1', 'Y-Predict': '0'}\n",
      "{'_id': ObjectId('64cf6523f74a0b739e061653'), 'Run': '13', 'Purity': '90.0', 'MIDS': '5', 'TotalReads(M)': '19.9', 'lpWGSReads(M)': '14.0', 'TargetPanelReads(M)': '5.9', '%ReadslpWGS': '70.0', '%ReadsPanel': '30.0', '1000x': '52.0', '500x': '52.0', '200x': '52.0', '100x': '52.0', '50x': '52.0', '25x': '52.0', 'DupFrac': '64.0', 'LowCovRegions': '0', 'PurityPloidyRatio': '0.28', 'ResNoise': '0.2', 'SignalNoiseRatio': '1.79', '%VariantFraction': '0.0', 'QAStatus_High': '1', 'QAStatus_Low': '0', 'QAStatus_Medium': '0', 'Gene_BRCA1': '0', 'Gene_BRCA2': '0', 'Gene_RAD51D': '0', 'Gene_Unlisted': '1', 'Y-Predict': '1'}\n",
      "{'_id': ObjectId('64cf6523f74a0b739e061654'), 'Run': '11', 'Purity': '0.0', 'MIDS': '3', 'TotalReads(M)': '23.8', 'lpWGSReads(M)': '15.9', 'TargetPanelReads(M)': '7.9', '%ReadslpWGS': '67.0', '%ReadsPanel': '33.0', '1000x': '99.0', '500x': '99.0', '200x': '99.0', '100x': '99.0', '50x': '99.0', '25x': '99.0', 'DupFrac': '67.0', 'LowCovRegions': '0', 'PurityPloidyRatio': '0.07', 'ResNoise': '0.06', 'SignalNoiseRatio': '1.18', '%VariantFraction': '9.1', 'QAStatus_High': '0', 'QAStatus_Low': '0', 'QAStatus_Medium': '1', 'Gene_BRCA1': '1', 'Gene_BRCA2': '0', 'Gene_RAD51D': '0', 'Gene_Unlisted': '0', 'Y-Predict': '1'}\n",
      "{'_id': ObjectId('64cf6523f74a0b739e061655'), 'Run': '6', 'Purity': '90.0', 'MIDS': '14', 'TotalReads(M)': '11.0', 'lpWGSReads(M)': '7.3', 'TargetPanelReads(M)': '3.7', '%ReadslpWGS': '66.0', '%ReadsPanel': '34.0', '1000x': '0.0', '500x': '0.0', '200x': '0.0', '100x': '0.0', '50x': '0.0', '25x': '0.0', 'DupFrac': '92.0', 'LowCovRegions': '557', 'PurityPloidyRatio': '0.33', 'ResNoise': '0.1', 'SignalNoiseRatio': '2.35', '%VariantFraction': '0.0', 'QAStatus_High': '1', 'QAStatus_Low': '0', 'QAStatus_Medium': '0', 'Gene_BRCA1': '0', 'Gene_BRCA2': '0', 'Gene_RAD51D': '0', 'Gene_Unlisted': '1', 'Y-Predict': '1'}\n",
      "{'_id': ObjectId('64cf6523f74a0b739e061656'), 'Run': '6', 'Purity': '60.0', 'MIDS': '16', 'TotalReads(M)': '14.8', 'lpWGSReads(M)': '10.1', 'TargetPanelReads(M)': '4.7', '%ReadslpWGS': '68.0', '%ReadsPanel': '32.0', '1000x': '9.0', '500x': '9.0', '200x': '9.0', '100x': '9.0', '50x': '9.0', '25x': '9.0', 'DupFrac': '83.0', 'LowCovRegions': '10', 'PurityPloidyRatio': '0.38', 'ResNoise': '0.17', 'SignalNoiseRatio': '1.77', '%VariantFraction': '73.0', 'QAStatus_High': '1', 'QAStatus_Low': '0', 'QAStatus_Medium': '0', 'Gene_BRCA1': '1', 'Gene_BRCA2': '0', 'Gene_RAD51D': '0', 'Gene_Unlisted': '0', 'Y-Predict': '0'}\n",
      "{'_id': ObjectId('64cf6523f74a0b739e061657'), 'Run': '11', 'Purity': '0.0', 'MIDS': '2', 'TotalReads(M)': '21.8', 'lpWGSReads(M)': '15.7', 'TargetPanelReads(M)': '6.1', '%ReadslpWGS': '72.0', '%ReadsPanel': '28.0', '1000x': '4.0', '500x': '4.0', '200x': '4.0', '100x': '4.0', '50x': '4.0', '25x': '4.0', 'DupFrac': '86.0', 'LowCovRegions': '1', 'PurityPloidyRatio': '0.0', 'ResNoise': '0.14', 'SignalNoiseRatio': '1.1', '%VariantFraction': '17.3', 'QAStatus_High': '0', 'QAStatus_Low': '0', 'QAStatus_Medium': '1', 'Gene_BRCA1': '1', 'Gene_BRCA2': '0', 'Gene_RAD51D': '0', 'Gene_Unlisted': '0', 'Y-Predict': '1'}\n",
      "{'_id': ObjectId('64cf6523f74a0b739e061658'), 'Run': '5', 'Purity': '70.0', 'MIDS': '11', 'TotalReads(M)': '15.9', 'lpWGSReads(M)': '10.2', 'TargetPanelReads(M)': '5.7', '%ReadslpWGS': '64.0', '%ReadsPanel': '36.0', '1000x': '8.0', '500x': '8.0', '200x': '8.0', '100x': '8.0', '50x': '8.0', '25x': '8.0', 'DupFrac': '87.0', 'LowCovRegions': '7', 'PurityPloidyRatio': '0.33', 'ResNoise': '0.08', 'SignalNoiseRatio': '2.48', '%VariantFraction': '0.0', 'QAStatus_High': '1', 'QAStatus_Low': '0', 'QAStatus_Medium': '0', 'Gene_BRCA1': '0', 'Gene_BRCA2': '0', 'Gene_RAD51D': '0', 'Gene_Unlisted': '1', 'Y-Predict': '1'}\n",
      "{'_id': ObjectId('64cf6523f74a0b739e061659'), 'Run': '11', 'Purity': '0.0', 'MIDS': '17', 'TotalReads(M)': '18.7', 'lpWGSReads(M)': '14.7', 'TargetPanelReads(M)': '4.0', '%ReadslpWGS': '79.0', '%ReadsPanel': '21.0', '1000x': '1.0', '500x': '1.0', '200x': '1.0', '100x': '1.0', '50x': '1.0', '25x': '1.0', 'DupFrac': '81.0', 'LowCovRegions': '3', 'PurityPloidyRatio': '0.0', 'ResNoise': '0.18', 'SignalNoiseRatio': '1.78', '%VariantFraction': '0.0', 'QAStatus_High': '0', 'QAStatus_Low': '1', 'QAStatus_Medium': '0', 'Gene_BRCA1': '0', 'Gene_BRCA2': '0', 'Gene_RAD51D': '0', 'Gene_Unlisted': '1', 'Y-Predict': '0'}\n",
      "{'_id': ObjectId('64cf6523f74a0b739e06165a'), 'Run': '6', 'Purity': '30.0', 'MIDS': '18', 'TotalReads(M)': '16.5', 'lpWGSReads(M)': '11.1', 'TargetPanelReads(M)': '5.4', '%ReadslpWGS': '67.0', '%ReadsPanel': '33.0', '1000x': '56.0', '500x': '56.0', '200x': '56.0', '100x': '56.0', '50x': '56.0', '25x': '56.0', 'DupFrac': '74.0', 'LowCovRegions': '0', 'PurityPloidyRatio': '0.12', 'ResNoise': '0.09', 'SignalNoiseRatio': '1.88', '%VariantFraction': '0.0', 'QAStatus_High': '1', 'QAStatus_Low': '0', 'QAStatus_Medium': '0', 'Gene_BRCA1': '0', 'Gene_BRCA2': '0', 'Gene_RAD51D': '0', 'Gene_Unlisted': '1', 'Y-Predict': '1'}\n",
      "{'_id': ObjectId('64cf6523f74a0b739e06165b'), 'Run': '12', 'Purity': '95.0', 'MIDS': '19', 'TotalReads(M)': '19.0', 'lpWGSReads(M)': '14.7', 'TargetPanelReads(M)': '4.3', '%ReadslpWGS': '77.0', '%ReadsPanel': '23.0', '1000x': '14.0', '500x': '14.0', '200x': '14.0', '100x': '14.0', '50x': '14.0', '25x': '14.0', 'DupFrac': '71.0', 'LowCovRegions': '1', 'PurityPloidyRatio': '0.47', 'ResNoise': '0.17', 'SignalNoiseRatio': '1.27', '%VariantFraction': '0.0', 'QAStatus_High': '1', 'QAStatus_Low': '0', 'QAStatus_Medium': '0', 'Gene_BRCA1': '0', 'Gene_BRCA2': '0', 'Gene_RAD51D': '0', 'Gene_Unlisted': '1', 'Y-Predict': '1'}\n",
      "{'_id': ObjectId('64cf6523f74a0b739e06165c'), 'Run': '12', 'Purity': '50.0', 'MIDS': '15', 'TotalReads(M)': '20.9', 'lpWGSReads(M)': '13.9', 'TargetPanelReads(M)': '7.0', '%ReadslpWGS': '67.0', '%ReadsPanel': '33.0', '1000x': '98.0', '500x': '98.0', '200x': '98.0', '100x': '98.0', '50x': '98.0', '25x': '98.0', 'DupFrac': '62.0', 'LowCovRegions': '0', 'PurityPloidyRatio': '0.23', 'ResNoise': '0.09', 'SignalNoiseRatio': '2.98', '%VariantFraction': '0.0', 'QAStatus_High': '1', 'QAStatus_Low': '0', 'QAStatus_Medium': '0', 'Gene_BRCA1': '0', 'Gene_BRCA2': '0', 'Gene_RAD51D': '0', 'Gene_Unlisted': '1', 'Y-Predict': '1'}\n",
      "{'_id': ObjectId('64cf6523f74a0b739e06165d'), 'Run': '1', 'Purity': '20.0', 'MIDS': '4', 'TotalReads(M)': '9.6', 'lpWGSReads(M)': '6.1', 'TargetPanelReads(M)': '3.5', '%ReadslpWGS': '64.0', '%ReadsPanel': '36.0', '1000x': '41.0', '500x': '41.0', '200x': '41.0', '100x': '41.0', '50x': '41.0', '25x': '41.0', 'DupFrac': '58.0', 'LowCovRegions': '7', 'PurityPloidyRatio': '0.15', 'ResNoise': '0.1', 'SignalNoiseRatio': '1.64', '%VariantFraction': '0.0', 'QAStatus_High': '1', 'QAStatus_Low': '0', 'QAStatus_Medium': '0', 'Gene_BRCA1': '0', 'Gene_BRCA2': '0', 'Gene_RAD51D': '0', 'Gene_Unlisted': '1', 'Y-Predict': '1'}\n",
      "{'_id': ObjectId('64cf6523f74a0b739e06165e'), 'Run': '3', 'Purity': '30.0', 'MIDS': '24', 'TotalReads(M)': '26.2', 'lpWGSReads(M)': '24.2', 'TargetPanelReads(M)': '2.0', '%ReadslpWGS': '92.0', '%ReadsPanel': '8.0', '1000x': '13.0', '500x': '13.0', '200x': '13.0', '100x': '13.0', '50x': '13.0', '25x': '13.0', 'DupFrac': '54.0', 'LowCovRegions': '74', 'PurityPloidyRatio': '0.23', 'ResNoise': '0.05', 'SignalNoiseRatio': '3.65', '%VariantFraction': '0.0', 'QAStatus_High': '1', 'QAStatus_Low': '0', 'QAStatus_Medium': '0', 'Gene_BRCA1': '0', 'Gene_BRCA2': '0', 'Gene_RAD51D': '0', 'Gene_Unlisted': '1', 'Y-Predict': '0'}\n",
      "{'_id': ObjectId('64cf6523f74a0b739e06165f'), 'Run': '11', 'Purity': '0.0', 'MIDS': '7', 'TotalReads(M)': '16.2', 'lpWGSReads(M)': '12.7', 'TargetPanelReads(M)': '3.5', '%ReadslpWGS': '79.0', '%ReadsPanel': '21.0', '1000x': '2.0', '500x': '2.0', '200x': '2.0', '100x': '2.0', '50x': '2.0', '25x': '2.0', 'DupFrac': '75.0', 'LowCovRegions': '6', 'PurityPloidyRatio': '0.23', 'ResNoise': '0.1', 'SignalNoiseRatio': '3.24', '%VariantFraction': '0.0', 'QAStatus_High': '1', 'QAStatus_Low': '0', 'QAStatus_Medium': '0', 'Gene_BRCA1': '0', 'Gene_BRCA2': '0', 'Gene_RAD51D': '0', 'Gene_Unlisted': '1', 'Y-Predict': '1'}\n",
      "{'_id': ObjectId('64cf6523f74a0b739e061660'), 'Run': '1', 'Purity': '60.0', 'MIDS': '7', 'TotalReads(M)': '8.6', 'lpWGSReads(M)': '5.0', 'TargetPanelReads(M)': '3.6', '%ReadslpWGS': '58.0', '%ReadsPanel': '42.0', '1000x': '2.0', '500x': '2.0', '200x': '2.0', '100x': '2.0', '50x': '2.0', '25x': '2.0', 'DupFrac': '81.0', 'LowCovRegions': '15', 'PurityPloidyRatio': '0.2', 'ResNoise': '0.11', 'SignalNoiseRatio': '2.18', '%VariantFraction': '0.0', 'QAStatus_High': '1', 'QAStatus_Low': '0', 'QAStatus_Medium': '0', 'Gene_BRCA1': '0', 'Gene_BRCA2': '0', 'Gene_RAD51D': '0', 'Gene_Unlisted': '1', 'Y-Predict': '1'}\n",
      "{'_id': ObjectId('64cf6523f74a0b739e061661'), 'Run': '11', 'Purity': '0.0', 'MIDS': '8', 'TotalReads(M)': '20.0', 'lpWGSReads(M)': '15.0', 'TargetPanelReads(M)': '5.0', '%ReadslpWGS': '75.0', '%ReadsPanel': '25.0', '1000x': '53.0', '500x': '53.0', '200x': '53.0', '100x': '53.0', '50x': '53.0', '25x': '53.0', 'DupFrac': '68.0', 'LowCovRegions': '1', 'PurityPloidyRatio': '0.0', 'ResNoise': '0.1', 'SignalNoiseRatio': '2.69', '%VariantFraction': '0.0', 'QAStatus_High': '0', 'QAStatus_Low': '0', 'QAStatus_Medium': '1', 'Gene_BRCA1': '0', 'Gene_BRCA2': '0', 'Gene_RAD51D': '0', 'Gene_Unlisted': '1', 'Y-Predict': '1'}\n"
     ]
    }
   ],
   "source": [
    "print(db.list_collection_names())\n",
    "\n",
    "for document in test_data.find():\n",
    "    print(document)\n"
   ]
  }
 ],
 "metadata": {
  "kernelspec": {
   "display_name": "myenvpandas",
   "language": "python",
   "name": "python3"
  },
  "language_info": {
   "codemirror_mode": {
    "name": "ipython",
    "version": 3
   },
   "file_extension": ".py",
   "mimetype": "text/x-python",
   "name": "python",
   "nbconvert_exporter": "python",
   "pygments_lexer": "ipython3",
   "version": "3.11.3"
  }
 },
 "nbformat": 4,
 "nbformat_minor": 5
}
