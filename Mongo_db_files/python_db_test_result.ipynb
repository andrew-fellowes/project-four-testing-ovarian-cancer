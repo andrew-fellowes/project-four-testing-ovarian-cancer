{
 "cells": [
  {
   "cell_type": "markdown",
   "id": "a659381b",
   "metadata": {},
   "source": [
    "# Model Test Results by Epoch"
   ]
  },
  {
   "cell_type": "code",
   "execution_count": null,
   "id": "d3b3a05d",
   "metadata": {},
   "outputs": [],
   "source": [
    "# Module used to connect Python with MongoDB\n",
    "from pymongo import MongoClient\n",
    "from datetime import datetime\n",
    "import json\n",
    "import pandas as pd\n",
    "from pprint import pprint\n",
    "import os\n",
    "import csv\n",
    "import re"
   ]
  },
  {
   "cell_type": "code",
   "execution_count": 207,
   "id": "3997cd6e",
   "metadata": {},
   "outputs": [],
   "source": [
    "# Create an instance of MongoClient\n",
    "mongo = MongoClient(port=27017)"
   ]
  },
  {
   "cell_type": "code",
   "execution_count": 208,
   "id": "d8bc7419",
   "metadata": {},
   "outputs": [
    {
     "name": "stdout",
     "output_type": "stream",
     "text": [
      "['admin', 'autosaurus', 'config', 'fruits_db', 'local', 'met', 'petsitly_marketing', 'test', 'travel_db', 'uk_food']\n"
     ]
    }
   ],
   "source": [
    "# confirm that our new database was created\n",
    "print(mongo.list_database_names())"
   ]
  },
  {
   "cell_type": "code",
   "execution_count": 209,
   "id": "3f2d18da",
   "metadata": {},
   "outputs": [],
   "source": [
    "# assign the database to a variable name\n",
    "db = mongo['sofia_test_model']"
   ]
  },
  {
   "cell_type": "code",
   "execution_count": 210,
   "id": "024f9bcb",
   "metadata": {},
   "outputs": [],
   "source": [
    "# assign the collection to a variable\n",
    "epoch_test_results = db['epoch_test_results']"
   ]
  },
  {
   "cell_type": "code",
   "execution_count": 223,
   "id": "2de68f98",
   "metadata": {},
   "outputs": [
    {
     "name": "stdout",
     "output_type": "stream",
     "text": [
      "Data imported successfully into MongoDB.\n"
     ]
    }
   ],
   "source": [
    "# Step 2: Read and modify JSON data\n",
    "\n",
    "json_dir = 'Resources_MongoDB'\n",
    "\n",
    "# Prompt the user to enter the filename they want to import\n",
    "file_to_import = input(\"Enter the filename you want to import (e.g., file1.json): \")\n",
    "\n",
    "\n",
    "all_data = []\n",
    "for file_name in os.listdir(json_dir):\n",
    "\n",
    "    if file_name == file_to_import:\n",
    "\n",
    "        if file_name.endswith('.json'):\n",
    "\n",
    "            match = re.search(r'(\\d{8})_(\\d{6})', file_name)  # Extract date and timestamp using regex expression\n",
    "\n",
    "            if match:\n",
    "                date_str, time_str = match.groups()\n",
    "\n",
    "                try:\n",
    "                    # Convert the datetime object to a formatted string\n",
    "                    date_str_format = f\"{date_str}_{time_str}\"\n",
    "\n",
    "                    with open(os.path.join(json_dir, file_name), 'r') as file:\n",
    "                        json_data = json.load(file)\n",
    "\n",
    "                    version_number = 1  # Define the version number\n",
    "\n",
    "                    # Create a dictionary to hold epoch results\n",
    "                    epoch_results = {}\n",
    "\n",
    "                    for item in json_data:\n",
    "                        # Check if 'epoch', 'accuracy', and 'loss' keys exist in the item dictionary\n",
    "                        if 'epoch' in item and 'accuracy' in item and 'loss' in item:\n",
    "                            epoch_value = item['epoch']\n",
    "                            accuracy_value = float(item['accuracy'])  # Convert accuracy to float\n",
    "                            loss_value = float(item['loss'])  # Convert loss to float\n",
    "\n",
    "                            epoch_results[epoch_value] = {\n",
    "                                'accuracy': accuracy_value,\n",
    "                                'loss': loss_value\n",
    "                            }\n",
    "\n",
    "                    formatted_data = {\n",
    "                        \"version\": version_number,\n",
    "                        \"date\": date_str_format,\n",
    "                        \"epoch\": epoch_results\n",
    "                    }\n",
    "\n",
    "                    all_data.append(formatted_data)\n",
    "                except ValueError:\n",
    "                    print(f\"Warning: File name {file_name} does not contain a valid date and timestamp in the format 'YYYYMMDD_HHMMSS'. Skipping...\")\n",
    "                    continue\n",
    "        else:\n",
    "            print(\"Error: Invalid file format. Only JSON files are allowed.\")\n",
    "\n",
    "# Step 3: Insert the modified JSON data into MongoDB\n",
    "epoch_test_results.insert_many(all_data)\n",
    "\n",
    "print(\"Data imported successfully into MongoDB.\")"
   ]
  },
  {
   "cell_type": "code",
   "execution_count": 224,
   "id": "8e0f6908",
   "metadata": {},
   "outputs": [
    {
     "name": "stdout",
     "output_type": "stream",
     "text": [
      "['epoch_test_results']\n",
      "{'_id': ObjectId('64cf42358355abc507ce18d9'), 'version': 1, 'date': '20230806_100824', 'epoch': {'5': {'accuracy': 0.8198198080062866, 'loss': 0.6587201952934265}, '10': {'accuracy': 0.8018018007278442, 'loss': 0.6192963123321533}, '15': {'accuracy': 0.8018018007278442, 'loss': 0.583991527557373}, '20': {'accuracy': 0.8018018007278442, 'loss': 0.5513034462928772}, '25': {'accuracy': 0.8018018007278442, 'loss': 0.5240681171417236}, '30': {'accuracy': 0.8018018007278442, 'loss': 0.5032863616943359}, '35': {'accuracy': 0.8018018007278442, 'loss': 0.4848848581314087}, '40': {'accuracy': 0.8018018007278442, 'loss': 0.47161656618118286}, '45': {'accuracy': 0.8108108043670654, 'loss': 0.4609447121620178}, '50': {'accuracy': 0.8198198080062866, 'loss': 0.45186224579811096}, '55': {'accuracy': 0.8198198080062866, 'loss': 0.4415457844734192}, '60': {'accuracy': 0.8198198080062866, 'loss': 0.4307141602039337}, '65': {'accuracy': 0.8198198080062866, 'loss': 0.4212069511413574}, '70': {'accuracy': 0.8288288116455078, 'loss': 0.41249677538871765}, '75': {'accuracy': 0.837837815284729, 'loss': 0.40380385518074036}, '80': {'accuracy': 0.8558558821678162, 'loss': 0.3956049978733063}, '85': {'accuracy': 0.8558558821678162, 'loss': 0.3884178400039673}, '90': {'accuracy': 0.8558558821678162, 'loss': 0.38169822096824646}, '95': {'accuracy': 0.8558558821678162, 'loss': 0.3756119906902313}, '100': {'accuracy': 0.8648648858070374, 'loss': 0.3702228367328644}}}\n"
     ]
    }
   ],
   "source": [
    "\n",
    "print(db.list_collection_names())\n",
    "\n",
    "for document in epoch_test_results.find():\n",
    "    print(document)\n",
    "\n",
    "\n",
    "#db.epoch_test_results.drop()\n"
   ]
  },
  {
   "cell_type": "code",
   "execution_count": 225,
   "id": "1b9f02c5",
   "metadata": {},
   "outputs": [
    {
     "name": "stdout",
     "output_type": "stream",
     "text": [
      "Deleted 0 records with empty 'epoch' dictionary.\n",
      "{'_id': ObjectId('64cf42358355abc507ce18d9'),\n",
      " 'date': '20230806_100824',\n",
      " 'epoch': {'10': {'accuracy': 0.8018018007278442, 'loss': 0.6192963123321533},\n",
      "           '100': {'accuracy': 0.8648648858070374, 'loss': 0.3702228367328644},\n",
      "           '15': {'accuracy': 0.8018018007278442, 'loss': 0.583991527557373},\n",
      "           '20': {'accuracy': 0.8018018007278442, 'loss': 0.5513034462928772},\n",
      "           '25': {'accuracy': 0.8018018007278442, 'loss': 0.5240681171417236},\n",
      "           '30': {'accuracy': 0.8018018007278442, 'loss': 0.5032863616943359},\n",
      "           '35': {'accuracy': 0.8018018007278442, 'loss': 0.4848848581314087},\n",
      "           '40': {'accuracy': 0.8018018007278442, 'loss': 0.47161656618118286},\n",
      "           '45': {'accuracy': 0.8108108043670654, 'loss': 0.4609447121620178},\n",
      "           '5': {'accuracy': 0.8198198080062866, 'loss': 0.6587201952934265},\n",
      "           '50': {'accuracy': 0.8198198080062866, 'loss': 0.45186224579811096},\n",
      "           '55': {'accuracy': 0.8198198080062866, 'loss': 0.4415457844734192},\n",
      "           '60': {'accuracy': 0.8198198080062866, 'loss': 0.4307141602039337},\n",
      "           '65': {'accuracy': 0.8198198080062866, 'loss': 0.4212069511413574},\n",
      "           '70': {'accuracy': 0.8288288116455078, 'loss': 0.41249677538871765},\n",
      "           '75': {'accuracy': 0.837837815284729, 'loss': 0.40380385518074036},\n",
      "           '80': {'accuracy': 0.8558558821678162, 'loss': 0.3956049978733063},\n",
      "           '85': {'accuracy': 0.8558558821678162, 'loss': 0.3884178400039673},\n",
      "           '90': {'accuracy': 0.8558558821678162, 'loss': 0.38169822096824646},\n",
      "           '95': {'accuracy': 0.8558558821678162, 'loss': 0.3756119906902313}},\n",
      " 'version': 1}\n"
     ]
    }
   ],
   "source": [
    "\n",
    "# Step 2: Check the result\n",
    "print(f\"Deleted {result.deleted_count} records with empty 'epoch' dictionary.\")\n",
    "\n",
    "for document in epoch_test_results.find():\n",
    "    pprint(document)"
   ]
  }
 ],
 "metadata": {
  "kernelspec": {
   "display_name": "myenvpandas",
   "language": "python",
   "name": "python3"
  },
  "language_info": {
   "codemirror_mode": {
    "name": "ipython",
    "version": 3
   },
   "file_extension": ".py",
   "mimetype": "text/x-python",
   "name": "python",
   "nbconvert_exporter": "python",
   "pygments_lexer": "ipython3",
   "version": "3.11.3"
  }
 },
 "nbformat": 4,
 "nbformat_minor": 5
}
